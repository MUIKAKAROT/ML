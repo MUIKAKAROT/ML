{
 "cells": [
  {
   "cell_type": "code",
   "execution_count": 1,
   "id": "2b5c87ad",
   "metadata": {},
   "outputs": [
    {
     "data": {
      "text/plain": [
       "'C:\\\\Users\\\\201b1'"
      ]
     },
     "execution_count": 1,
     "metadata": {},
     "output_type": "execute_result"
    }
   ],
   "source": [
    "pwd"
   ]
  },
  {
   "cell_type": "code",
   "execution_count": 2,
   "id": "628c802b",
   "metadata": {},
   "outputs": [],
   "source": [
    "import pandas as pd\n",
    "import numpy as np \n",
    "import seaborn as sns\n",
    "import matplotlib.pyplot as plt\n"
   ]
  },
  {
   "cell_type": "code",
   "execution_count": 3,
   "id": "743011dc",
   "metadata": {},
   "outputs": [],
   "source": [
    "df =  pd.read_csv('House_Price.csv')"
   ]
  },
  {
   "cell_type": "code",
   "execution_count": 4,
   "id": "cebcf00d",
   "metadata": {},
   "outputs": [
    {
     "data": {
      "text/html": [
       "<div>\n",
       "<style scoped>\n",
       "    .dataframe tbody tr th:only-of-type {\n",
       "        vertical-align: middle;\n",
       "    }\n",
       "\n",
       "    .dataframe tbody tr th {\n",
       "        vertical-align: top;\n",
       "    }\n",
       "\n",
       "    .dataframe thead th {\n",
       "        text-align: right;\n",
       "    }\n",
       "</style>\n",
       "<table border=\"1\" class=\"dataframe\">\n",
       "  <thead>\n",
       "    <tr style=\"text-align: right;\">\n",
       "      <th></th>\n",
       "      <th>price</th>\n",
       "      <th>crime_rate</th>\n",
       "      <th>resid_area</th>\n",
       "      <th>air_qual</th>\n",
       "      <th>room_num</th>\n",
       "      <th>age</th>\n",
       "      <th>dist1</th>\n",
       "      <th>dist2</th>\n",
       "      <th>dist3</th>\n",
       "      <th>dist4</th>\n",
       "      <th>teachers</th>\n",
       "      <th>poor_prop</th>\n",
       "      <th>airport</th>\n",
       "      <th>n_hos_beds</th>\n",
       "      <th>n_hot_rooms</th>\n",
       "      <th>waterbody</th>\n",
       "      <th>rainfall</th>\n",
       "      <th>bus_ter</th>\n",
       "      <th>parks</th>\n",
       "    </tr>\n",
       "  </thead>\n",
       "  <tbody>\n",
       "    <tr>\n",
       "      <th>0</th>\n",
       "      <td>24.0</td>\n",
       "      <td>0.00632</td>\n",
       "      <td>32.31</td>\n",
       "      <td>0.538</td>\n",
       "      <td>6.575</td>\n",
       "      <td>65.2</td>\n",
       "      <td>4.35</td>\n",
       "      <td>3.81</td>\n",
       "      <td>4.18</td>\n",
       "      <td>4.01</td>\n",
       "      <td>24.7</td>\n",
       "      <td>4.98</td>\n",
       "      <td>YES</td>\n",
       "      <td>5.480</td>\n",
       "      <td>11.1920</td>\n",
       "      <td>River</td>\n",
       "      <td>23</td>\n",
       "      <td>YES</td>\n",
       "      <td>0.049347</td>\n",
       "    </tr>\n",
       "    <tr>\n",
       "      <th>1</th>\n",
       "      <td>21.6</td>\n",
       "      <td>0.02731</td>\n",
       "      <td>37.07</td>\n",
       "      <td>0.469</td>\n",
       "      <td>6.421</td>\n",
       "      <td>78.9</td>\n",
       "      <td>4.99</td>\n",
       "      <td>4.70</td>\n",
       "      <td>5.12</td>\n",
       "      <td>5.06</td>\n",
       "      <td>22.2</td>\n",
       "      <td>9.14</td>\n",
       "      <td>NO</td>\n",
       "      <td>7.332</td>\n",
       "      <td>12.1728</td>\n",
       "      <td>Lake</td>\n",
       "      <td>42</td>\n",
       "      <td>YES</td>\n",
       "      <td>0.046146</td>\n",
       "    </tr>\n",
       "    <tr>\n",
       "      <th>2</th>\n",
       "      <td>34.7</td>\n",
       "      <td>0.02729</td>\n",
       "      <td>37.07</td>\n",
       "      <td>0.469</td>\n",
       "      <td>7.185</td>\n",
       "      <td>61.1</td>\n",
       "      <td>5.03</td>\n",
       "      <td>4.86</td>\n",
       "      <td>5.01</td>\n",
       "      <td>4.97</td>\n",
       "      <td>22.2</td>\n",
       "      <td>4.03</td>\n",
       "      <td>NO</td>\n",
       "      <td>7.394</td>\n",
       "      <td>101.1200</td>\n",
       "      <td>None</td>\n",
       "      <td>38</td>\n",
       "      <td>YES</td>\n",
       "      <td>0.045764</td>\n",
       "    </tr>\n",
       "    <tr>\n",
       "      <th>3</th>\n",
       "      <td>33.4</td>\n",
       "      <td>0.03237</td>\n",
       "      <td>32.18</td>\n",
       "      <td>0.458</td>\n",
       "      <td>6.998</td>\n",
       "      <td>45.8</td>\n",
       "      <td>6.21</td>\n",
       "      <td>5.93</td>\n",
       "      <td>6.16</td>\n",
       "      <td>5.96</td>\n",
       "      <td>21.3</td>\n",
       "      <td>2.94</td>\n",
       "      <td>YES</td>\n",
       "      <td>9.268</td>\n",
       "      <td>11.2672</td>\n",
       "      <td>Lake</td>\n",
       "      <td>45</td>\n",
       "      <td>YES</td>\n",
       "      <td>0.047151</td>\n",
       "    </tr>\n",
       "    <tr>\n",
       "      <th>4</th>\n",
       "      <td>36.2</td>\n",
       "      <td>0.06905</td>\n",
       "      <td>32.18</td>\n",
       "      <td>0.458</td>\n",
       "      <td>7.147</td>\n",
       "      <td>54.2</td>\n",
       "      <td>6.16</td>\n",
       "      <td>5.86</td>\n",
       "      <td>6.37</td>\n",
       "      <td>5.86</td>\n",
       "      <td>21.3</td>\n",
       "      <td>5.33</td>\n",
       "      <td>NO</td>\n",
       "      <td>8.824</td>\n",
       "      <td>11.2896</td>\n",
       "      <td>Lake</td>\n",
       "      <td>55</td>\n",
       "      <td>YES</td>\n",
       "      <td>0.039474</td>\n",
       "    </tr>\n",
       "  </tbody>\n",
       "</table>\n",
       "</div>"
      ],
      "text/plain": [
       "   price  crime_rate  resid_area  air_qual  room_num   age  dist1  dist2  \\\n",
       "0   24.0     0.00632       32.31     0.538     6.575  65.2   4.35   3.81   \n",
       "1   21.6     0.02731       37.07     0.469     6.421  78.9   4.99   4.70   \n",
       "2   34.7     0.02729       37.07     0.469     7.185  61.1   5.03   4.86   \n",
       "3   33.4     0.03237       32.18     0.458     6.998  45.8   6.21   5.93   \n",
       "4   36.2     0.06905       32.18     0.458     7.147  54.2   6.16   5.86   \n",
       "\n",
       "   dist3  dist4  teachers  poor_prop airport  n_hos_beds  n_hot_rooms  \\\n",
       "0   4.18   4.01      24.7       4.98     YES       5.480      11.1920   \n",
       "1   5.12   5.06      22.2       9.14      NO       7.332      12.1728   \n",
       "2   5.01   4.97      22.2       4.03      NO       7.394     101.1200   \n",
       "3   6.16   5.96      21.3       2.94     YES       9.268      11.2672   \n",
       "4   6.37   5.86      21.3       5.33      NO       8.824      11.2896   \n",
       "\n",
       "  waterbody  rainfall bus_ter     parks  \n",
       "0     River        23     YES  0.049347  \n",
       "1      Lake        42     YES  0.046146  \n",
       "2      None        38     YES  0.045764  \n",
       "3      Lake        45     YES  0.047151  \n",
       "4      Lake        55     YES  0.039474  "
      ]
     },
     "execution_count": 4,
     "metadata": {},
     "output_type": "execute_result"
    }
   ],
   "source": [
    "df.head()"
   ]
  },
  {
   "cell_type": "code",
   "execution_count": 5,
   "id": "80a04888",
   "metadata": {},
   "outputs": [
    {
     "data": {
      "text/plain": [
       "(506, 19)"
      ]
     },
     "execution_count": 5,
     "metadata": {},
     "output_type": "execute_result"
    }
   ],
   "source": [
    "df.shape"
   ]
  },
  {
   "cell_type": "code",
   "execution_count": 6,
   "id": "5192078d",
   "metadata": {},
   "outputs": [
    {
     "name": "stdout",
     "output_type": "stream",
     "text": [
      "<class 'pandas.core.frame.DataFrame'>\n",
      "RangeIndex: 506 entries, 0 to 505\n",
      "Data columns (total 19 columns):\n",
      " #   Column       Non-Null Count  Dtype  \n",
      "---  ------       --------------  -----  \n",
      " 0   price        506 non-null    float64\n",
      " 1   crime_rate   506 non-null    float64\n",
      " 2   resid_area   506 non-null    float64\n",
      " 3   air_qual     506 non-null    float64\n",
      " 4   room_num     506 non-null    float64\n",
      " 5   age          506 non-null    float64\n",
      " 6   dist1        506 non-null    float64\n",
      " 7   dist2        506 non-null    float64\n",
      " 8   dist3        506 non-null    float64\n",
      " 9   dist4        506 non-null    float64\n",
      " 10  teachers     506 non-null    float64\n",
      " 11  poor_prop    506 non-null    float64\n",
      " 12  airport      506 non-null    object \n",
      " 13  n_hos_beds   498 non-null    float64\n",
      " 14  n_hot_rooms  506 non-null    float64\n",
      " 15  waterbody    506 non-null    object \n",
      " 16  rainfall     506 non-null    int64  \n",
      " 17  bus_ter      506 non-null    object \n",
      " 18  parks        506 non-null    float64\n",
      "dtypes: float64(15), int64(1), object(3)\n",
      "memory usage: 75.2+ KB\n"
     ]
    }
   ],
   "source": [
    "df.info()"
   ]
  },
  {
   "cell_type": "code",
   "execution_count": 7,
   "id": "32f53cea",
   "metadata": {},
   "outputs": [
    {
     "data": {
      "text/html": [
       "<div>\n",
       "<style scoped>\n",
       "    .dataframe tbody tr th:only-of-type {\n",
       "        vertical-align: middle;\n",
       "    }\n",
       "\n",
       "    .dataframe tbody tr th {\n",
       "        vertical-align: top;\n",
       "    }\n",
       "\n",
       "    .dataframe thead th {\n",
       "        text-align: right;\n",
       "    }\n",
       "</style>\n",
       "<table border=\"1\" class=\"dataframe\">\n",
       "  <thead>\n",
       "    <tr style=\"text-align: right;\">\n",
       "      <th></th>\n",
       "      <th>price</th>\n",
       "      <th>crime_rate</th>\n",
       "      <th>resid_area</th>\n",
       "      <th>air_qual</th>\n",
       "      <th>room_num</th>\n",
       "      <th>age</th>\n",
       "      <th>dist1</th>\n",
       "      <th>dist2</th>\n",
       "      <th>dist3</th>\n",
       "      <th>dist4</th>\n",
       "      <th>teachers</th>\n",
       "      <th>poor_prop</th>\n",
       "      <th>n_hos_beds</th>\n",
       "      <th>n_hot_rooms</th>\n",
       "      <th>rainfall</th>\n",
       "      <th>parks</th>\n",
       "    </tr>\n",
       "  </thead>\n",
       "  <tbody>\n",
       "    <tr>\n",
       "      <th>count</th>\n",
       "      <td>506.000000</td>\n",
       "      <td>506.000000</td>\n",
       "      <td>506.000000</td>\n",
       "      <td>506.000000</td>\n",
       "      <td>506.000000</td>\n",
       "      <td>506.000000</td>\n",
       "      <td>506.000000</td>\n",
       "      <td>506.000000</td>\n",
       "      <td>506.000000</td>\n",
       "      <td>506.000000</td>\n",
       "      <td>506.000000</td>\n",
       "      <td>506.000000</td>\n",
       "      <td>498.000000</td>\n",
       "      <td>506.000000</td>\n",
       "      <td>506.000000</td>\n",
       "      <td>506.000000</td>\n",
       "    </tr>\n",
       "    <tr>\n",
       "      <th>mean</th>\n",
       "      <td>22.528854</td>\n",
       "      <td>3.613524</td>\n",
       "      <td>41.136779</td>\n",
       "      <td>0.554695</td>\n",
       "      <td>6.284634</td>\n",
       "      <td>68.574901</td>\n",
       "      <td>3.971996</td>\n",
       "      <td>3.628775</td>\n",
       "      <td>3.960672</td>\n",
       "      <td>3.618972</td>\n",
       "      <td>21.544466</td>\n",
       "      <td>12.653063</td>\n",
       "      <td>7.899767</td>\n",
       "      <td>13.041605</td>\n",
       "      <td>39.181818</td>\n",
       "      <td>0.054454</td>\n",
       "    </tr>\n",
       "    <tr>\n",
       "      <th>std</th>\n",
       "      <td>9.182176</td>\n",
       "      <td>8.601545</td>\n",
       "      <td>6.860353</td>\n",
       "      <td>0.115878</td>\n",
       "      <td>0.702617</td>\n",
       "      <td>28.148861</td>\n",
       "      <td>2.108532</td>\n",
       "      <td>2.108580</td>\n",
       "      <td>2.119797</td>\n",
       "      <td>2.099203</td>\n",
       "      <td>2.164946</td>\n",
       "      <td>7.141062</td>\n",
       "      <td>1.476683</td>\n",
       "      <td>5.238957</td>\n",
       "      <td>12.513697</td>\n",
       "      <td>0.010632</td>\n",
       "    </tr>\n",
       "    <tr>\n",
       "      <th>min</th>\n",
       "      <td>5.000000</td>\n",
       "      <td>0.006320</td>\n",
       "      <td>30.460000</td>\n",
       "      <td>0.385000</td>\n",
       "      <td>3.561000</td>\n",
       "      <td>2.900000</td>\n",
       "      <td>1.130000</td>\n",
       "      <td>0.920000</td>\n",
       "      <td>1.150000</td>\n",
       "      <td>0.730000</td>\n",
       "      <td>18.000000</td>\n",
       "      <td>1.730000</td>\n",
       "      <td>5.268000</td>\n",
       "      <td>10.057600</td>\n",
       "      <td>3.000000</td>\n",
       "      <td>0.033292</td>\n",
       "    </tr>\n",
       "    <tr>\n",
       "      <th>25%</th>\n",
       "      <td>17.025000</td>\n",
       "      <td>0.082045</td>\n",
       "      <td>35.190000</td>\n",
       "      <td>0.449000</td>\n",
       "      <td>5.885500</td>\n",
       "      <td>45.025000</td>\n",
       "      <td>2.270000</td>\n",
       "      <td>1.940000</td>\n",
       "      <td>2.232500</td>\n",
       "      <td>1.940000</td>\n",
       "      <td>19.800000</td>\n",
       "      <td>6.950000</td>\n",
       "      <td>6.634500</td>\n",
       "      <td>11.189800</td>\n",
       "      <td>28.000000</td>\n",
       "      <td>0.046464</td>\n",
       "    </tr>\n",
       "    <tr>\n",
       "      <th>50%</th>\n",
       "      <td>21.200000</td>\n",
       "      <td>0.256510</td>\n",
       "      <td>39.690000</td>\n",
       "      <td>0.538000</td>\n",
       "      <td>6.208500</td>\n",
       "      <td>77.500000</td>\n",
       "      <td>3.385000</td>\n",
       "      <td>3.010000</td>\n",
       "      <td>3.375000</td>\n",
       "      <td>3.070000</td>\n",
       "      <td>20.950000</td>\n",
       "      <td>11.360000</td>\n",
       "      <td>7.999000</td>\n",
       "      <td>12.720000</td>\n",
       "      <td>39.000000</td>\n",
       "      <td>0.053507</td>\n",
       "    </tr>\n",
       "    <tr>\n",
       "      <th>75%</th>\n",
       "      <td>25.000000</td>\n",
       "      <td>3.677083</td>\n",
       "      <td>48.100000</td>\n",
       "      <td>0.624000</td>\n",
       "      <td>6.623500</td>\n",
       "      <td>94.075000</td>\n",
       "      <td>5.367500</td>\n",
       "      <td>4.992500</td>\n",
       "      <td>5.407500</td>\n",
       "      <td>4.985000</td>\n",
       "      <td>22.600000</td>\n",
       "      <td>16.955000</td>\n",
       "      <td>9.088000</td>\n",
       "      <td>14.170800</td>\n",
       "      <td>50.000000</td>\n",
       "      <td>0.061397</td>\n",
       "    </tr>\n",
       "    <tr>\n",
       "      <th>max</th>\n",
       "      <td>50.000000</td>\n",
       "      <td>88.976200</td>\n",
       "      <td>57.740000</td>\n",
       "      <td>0.871000</td>\n",
       "      <td>8.780000</td>\n",
       "      <td>100.000000</td>\n",
       "      <td>12.320000</td>\n",
       "      <td>11.930000</td>\n",
       "      <td>12.320000</td>\n",
       "      <td>11.940000</td>\n",
       "      <td>27.400000</td>\n",
       "      <td>37.970000</td>\n",
       "      <td>10.876000</td>\n",
       "      <td>101.120000</td>\n",
       "      <td>60.000000</td>\n",
       "      <td>0.086711</td>\n",
       "    </tr>\n",
       "  </tbody>\n",
       "</table>\n",
       "</div>"
      ],
      "text/plain": [
       "            price  crime_rate  resid_area    air_qual    room_num         age  \\\n",
       "count  506.000000  506.000000  506.000000  506.000000  506.000000  506.000000   \n",
       "mean    22.528854    3.613524   41.136779    0.554695    6.284634   68.574901   \n",
       "std      9.182176    8.601545    6.860353    0.115878    0.702617   28.148861   \n",
       "min      5.000000    0.006320   30.460000    0.385000    3.561000    2.900000   \n",
       "25%     17.025000    0.082045   35.190000    0.449000    5.885500   45.025000   \n",
       "50%     21.200000    0.256510   39.690000    0.538000    6.208500   77.500000   \n",
       "75%     25.000000    3.677083   48.100000    0.624000    6.623500   94.075000   \n",
       "max     50.000000   88.976200   57.740000    0.871000    8.780000  100.000000   \n",
       "\n",
       "            dist1       dist2       dist3       dist4    teachers   poor_prop  \\\n",
       "count  506.000000  506.000000  506.000000  506.000000  506.000000  506.000000   \n",
       "mean     3.971996    3.628775    3.960672    3.618972   21.544466   12.653063   \n",
       "std      2.108532    2.108580    2.119797    2.099203    2.164946    7.141062   \n",
       "min      1.130000    0.920000    1.150000    0.730000   18.000000    1.730000   \n",
       "25%      2.270000    1.940000    2.232500    1.940000   19.800000    6.950000   \n",
       "50%      3.385000    3.010000    3.375000    3.070000   20.950000   11.360000   \n",
       "75%      5.367500    4.992500    5.407500    4.985000   22.600000   16.955000   \n",
       "max     12.320000   11.930000   12.320000   11.940000   27.400000   37.970000   \n",
       "\n",
       "       n_hos_beds  n_hot_rooms    rainfall       parks  \n",
       "count  498.000000   506.000000  506.000000  506.000000  \n",
       "mean     7.899767    13.041605   39.181818    0.054454  \n",
       "std      1.476683     5.238957   12.513697    0.010632  \n",
       "min      5.268000    10.057600    3.000000    0.033292  \n",
       "25%      6.634500    11.189800   28.000000    0.046464  \n",
       "50%      7.999000    12.720000   39.000000    0.053507  \n",
       "75%      9.088000    14.170800   50.000000    0.061397  \n",
       "max     10.876000   101.120000   60.000000    0.086711  "
      ]
     },
     "execution_count": 7,
     "metadata": {},
     "output_type": "execute_result"
    }
   ],
   "source": [
    "df.describe()"
   ]
  },
  {
   "cell_type": "code",
   "execution_count": 8,
   "id": "74015f5c",
   "metadata": {},
   "outputs": [
    {
     "data": {
      "text/plain": [
       "<seaborn.axisgrid.JointGrid at 0x17a3fe35ee0>"
      ]
     },
     "execution_count": 8,
     "metadata": {},
     "output_type": "execute_result"
    },
    {
     "data": {
      "image/png": "[encoded data removed]",
      "text/plain": [
       "<Figure size 432x432 with 3 Axes>"
      ]
     },
     "metadata": {
      "needs_background": "light"
     },
     "output_type": "display_data"
    }
   ],
   "source": [
    "sns.jointplot(x='n_hot_rooms',y='price',data=df)"
   ]
  },
  {
   "cell_type": "code",
   "execution_count": 9,
   "id": "cea068b7",
   "metadata": {},
   "outputs": [
    {
     "data": {
      "text/plain": [
       "<seaborn.axisgrid.JointGrid at 0x17a4060d1f0>"
      ]
     },
     "execution_count": 9,
     "metadata": {},
     "output_type": "execute_result"
    },
    {
     "data": {
      "image/png": "[encoded data removed]",
      "text/plain": [
       "<Figure size 432x432 with 3 Axes>"
      ]
     },
     "metadata": {
      "needs_background": "light"
     },
     "output_type": "display_data"
    }
   ],
   "source": [
    "sns.jointplot(x='rainfall',y='price',data=df)"
   ]
  },
  {
   "cell_type": "code",
   "execution_count": 10,
   "id": "2d2a9409",
   "metadata": {},
   "outputs": [
    {
     "data": {
      "text/html": [
       "<div>\n",
       "<style scoped>\n",
       "    .dataframe tbody tr th:only-of-type {\n",
       "        vertical-align: middle;\n",
       "    }\n",
       "\n",
       "    .dataframe tbody tr th {\n",
       "        vertical-align: top;\n",
       "    }\n",
       "\n",
       "    .dataframe thead th {\n",
       "        text-align: right;\n",
       "    }\n",
       "</style>\n",
       "<table border=\"1\" class=\"dataframe\">\n",
       "  <thead>\n",
       "    <tr style=\"text-align: right;\">\n",
       "      <th></th>\n",
       "      <th>price</th>\n",
       "      <th>crime_rate</th>\n",
       "      <th>resid_area</th>\n",
       "      <th>air_qual</th>\n",
       "      <th>room_num</th>\n",
       "      <th>age</th>\n",
       "      <th>dist1</th>\n",
       "      <th>dist2</th>\n",
       "      <th>dist3</th>\n",
       "      <th>dist4</th>\n",
       "      <th>teachers</th>\n",
       "      <th>poor_prop</th>\n",
       "      <th>airport</th>\n",
       "      <th>n_hos_beds</th>\n",
       "      <th>n_hot_rooms</th>\n",
       "      <th>waterbody</th>\n",
       "      <th>rainfall</th>\n",
       "      <th>bus_ter</th>\n",
       "      <th>parks</th>\n",
       "    </tr>\n",
       "  </thead>\n",
       "  <tbody>\n",
       "    <tr>\n",
       "      <th>0</th>\n",
       "      <td>24.0</td>\n",
       "      <td>0.00632</td>\n",
       "      <td>32.31</td>\n",
       "      <td>0.538</td>\n",
       "      <td>6.575</td>\n",
       "      <td>65.2</td>\n",
       "      <td>4.35</td>\n",
       "      <td>3.81</td>\n",
       "      <td>4.18</td>\n",
       "      <td>4.01</td>\n",
       "      <td>24.7</td>\n",
       "      <td>4.98</td>\n",
       "      <td>YES</td>\n",
       "      <td>5.480</td>\n",
       "      <td>11.1920</td>\n",
       "      <td>River</td>\n",
       "      <td>23</td>\n",
       "      <td>YES</td>\n",
       "      <td>0.049347</td>\n",
       "    </tr>\n",
       "    <tr>\n",
       "      <th>1</th>\n",
       "      <td>21.6</td>\n",
       "      <td>0.02731</td>\n",
       "      <td>37.07</td>\n",
       "      <td>0.469</td>\n",
       "      <td>6.421</td>\n",
       "      <td>78.9</td>\n",
       "      <td>4.99</td>\n",
       "      <td>4.70</td>\n",
       "      <td>5.12</td>\n",
       "      <td>5.06</td>\n",
       "      <td>22.2</td>\n",
       "      <td>9.14</td>\n",
       "      <td>NO</td>\n",
       "      <td>7.332</td>\n",
       "      <td>12.1728</td>\n",
       "      <td>Lake</td>\n",
       "      <td>42</td>\n",
       "      <td>YES</td>\n",
       "      <td>0.046146</td>\n",
       "    </tr>\n",
       "    <tr>\n",
       "      <th>2</th>\n",
       "      <td>34.7</td>\n",
       "      <td>0.02729</td>\n",
       "      <td>37.07</td>\n",
       "      <td>0.469</td>\n",
       "      <td>7.185</td>\n",
       "      <td>61.1</td>\n",
       "      <td>5.03</td>\n",
       "      <td>4.86</td>\n",
       "      <td>5.01</td>\n",
       "      <td>4.97</td>\n",
       "      <td>22.2</td>\n",
       "      <td>4.03</td>\n",
       "      <td>NO</td>\n",
       "      <td>7.394</td>\n",
       "      <td>101.1200</td>\n",
       "      <td>None</td>\n",
       "      <td>38</td>\n",
       "      <td>YES</td>\n",
       "      <td>0.045764</td>\n",
       "    </tr>\n",
       "    <tr>\n",
       "      <th>3</th>\n",
       "      <td>33.4</td>\n",
       "      <td>0.03237</td>\n",
       "      <td>32.18</td>\n",
       "      <td>0.458</td>\n",
       "      <td>6.998</td>\n",
       "      <td>45.8</td>\n",
       "      <td>6.21</td>\n",
       "      <td>5.93</td>\n",
       "      <td>6.16</td>\n",
       "      <td>5.96</td>\n",
       "      <td>21.3</td>\n",
       "      <td>2.94</td>\n",
       "      <td>YES</td>\n",
       "      <td>9.268</td>\n",
       "      <td>11.2672</td>\n",
       "      <td>Lake</td>\n",
       "      <td>45</td>\n",
       "      <td>YES</td>\n",
       "      <td>0.047151</td>\n",
       "    </tr>\n",
       "    <tr>\n",
       "      <th>4</th>\n",
       "      <td>36.2</td>\n",
       "      <td>0.06905</td>\n",
       "      <td>32.18</td>\n",
       "      <td>0.458</td>\n",
       "      <td>7.147</td>\n",
       "      <td>54.2</td>\n",
       "      <td>6.16</td>\n",
       "      <td>5.86</td>\n",
       "      <td>6.37</td>\n",
       "      <td>5.86</td>\n",
       "      <td>21.3</td>\n",
       "      <td>5.33</td>\n",
       "      <td>NO</td>\n",
       "      <td>8.824</td>\n",
       "      <td>11.2896</td>\n",
       "      <td>Lake</td>\n",
       "      <td>55</td>\n",
       "      <td>YES</td>\n",
       "      <td>0.039474</td>\n",
       "    </tr>\n",
       "  </tbody>\n",
       "</table>\n",
       "</div>"
      ],
      "text/plain": [
       "   price  crime_rate  resid_area  air_qual  room_num   age  dist1  dist2  \\\n",
       "0   24.0     0.00632       32.31     0.538     6.575  65.2   4.35   3.81   \n",
       "1   21.6     0.02731       37.07     0.469     6.421  78.9   4.99   4.70   \n",
       "2   34.7     0.02729       37.07     0.469     7.185  61.1   5.03   4.86   \n",
       "3   33.4     0.03237       32.18     0.458     6.998  45.8   6.21   5.93   \n",
       "4   36.2     0.06905       32.18     0.458     7.147  54.2   6.16   5.86   \n",
       "\n",
       "   dist3  dist4  teachers  poor_prop airport  n_hos_beds  n_hot_rooms  \\\n",
       "0   4.18   4.01      24.7       4.98     YES       5.480      11.1920   \n",
       "1   5.12   5.06      22.2       9.14      NO       7.332      12.1728   \n",
       "2   5.01   4.97      22.2       4.03      NO       7.394     101.1200   \n",
       "3   6.16   5.96      21.3       2.94     YES       9.268      11.2672   \n",
       "4   6.37   5.86      21.3       5.33      NO       8.824      11.2896   \n",
       "\n",
       "  waterbody  rainfall bus_ter     parks  \n",
       "0     River        23     YES  0.049347  \n",
       "1      Lake        42     YES  0.046146  \n",
       "2      None        38     YES  0.045764  \n",
       "3      Lake        45     YES  0.047151  \n",
       "4      Lake        55     YES  0.039474  "
      ]
     },
     "execution_count": 10,
     "metadata": {},
     "output_type": "execute_result"
    }
   ],
   "source": [
    "df.head()"
   ]
  },
  {
   "cell_type": "code",
   "execution_count": 11,
   "id": "e207edef",
   "metadata": {},
   "outputs": [
    {
     "data": {
      "text/plain": [
       "<AxesSubplot:xlabel='airport', ylabel='count'>"
      ]
     },
     "execution_count": 11,
     "metadata": {},
     "output_type": "execute_result"
    },
    {
     "data": {
      "image/png": "[encoded data removed]",
      "text/plain": [
       "<Figure size 432x288 with 1 Axes>"
      ]
     },
     "metadata": {
      "needs_background": "light"
     },
     "output_type": "display_data"
    }
   ],
   "source": [
    "sns.countplot(x='airport', data=df)"
   ]
  },
  {
   "cell_type": "code",
   "execution_count": 12,
   "id": "5d2bfc84",
   "metadata": {},
   "outputs": [
    {
     "data": {
      "text/plain": [
       "<AxesSubplot:xlabel='waterbody', ylabel='count'>"
      ]
     },
     "execution_count": 12,
     "metadata": {},
     "output_type": "execute_result"
    },
    {
     "data": {
      "image/png": "[encoded data removed]",
      "text/plain": [
       "<Figure size 432x288 with 1 Axes>"
      ]
     },
     "metadata": {
      "needs_background": "light"
     },
     "output_type": "display_data"
    }
   ],
   "source": [
    "sns.countplot(x='waterbody', data=df)"
   ]
  },
  {
   "cell_type": "code",
   "execution_count": 13,
   "id": "4e00f68f",
   "metadata": {},
   "outputs": [
    {
     "data": {
      "text/plain": [
       "<AxesSubplot:xlabel='bus_ter', ylabel='count'>"
      ]
     },
     "execution_count": 13,
     "metadata": {},
     "output_type": "execute_result"
    },
    {
     "data": {
      "image/png": "[encoded data removed]",
      "text/plain": [
       "<Figure size 432x288 with 1 Axes>"
      ]
     },
     "metadata": {
      "needs_background": "light"
     },
     "output_type": "display_data"
    }
   ],
   "source": [
    "sns.countplot(x='bus_ter', data=df)"
   ]
  },
  {
   "cell_type": "markdown",
   "id": "172768b5",
   "metadata": {},
   "source": [
    "# Oberservations:\n",
    "   1. Missing values in n_hos_beds.\n",
    "   2. Skewness and outliers in crime rate.\n",
    "   3. Outliers in n_hot_rooms and rainfall.\n",
    "   4. only one value i.e 'Yes' in bus_ter var."
   ]
  },
  {
   "cell_type": "code",
   "execution_count": 14,
   "id": "740bb765",
   "metadata": {},
   "outputs": [
    {
     "name": "stdout",
     "output_type": "stream",
     "text": [
      "<class 'pandas.core.frame.DataFrame'>\n",
      "RangeIndex: 506 entries, 0 to 505\n",
      "Data columns (total 19 columns):\n",
      " #   Column       Non-Null Count  Dtype  \n",
      "---  ------       --------------  -----  \n",
      " 0   price        506 non-null    float64\n",
      " 1   crime_rate   506 non-null    float64\n",
      " 2   resid_area   506 non-null    float64\n",
      " 3   air_qual     506 non-null    float64\n",
      " 4   room_num     506 non-null    float64\n",
      " 5   age          506 non-null    float64\n",
      " 6   dist1        506 non-null    float64\n",
      " 7   dist2        506 non-null    float64\n",
      " 8   dist3        506 non-null    float64\n",
      " 9   dist4        506 non-null    float64\n",
      " 10  teachers     506 non-null    float64\n",
      " 11  poor_prop    506 non-null    float64\n",
      " 12  airport      506 non-null    object \n",
      " 13  n_hos_beds   498 non-null    float64\n",
      " 14  n_hot_rooms  506 non-null    float64\n",
      " 15  waterbody    506 non-null    object \n",
      " 16  rainfall     506 non-null    int64  \n",
      " 17  bus_ter      506 non-null    object \n",
      " 18  parks        506 non-null    float64\n",
      "dtypes: float64(15), int64(1), object(3)\n",
      "memory usage: 75.2+ KB\n"
     ]
    }
   ],
   "source": [
    "df.info()"
   ]
  },
  {
   "cell_type": "code",
   "execution_count": 15,
   "id": "6b9eeac5",
   "metadata": {},
   "outputs": [
    {
     "data": {
      "text/plain": [
       "15.39952"
      ]
     },
     "execution_count": 15,
     "metadata": {},
     "output_type": "execute_result"
    }
   ],
   "source": [
    "np.percentile(df.n_hot_rooms,[99])[0]"
   ]
  },
  {
   "cell_type": "code",
   "execution_count": 16,
   "id": "d38d6dfb",
   "metadata": {},
   "outputs": [],
   "source": [
    "uv=np.percentile(df.n_hot_rooms,[99])[0]"
   ]
  },
  {
   "cell_type": "code",
   "execution_count": 17,
   "id": "ec66922a",
   "metadata": {},
   "outputs": [
    {
     "data": {
      "text/html": [
       "<div>\n",
       "<style scoped>\n",
       "    .dataframe tbody tr th:only-of-type {\n",
       "        vertical-align: middle;\n",
       "    }\n",
       "\n",
       "    .dataframe tbody tr th {\n",
       "        vertical-align: top;\n",
       "    }\n",
       "\n",
       "    .dataframe thead th {\n",
       "        text-align: right;\n",
       "    }\n",
       "</style>\n",
       "<table border=\"1\" class=\"dataframe\">\n",
       "  <thead>\n",
       "    <tr style=\"text-align: right;\">\n",
       "      <th></th>\n",
       "      <th>price</th>\n",
       "      <th>crime_rate</th>\n",
       "      <th>resid_area</th>\n",
       "      <th>air_qual</th>\n",
       "      <th>room_num</th>\n",
       "      <th>age</th>\n",
       "      <th>dist1</th>\n",
       "      <th>dist2</th>\n",
       "      <th>dist3</th>\n",
       "      <th>dist4</th>\n",
       "      <th>teachers</th>\n",
       "      <th>poor_prop</th>\n",
       "      <th>airport</th>\n",
       "      <th>n_hos_beds</th>\n",
       "      <th>n_hot_rooms</th>\n",
       "      <th>waterbody</th>\n",
       "      <th>rainfall</th>\n",
       "      <th>bus_ter</th>\n",
       "      <th>parks</th>\n",
       "    </tr>\n",
       "  </thead>\n",
       "  <tbody>\n",
       "    <tr>\n",
       "      <th>2</th>\n",
       "      <td>34.7</td>\n",
       "      <td>0.02729</td>\n",
       "      <td>37.07</td>\n",
       "      <td>0.4690</td>\n",
       "      <td>7.185</td>\n",
       "      <td>61.1</td>\n",
       "      <td>5.03</td>\n",
       "      <td>4.86</td>\n",
       "      <td>5.01</td>\n",
       "      <td>4.97</td>\n",
       "      <td>22.2</td>\n",
       "      <td>4.03</td>\n",
       "      <td>NO</td>\n",
       "      <td>7.394</td>\n",
       "      <td>101.12</td>\n",
       "      <td>None</td>\n",
       "      <td>38</td>\n",
       "      <td>YES</td>\n",
       "      <td>0.045764</td>\n",
       "    </tr>\n",
       "    <tr>\n",
       "      <th>166</th>\n",
       "      <td>50.0</td>\n",
       "      <td>2.01019</td>\n",
       "      <td>49.58</td>\n",
       "      <td>0.6050</td>\n",
       "      <td>7.929</td>\n",
       "      <td>96.2</td>\n",
       "      <td>2.11</td>\n",
       "      <td>1.91</td>\n",
       "      <td>2.31</td>\n",
       "      <td>1.86</td>\n",
       "      <td>25.3</td>\n",
       "      <td>3.70</td>\n",
       "      <td>YES</td>\n",
       "      <td>8.300</td>\n",
       "      <td>15.40</td>\n",
       "      <td>River</td>\n",
       "      <td>37</td>\n",
       "      <td>YES</td>\n",
       "      <td>0.052105</td>\n",
       "    </tr>\n",
       "    <tr>\n",
       "      <th>204</th>\n",
       "      <td>50.0</td>\n",
       "      <td>0.02009</td>\n",
       "      <td>32.68</td>\n",
       "      <td>0.4161</td>\n",
       "      <td>8.034</td>\n",
       "      <td>31.9</td>\n",
       "      <td>5.41</td>\n",
       "      <td>4.80</td>\n",
       "      <td>5.28</td>\n",
       "      <td>4.99</td>\n",
       "      <td>25.3</td>\n",
       "      <td>2.88</td>\n",
       "      <td>YES</td>\n",
       "      <td>8.900</td>\n",
       "      <td>15.40</td>\n",
       "      <td>River</td>\n",
       "      <td>51</td>\n",
       "      <td>YES</td>\n",
       "      <td>0.044178</td>\n",
       "    </tr>\n",
       "    <tr>\n",
       "      <th>267</th>\n",
       "      <td>50.0</td>\n",
       "      <td>0.57834</td>\n",
       "      <td>33.97</td>\n",
       "      <td>0.5750</td>\n",
       "      <td>8.297</td>\n",
       "      <td>67.0</td>\n",
       "      <td>2.60</td>\n",
       "      <td>2.13</td>\n",
       "      <td>2.43</td>\n",
       "      <td>2.52</td>\n",
       "      <td>27.0</td>\n",
       "      <td>7.44</td>\n",
       "      <td>YES</td>\n",
       "      <td>8.000</td>\n",
       "      <td>15.40</td>\n",
       "      <td>None</td>\n",
       "      <td>42</td>\n",
       "      <td>YES</td>\n",
       "      <td>0.063235</td>\n",
       "    </tr>\n",
       "    <tr>\n",
       "      <th>369</th>\n",
       "      <td>50.0</td>\n",
       "      <td>5.66998</td>\n",
       "      <td>48.10</td>\n",
       "      <td>0.6310</td>\n",
       "      <td>6.683</td>\n",
       "      <td>96.8</td>\n",
       "      <td>1.55</td>\n",
       "      <td>1.28</td>\n",
       "      <td>1.65</td>\n",
       "      <td>0.94</td>\n",
       "      <td>19.8</td>\n",
       "      <td>3.73</td>\n",
       "      <td>YES</td>\n",
       "      <td>6.700</td>\n",
       "      <td>15.40</td>\n",
       "      <td>River</td>\n",
       "      <td>58</td>\n",
       "      <td>YES</td>\n",
       "      <td>0.067477</td>\n",
       "    </tr>\n",
       "    <tr>\n",
       "      <th>423</th>\n",
       "      <td>13.4</td>\n",
       "      <td>7.05042</td>\n",
       "      <td>48.10</td>\n",
       "      <td>0.6140</td>\n",
       "      <td>6.103</td>\n",
       "      <td>85.1</td>\n",
       "      <td>2.08</td>\n",
       "      <td>1.80</td>\n",
       "      <td>2.34</td>\n",
       "      <td>1.87</td>\n",
       "      <td>19.8</td>\n",
       "      <td>23.29</td>\n",
       "      <td>NO</td>\n",
       "      <td>8.268</td>\n",
       "      <td>81.12</td>\n",
       "      <td>Lake</td>\n",
       "      <td>29</td>\n",
       "      <td>YES</td>\n",
       "      <td>0.063344</td>\n",
       "    </tr>\n",
       "  </tbody>\n",
       "</table>\n",
       "</div>"
      ],
      "text/plain": [
       "     price  crime_rate  resid_area  air_qual  room_num   age  dist1  dist2  \\\n",
       "2     34.7     0.02729       37.07    0.4690     7.185  61.1   5.03   4.86   \n",
       "166   50.0     2.01019       49.58    0.6050     7.929  96.2   2.11   1.91   \n",
       "204   50.0     0.02009       32.68    0.4161     8.034  31.9   5.41   4.80   \n",
       "267   50.0     0.57834       33.97    0.5750     8.297  67.0   2.60   2.13   \n",
       "369   50.0     5.66998       48.10    0.6310     6.683  96.8   1.55   1.28   \n",
       "423   13.4     7.05042       48.10    0.6140     6.103  85.1   2.08   1.80   \n",
       "\n",
       "     dist3  dist4  teachers  poor_prop airport  n_hos_beds  n_hot_rooms  \\\n",
       "2     5.01   4.97      22.2       4.03      NO       7.394       101.12   \n",
       "166   2.31   1.86      25.3       3.70     YES       8.300        15.40   \n",
       "204   5.28   4.99      25.3       2.88     YES       8.900        15.40   \n",
       "267   2.43   2.52      27.0       7.44     YES       8.000        15.40   \n",
       "369   1.65   0.94      19.8       3.73     YES       6.700        15.40   \n",
       "423   2.34   1.87      19.8      23.29      NO       8.268        81.12   \n",
       "\n",
       "    waterbody  rainfall bus_ter     parks  \n",
       "2        None        38     YES  0.045764  \n",
       "166     River        37     YES  0.052105  \n",
       "204     River        51     YES  0.044178  \n",
       "267      None        42     YES  0.063235  \n",
       "369     River        58     YES  0.067477  \n",
       "423      Lake        29     YES  0.063344  "
      ]
     },
     "execution_count": 17,
     "metadata": {},
     "output_type": "execute_result"
    }
   ],
   "source": [
    "df[(df.n_hot_rooms>uv)]"
   ]
  },
  {
   "cell_type": "code",
   "execution_count": 18,
   "id": "0959bd65",
   "metadata": {},
   "outputs": [
    {
     "name": "stderr",
     "output_type": "stream",
     "text": [
      "C:\\Users\\201b1\\AppData\\Local\\Temp\\ipykernel_12276\\3972581706.py:1: SettingWithCopyWarning: \n",
      "A value is trying to be set on a copy of a slice from a DataFrame\n",
      "\n",
      "See the caveats in the documentation: https://pandas.pydata.org/pandas-docs/stable/user_guide/indexing.html#returning-a-view-versus-a-copy\n",
      "  df.n_hot_rooms[(df.n_hot_rooms>3*uv)]=3*uv\n"
     ]
    }
   ],
   "source": [
    "df.n_hot_rooms[(df.n_hot_rooms>3*uv)]=3*uv"
   ]
  },
  {
   "cell_type": "code",
   "execution_count": 19,
   "id": "34b87299",
   "metadata": {},
   "outputs": [
    {
     "data": {
      "text/plain": [
       "20.0"
      ]
     },
     "execution_count": 19,
     "metadata": {},
     "output_type": "execute_result"
    }
   ],
   "source": [
    "np.percentile(df.rainfall,[1])[0]"
   ]
  },
  {
   "cell_type": "code",
   "execution_count": 20,
   "id": "3f66f430",
   "metadata": {},
   "outputs": [],
   "source": [
    "lv = np.percentile(df.rainfall,[1])[0]"
   ]
  },
  {
   "cell_type": "code",
   "execution_count": 21,
   "id": "86667b1b",
   "metadata": {},
   "outputs": [
    {
     "data": {
      "text/html": [
       "<div>\n",
       "<style scoped>\n",
       "    .dataframe tbody tr th:only-of-type {\n",
       "        vertical-align: middle;\n",
       "    }\n",
       "\n",
       "    .dataframe tbody tr th {\n",
       "        vertical-align: top;\n",
       "    }\n",
       "\n",
       "    .dataframe thead th {\n",
       "        text-align: right;\n",
       "    }\n",
       "</style>\n",
       "<table border=\"1\" class=\"dataframe\">\n",
       "  <thead>\n",
       "    <tr style=\"text-align: right;\">\n",
       "      <th></th>\n",
       "      <th>price</th>\n",
       "      <th>crime_rate</th>\n",
       "      <th>resid_area</th>\n",
       "      <th>air_qual</th>\n",
       "      <th>room_num</th>\n",
       "      <th>age</th>\n",
       "      <th>dist1</th>\n",
       "      <th>dist2</th>\n",
       "      <th>dist3</th>\n",
       "      <th>dist4</th>\n",
       "      <th>teachers</th>\n",
       "      <th>poor_prop</th>\n",
       "      <th>airport</th>\n",
       "      <th>n_hos_beds</th>\n",
       "      <th>n_hot_rooms</th>\n",
       "      <th>waterbody</th>\n",
       "      <th>rainfall</th>\n",
       "      <th>bus_ter</th>\n",
       "      <th>parks</th>\n",
       "    </tr>\n",
       "  </thead>\n",
       "  <tbody>\n",
       "    <tr>\n",
       "      <th>213</th>\n",
       "      <td>28.1</td>\n",
       "      <td>0.14052</td>\n",
       "      <td>40.59</td>\n",
       "      <td>0.489</td>\n",
       "      <td>6.375</td>\n",
       "      <td>32.3</td>\n",
       "      <td>4.11</td>\n",
       "      <td>3.92</td>\n",
       "      <td>4.18</td>\n",
       "      <td>3.57</td>\n",
       "      <td>21.4</td>\n",
       "      <td>9.38</td>\n",
       "      <td>YES</td>\n",
       "      <td>7.562</td>\n",
       "      <td>10.2248</td>\n",
       "      <td>None</td>\n",
       "      <td>3</td>\n",
       "      <td>YES</td>\n",
       "      <td>0.044019</td>\n",
       "    </tr>\n",
       "  </tbody>\n",
       "</table>\n",
       "</div>"
      ],
      "text/plain": [
       "     price  crime_rate  resid_area  air_qual  room_num   age  dist1  dist2  \\\n",
       "213   28.1     0.14052       40.59     0.489     6.375  32.3   4.11   3.92   \n",
       "\n",
       "     dist3  dist4  teachers  poor_prop airport  n_hos_beds  n_hot_rooms  \\\n",
       "213   4.18   3.57      21.4       9.38     YES       7.562      10.2248   \n",
       "\n",
       "    waterbody  rainfall bus_ter     parks  \n",
       "213      None         3     YES  0.044019  "
      ]
     },
     "execution_count": 21,
     "metadata": {},
     "output_type": "execute_result"
    }
   ],
   "source": [
    "df[(df.rainfall < lv)]"
   ]
  },
  {
   "cell_type": "code",
   "execution_count": 22,
   "id": "35853448",
   "metadata": {},
   "outputs": [
    {
     "name": "stderr",
     "output_type": "stream",
     "text": [
      "C:\\Users\\201b1\\AppData\\Local\\Temp\\ipykernel_12276\\4287572880.py:1: SettingWithCopyWarning: \n",
      "A value is trying to be set on a copy of a slice from a DataFrame\n",
      "\n",
      "See the caveats in the documentation: https://pandas.pydata.org/pandas-docs/stable/user_guide/indexing.html#returning-a-view-versus-a-copy\n",
      "  df.rainfall[(df.rainfall < 0.3*lv)] = 0.3*lv\n"
     ]
    }
   ],
   "source": [
    "df.rainfall[(df.rainfall < 0.3*lv)] = 0.3*lv"
   ]
  },
  {
   "cell_type": "code",
   "execution_count": 23,
   "id": "9da41247",
   "metadata": {},
   "outputs": [
    {
     "data": {
      "text/plain": [
       "<seaborn.axisgrid.JointGrid at 0x17a41d57700>"
      ]
     },
     "execution_count": 23,
     "metadata": {},
     "output_type": "execute_result"
    },
    {
     "data": {
      "image/png": "[encoded data removed]",
      "text/plain": [
       "<Figure size 432x432 with 3 Axes>"
      ]
     },
     "metadata": {
      "needs_background": "light"
     },
     "output_type": "display_data"
    }
   ],
   "source": [
    "sns.jointplot(x='crime_rate',y='price',data=df)"
   ]
  },
  {
   "cell_type": "code",
   "execution_count": 24,
   "id": "9369bfbc",
   "metadata": {},
   "outputs": [
    {
     "data": {
      "text/html": [
       "<div>\n",
       "<style scoped>\n",
       "    .dataframe tbody tr th:only-of-type {\n",
       "        vertical-align: middle;\n",
       "    }\n",
       "\n",
       "    .dataframe tbody tr th {\n",
       "        vertical-align: top;\n",
       "    }\n",
       "\n",
       "    .dataframe thead th {\n",
       "        text-align: right;\n",
       "    }\n",
       "</style>\n",
       "<table border=\"1\" class=\"dataframe\">\n",
       "  <thead>\n",
       "    <tr style=\"text-align: right;\">\n",
       "      <th></th>\n",
       "      <th>price</th>\n",
       "      <th>crime_rate</th>\n",
       "      <th>resid_area</th>\n",
       "      <th>air_qual</th>\n",
       "      <th>room_num</th>\n",
       "      <th>age</th>\n",
       "      <th>dist1</th>\n",
       "      <th>dist2</th>\n",
       "      <th>dist3</th>\n",
       "      <th>dist4</th>\n",
       "      <th>teachers</th>\n",
       "      <th>poor_prop</th>\n",
       "      <th>n_hos_beds</th>\n",
       "      <th>n_hot_rooms</th>\n",
       "      <th>rainfall</th>\n",
       "      <th>parks</th>\n",
       "    </tr>\n",
       "  </thead>\n",
       "  <tbody>\n",
       "    <tr>\n",
       "      <th>count</th>\n",
       "      <td>506.000000</td>\n",
       "      <td>506.000000</td>\n",
       "      <td>506.000000</td>\n",
       "      <td>506.000000</td>\n",
       "      <td>506.000000</td>\n",
       "      <td>506.000000</td>\n",
       "      <td>506.000000</td>\n",
       "      <td>506.000000</td>\n",
       "      <td>506.000000</td>\n",
       "      <td>506.000000</td>\n",
       "      <td>506.000000</td>\n",
       "      <td>506.000000</td>\n",
       "      <td>498.000000</td>\n",
       "      <td>506.000000</td>\n",
       "      <td>506.000000</td>\n",
       "      <td>506.000000</td>\n",
       "    </tr>\n",
       "    <tr>\n",
       "      <th>mean</th>\n",
       "      <td>22.528854</td>\n",
       "      <td>3.613524</td>\n",
       "      <td>41.136779</td>\n",
       "      <td>0.554695</td>\n",
       "      <td>6.284634</td>\n",
       "      <td>68.574901</td>\n",
       "      <td>3.971996</td>\n",
       "      <td>3.628775</td>\n",
       "      <td>3.960672</td>\n",
       "      <td>3.618972</td>\n",
       "      <td>21.544466</td>\n",
       "      <td>12.653063</td>\n",
       "      <td>7.899767</td>\n",
       "      <td>12.864050</td>\n",
       "      <td>39.187747</td>\n",
       "      <td>0.054454</td>\n",
       "    </tr>\n",
       "    <tr>\n",
       "      <th>std</th>\n",
       "      <td>9.182176</td>\n",
       "      <td>8.601545</td>\n",
       "      <td>6.860353</td>\n",
       "      <td>0.115878</td>\n",
       "      <td>0.702617</td>\n",
       "      <td>28.148861</td>\n",
       "      <td>2.108532</td>\n",
       "      <td>2.108580</td>\n",
       "      <td>2.119797</td>\n",
       "      <td>2.099203</td>\n",
       "      <td>2.164946</td>\n",
       "      <td>7.141062</td>\n",
       "      <td>1.476683</td>\n",
       "      <td>2.688778</td>\n",
       "      <td>12.497221</td>\n",
       "      <td>0.010632</td>\n",
       "    </tr>\n",
       "    <tr>\n",
       "      <th>min</th>\n",
       "      <td>5.000000</td>\n",
       "      <td>0.006320</td>\n",
       "      <td>30.460000</td>\n",
       "      <td>0.385000</td>\n",
       "      <td>3.561000</td>\n",
       "      <td>2.900000</td>\n",
       "      <td>1.130000</td>\n",
       "      <td>0.920000</td>\n",
       "      <td>1.150000</td>\n",
       "      <td>0.730000</td>\n",
       "      <td>18.000000</td>\n",
       "      <td>1.730000</td>\n",
       "      <td>5.268000</td>\n",
       "      <td>10.057600</td>\n",
       "      <td>6.000000</td>\n",
       "      <td>0.033292</td>\n",
       "    </tr>\n",
       "    <tr>\n",
       "      <th>25%</th>\n",
       "      <td>17.025000</td>\n",
       "      <td>0.082045</td>\n",
       "      <td>35.190000</td>\n",
       "      <td>0.449000</td>\n",
       "      <td>5.885500</td>\n",
       "      <td>45.025000</td>\n",
       "      <td>2.270000</td>\n",
       "      <td>1.940000</td>\n",
       "      <td>2.232500</td>\n",
       "      <td>1.940000</td>\n",
       "      <td>19.800000</td>\n",
       "      <td>6.950000</td>\n",
       "      <td>6.634500</td>\n",
       "      <td>11.189800</td>\n",
       "      <td>28.000000</td>\n",
       "      <td>0.046464</td>\n",
       "    </tr>\n",
       "    <tr>\n",
       "      <th>50%</th>\n",
       "      <td>21.200000</td>\n",
       "      <td>0.256510</td>\n",
       "      <td>39.690000</td>\n",
       "      <td>0.538000</td>\n",
       "      <td>6.208500</td>\n",
       "      <td>77.500000</td>\n",
       "      <td>3.385000</td>\n",
       "      <td>3.010000</td>\n",
       "      <td>3.375000</td>\n",
       "      <td>3.070000</td>\n",
       "      <td>20.950000</td>\n",
       "      <td>11.360000</td>\n",
       "      <td>7.999000</td>\n",
       "      <td>12.720000</td>\n",
       "      <td>39.000000</td>\n",
       "      <td>0.053507</td>\n",
       "    </tr>\n",
       "    <tr>\n",
       "      <th>75%</th>\n",
       "      <td>25.000000</td>\n",
       "      <td>3.677083</td>\n",
       "      <td>48.100000</td>\n",
       "      <td>0.624000</td>\n",
       "      <td>6.623500</td>\n",
       "      <td>94.075000</td>\n",
       "      <td>5.367500</td>\n",
       "      <td>4.992500</td>\n",
       "      <td>5.407500</td>\n",
       "      <td>4.985000</td>\n",
       "      <td>22.600000</td>\n",
       "      <td>16.955000</td>\n",
       "      <td>9.088000</td>\n",
       "      <td>14.170800</td>\n",
       "      <td>50.000000</td>\n",
       "      <td>0.061397</td>\n",
       "    </tr>\n",
       "    <tr>\n",
       "      <th>max</th>\n",
       "      <td>50.000000</td>\n",
       "      <td>88.976200</td>\n",
       "      <td>57.740000</td>\n",
       "      <td>0.871000</td>\n",
       "      <td>8.780000</td>\n",
       "      <td>100.000000</td>\n",
       "      <td>12.320000</td>\n",
       "      <td>11.930000</td>\n",
       "      <td>12.320000</td>\n",
       "      <td>11.940000</td>\n",
       "      <td>27.400000</td>\n",
       "      <td>37.970000</td>\n",
       "      <td>10.876000</td>\n",
       "      <td>46.198560</td>\n",
       "      <td>60.000000</td>\n",
       "      <td>0.086711</td>\n",
       "    </tr>\n",
       "  </tbody>\n",
       "</table>\n",
       "</div>"
      ],
      "text/plain": [
       "            price  crime_rate  resid_area    air_qual    room_num         age  \\\n",
       "count  506.000000  506.000000  506.000000  506.000000  506.000000  506.000000   \n",
       "mean    22.528854    3.613524   41.136779    0.554695    6.284634   68.574901   \n",
       "std      9.182176    8.601545    6.860353    0.115878    0.702617   28.148861   \n",
       "min      5.000000    0.006320   30.460000    0.385000    3.561000    2.900000   \n",
       "25%     17.025000    0.082045   35.190000    0.449000    5.885500   45.025000   \n",
       "50%     21.200000    0.256510   39.690000    0.538000    6.208500   77.500000   \n",
       "75%     25.000000    3.677083   48.100000    0.624000    6.623500   94.075000   \n",
       "max     50.000000   88.976200   57.740000    0.871000    8.780000  100.000000   \n",
       "\n",
       "            dist1       dist2       dist3       dist4    teachers   poor_prop  \\\n",
       "count  506.000000  506.000000  506.000000  506.000000  506.000000  506.000000   \n",
       "mean     3.971996    3.628775    3.960672    3.618972   21.544466   12.653063   \n",
       "std      2.108532    2.108580    2.119797    2.099203    2.164946    7.141062   \n",
       "min      1.130000    0.920000    1.150000    0.730000   18.000000    1.730000   \n",
       "25%      2.270000    1.940000    2.232500    1.940000   19.800000    6.950000   \n",
       "50%      3.385000    3.010000    3.375000    3.070000   20.950000   11.360000   \n",
       "75%      5.367500    4.992500    5.407500    4.985000   22.600000   16.955000   \n",
       "max     12.320000   11.930000   12.320000   11.940000   27.400000   37.970000   \n",
       "\n",
       "       n_hos_beds  n_hot_rooms    rainfall       parks  \n",
       "count  498.000000   506.000000  506.000000  506.000000  \n",
       "mean     7.899767    12.864050   39.187747    0.054454  \n",
       "std      1.476683     2.688778   12.497221    0.010632  \n",
       "min      5.268000    10.057600    6.000000    0.033292  \n",
       "25%      6.634500    11.189800   28.000000    0.046464  \n",
       "50%      7.999000    12.720000   39.000000    0.053507  \n",
       "75%      9.088000    14.170800   50.000000    0.061397  \n",
       "max     10.876000    46.198560   60.000000    0.086711  "
      ]
     },
     "execution_count": 24,
     "metadata": {},
     "output_type": "execute_result"
    }
   ],
   "source": [
    "df.describe()"
   ]
  },
  {
   "cell_type": "code",
   "execution_count": 25,
   "id": "bb6505df",
   "metadata": {},
   "outputs": [
    {
     "name": "stdout",
     "output_type": "stream",
     "text": [
      "<class 'pandas.core.frame.DataFrame'>\n",
      "RangeIndex: 506 entries, 0 to 505\n",
      "Data columns (total 19 columns):\n",
      " #   Column       Non-Null Count  Dtype  \n",
      "---  ------       --------------  -----  \n",
      " 0   price        506 non-null    float64\n",
      " 1   crime_rate   506 non-null    float64\n",
      " 2   resid_area   506 non-null    float64\n",
      " 3   air_qual     506 non-null    float64\n",
      " 4   room_num     506 non-null    float64\n",
      " 5   age          506 non-null    float64\n",
      " 6   dist1        506 non-null    float64\n",
      " 7   dist2        506 non-null    float64\n",
      " 8   dist3        506 non-null    float64\n",
      " 9   dist4        506 non-null    float64\n",
      " 10  teachers     506 non-null    float64\n",
      " 11  poor_prop    506 non-null    float64\n",
      " 12  airport      506 non-null    object \n",
      " 13  n_hos_beds   498 non-null    float64\n",
      " 14  n_hot_rooms  506 non-null    float64\n",
      " 15  waterbody    506 non-null    object \n",
      " 16  rainfall     506 non-null    int64  \n",
      " 17  bus_ter      506 non-null    object \n",
      " 18  parks        506 non-null    float64\n",
      "dtypes: float64(15), int64(1), object(3)\n",
      "memory usage: 75.2+ KB\n"
     ]
    }
   ],
   "source": [
    "df.info()"
   ]
  },
  {
   "cell_type": "code",
   "execution_count": 26,
   "id": "81b50846",
   "metadata": {},
   "outputs": [],
   "source": [
    "df.n_hos_beds = df.n_hos_beds.fillna(df.n_hos_beds.mean())"
   ]
  },
  {
   "cell_type": "code",
   "execution_count": 27,
   "id": "29edaae0",
   "metadata": {},
   "outputs": [
    {
     "name": "stdout",
     "output_type": "stream",
     "text": [
      "<class 'pandas.core.frame.DataFrame'>\n",
      "RangeIndex: 506 entries, 0 to 505\n",
      "Data columns (total 19 columns):\n",
      " #   Column       Non-Null Count  Dtype  \n",
      "---  ------       --------------  -----  \n",
      " 0   price        506 non-null    float64\n",
      " 1   crime_rate   506 non-null    float64\n",
      " 2   resid_area   506 non-null    float64\n",
      " 3   air_qual     506 non-null    float64\n",
      " 4   room_num     506 non-null    float64\n",
      " 5   age          506 non-null    float64\n",
      " 6   dist1        506 non-null    float64\n",
      " 7   dist2        506 non-null    float64\n",
      " 8   dist3        506 non-null    float64\n",
      " 9   dist4        506 non-null    float64\n",
      " 10  teachers     506 non-null    float64\n",
      " 11  poor_prop    506 non-null    float64\n",
      " 12  airport      506 non-null    object \n",
      " 13  n_hos_beds   506 non-null    float64\n",
      " 14  n_hot_rooms  506 non-null    float64\n",
      " 15  waterbody    506 non-null    object \n",
      " 16  rainfall     506 non-null    int64  \n",
      " 17  bus_ter      506 non-null    object \n",
      " 18  parks        506 non-null    float64\n",
      "dtypes: float64(15), int64(1), object(3)\n",
      "memory usage: 75.2+ KB\n"
     ]
    }
   ],
   "source": [
    "df.info()"
   ]
  },
  {
   "cell_type": "code",
   "execution_count": 28,
   "id": "663ea775",
   "metadata": {},
   "outputs": [
    {
     "data": {
      "text/plain": [
       "<seaborn.axisgrid.JointGrid at 0x17a41e33070>"
      ]
     },
     "execution_count": 28,
     "metadata": {},
     "output_type": "execute_result"
    },
    {
     "data": {
      "image/png": "[encoded data removed]",
      "text/plain": [
       "<Figure size 432x432 with 3 Axes>"
      ]
     },
     "metadata": {
      "needs_background": "light"
     },
     "output_type": "display_data"
    }
   ],
   "source": [
    "sns.jointplot(x='crime_rate',y='price',data=df)"
   ]
  },
  {
   "cell_type": "code",
   "execution_count": 29,
   "id": "ee534b96",
   "metadata": {},
   "outputs": [],
   "source": [
    "df.crime_rate = np.log(1 + df.crime_rate)"
   ]
  },
  {
   "cell_type": "code",
   "execution_count": 30,
   "id": "756df024",
   "metadata": {},
   "outputs": [],
   "source": [
    "df['avg_dist'] = (df.dist1 + df.dist2 + df.dist3 + df.dist4)/4"
   ]
  },
  {
   "cell_type": "code",
   "execution_count": 31,
   "id": "2d1193ca",
   "metadata": {},
   "outputs": [
    {
     "data": {
      "text/html": [
       "<div>\n",
       "<style scoped>\n",
       "    .dataframe tbody tr th:only-of-type {\n",
       "        vertical-align: middle;\n",
       "    }\n",
       "\n",
       "    .dataframe tbody tr th {\n",
       "        vertical-align: top;\n",
       "    }\n",
       "\n",
       "    .dataframe thead th {\n",
       "        text-align: right;\n",
       "    }\n",
       "</style>\n",
       "<table border=\"1\" class=\"dataframe\">\n",
       "  <thead>\n",
       "    <tr style=\"text-align: right;\">\n",
       "      <th></th>\n",
       "      <th>price</th>\n",
       "      <th>crime_rate</th>\n",
       "      <th>resid_area</th>\n",
       "      <th>air_qual</th>\n",
       "      <th>room_num</th>\n",
       "      <th>age</th>\n",
       "      <th>dist1</th>\n",
       "      <th>dist2</th>\n",
       "      <th>dist3</th>\n",
       "      <th>dist4</th>\n",
       "      <th>teachers</th>\n",
       "      <th>poor_prop</th>\n",
       "      <th>n_hos_beds</th>\n",
       "      <th>n_hot_rooms</th>\n",
       "      <th>rainfall</th>\n",
       "      <th>parks</th>\n",
       "      <th>avg_dist</th>\n",
       "    </tr>\n",
       "  </thead>\n",
       "  <tbody>\n",
       "    <tr>\n",
       "      <th>count</th>\n",
       "      <td>506.000000</td>\n",
       "      <td>506.000000</td>\n",
       "      <td>506.000000</td>\n",
       "      <td>506.000000</td>\n",
       "      <td>506.000000</td>\n",
       "      <td>506.000000</td>\n",
       "      <td>506.000000</td>\n",
       "      <td>506.000000</td>\n",
       "      <td>506.000000</td>\n",
       "      <td>506.000000</td>\n",
       "      <td>506.000000</td>\n",
       "      <td>506.000000</td>\n",
       "      <td>506.000000</td>\n",
       "      <td>506.000000</td>\n",
       "      <td>506.000000</td>\n",
       "      <td>506.000000</td>\n",
       "      <td>506.000000</td>\n",
       "    </tr>\n",
       "    <tr>\n",
       "      <th>mean</th>\n",
       "      <td>22.528854</td>\n",
       "      <td>0.813418</td>\n",
       "      <td>41.136779</td>\n",
       "      <td>0.554695</td>\n",
       "      <td>6.284634</td>\n",
       "      <td>68.574901</td>\n",
       "      <td>3.971996</td>\n",
       "      <td>3.628775</td>\n",
       "      <td>3.960672</td>\n",
       "      <td>3.618972</td>\n",
       "      <td>21.544466</td>\n",
       "      <td>12.653063</td>\n",
       "      <td>7.899767</td>\n",
       "      <td>12.864050</td>\n",
       "      <td>39.187747</td>\n",
       "      <td>0.054454</td>\n",
       "      <td>3.795104</td>\n",
       "    </tr>\n",
       "    <tr>\n",
       "      <th>std</th>\n",
       "      <td>9.182176</td>\n",
       "      <td>1.022731</td>\n",
       "      <td>6.860353</td>\n",
       "      <td>0.115878</td>\n",
       "      <td>0.702617</td>\n",
       "      <td>28.148861</td>\n",
       "      <td>2.108532</td>\n",
       "      <td>2.108580</td>\n",
       "      <td>2.119797</td>\n",
       "      <td>2.099203</td>\n",
       "      <td>2.164946</td>\n",
       "      <td>7.141062</td>\n",
       "      <td>1.464939</td>\n",
       "      <td>2.688778</td>\n",
       "      <td>12.497221</td>\n",
       "      <td>0.010632</td>\n",
       "      <td>2.105859</td>\n",
       "    </tr>\n",
       "    <tr>\n",
       "      <th>min</th>\n",
       "      <td>5.000000</td>\n",
       "      <td>0.006300</td>\n",
       "      <td>30.460000</td>\n",
       "      <td>0.385000</td>\n",
       "      <td>3.561000</td>\n",
       "      <td>2.900000</td>\n",
       "      <td>1.130000</td>\n",
       "      <td>0.920000</td>\n",
       "      <td>1.150000</td>\n",
       "      <td>0.730000</td>\n",
       "      <td>18.000000</td>\n",
       "      <td>1.730000</td>\n",
       "      <td>5.268000</td>\n",
       "      <td>10.057600</td>\n",
       "      <td>6.000000</td>\n",
       "      <td>0.033292</td>\n",
       "      <td>1.127500</td>\n",
       "    </tr>\n",
       "    <tr>\n",
       "      <th>25%</th>\n",
       "      <td>17.025000</td>\n",
       "      <td>0.078853</td>\n",
       "      <td>35.190000</td>\n",
       "      <td>0.449000</td>\n",
       "      <td>5.885500</td>\n",
       "      <td>45.025000</td>\n",
       "      <td>2.270000</td>\n",
       "      <td>1.940000</td>\n",
       "      <td>2.232500</td>\n",
       "      <td>1.940000</td>\n",
       "      <td>19.800000</td>\n",
       "      <td>6.950000</td>\n",
       "      <td>6.659000</td>\n",
       "      <td>11.189800</td>\n",
       "      <td>28.000000</td>\n",
       "      <td>0.046464</td>\n",
       "      <td>2.100625</td>\n",
       "    </tr>\n",
       "    <tr>\n",
       "      <th>50%</th>\n",
       "      <td>21.200000</td>\n",
       "      <td>0.228336</td>\n",
       "      <td>39.690000</td>\n",
       "      <td>0.538000</td>\n",
       "      <td>6.208500</td>\n",
       "      <td>77.500000</td>\n",
       "      <td>3.385000</td>\n",
       "      <td>3.010000</td>\n",
       "      <td>3.375000</td>\n",
       "      <td>3.070000</td>\n",
       "      <td>20.950000</td>\n",
       "      <td>11.360000</td>\n",
       "      <td>7.963000</td>\n",
       "      <td>12.720000</td>\n",
       "      <td>39.000000</td>\n",
       "      <td>0.053507</td>\n",
       "      <td>3.207500</td>\n",
       "    </tr>\n",
       "    <tr>\n",
       "      <th>75%</th>\n",
       "      <td>25.000000</td>\n",
       "      <td>1.542674</td>\n",
       "      <td>48.100000</td>\n",
       "      <td>0.624000</td>\n",
       "      <td>6.623500</td>\n",
       "      <td>94.075000</td>\n",
       "      <td>5.367500</td>\n",
       "      <td>4.992500</td>\n",
       "      <td>5.407500</td>\n",
       "      <td>4.985000</td>\n",
       "      <td>22.600000</td>\n",
       "      <td>16.955000</td>\n",
       "      <td>9.076000</td>\n",
       "      <td>14.170800</td>\n",
       "      <td>50.000000</td>\n",
       "      <td>0.061397</td>\n",
       "      <td>5.187500</td>\n",
       "    </tr>\n",
       "    <tr>\n",
       "      <th>max</th>\n",
       "      <td>50.000000</td>\n",
       "      <td>4.499545</td>\n",
       "      <td>57.740000</td>\n",
       "      <td>0.871000</td>\n",
       "      <td>8.780000</td>\n",
       "      <td>100.000000</td>\n",
       "      <td>12.320000</td>\n",
       "      <td>11.930000</td>\n",
       "      <td>12.320000</td>\n",
       "      <td>11.940000</td>\n",
       "      <td>27.400000</td>\n",
       "      <td>37.970000</td>\n",
       "      <td>10.876000</td>\n",
       "      <td>46.198560</td>\n",
       "      <td>60.000000</td>\n",
       "      <td>0.086711</td>\n",
       "      <td>12.127500</td>\n",
       "    </tr>\n",
       "  </tbody>\n",
       "</table>\n",
       "</div>"
      ],
      "text/plain": [
       "            price  crime_rate  resid_area    air_qual    room_num         age  \\\n",
       "count  506.000000  506.000000  506.000000  506.000000  506.000000  506.000000   \n",
       "mean    22.528854    0.813418   41.136779    0.554695    6.284634   68.574901   \n",
       "std      9.182176    1.022731    6.860353    0.115878    0.702617   28.148861   \n",
       "min      5.000000    0.006300   30.460000    0.385000    3.561000    2.900000   \n",
       "25%     17.025000    0.078853   35.190000    0.449000    5.885500   45.025000   \n",
       "50%     21.200000    0.228336   39.690000    0.538000    6.208500   77.500000   \n",
       "75%     25.000000    1.542674   48.100000    0.624000    6.623500   94.075000   \n",
       "max     50.000000    4.499545   57.740000    0.871000    8.780000  100.000000   \n",
       "\n",
       "            dist1       dist2       dist3       dist4    teachers   poor_prop  \\\n",
       "count  506.000000  506.000000  506.000000  506.000000  506.000000  506.000000   \n",
       "mean     3.971996    3.628775    3.960672    3.618972   21.544466   12.653063   \n",
       "std      2.108532    2.108580    2.119797    2.099203    2.164946    7.141062   \n",
       "min      1.130000    0.920000    1.150000    0.730000   18.000000    1.730000   \n",
       "25%      2.270000    1.940000    2.232500    1.940000   19.800000    6.950000   \n",
       "50%      3.385000    3.010000    3.375000    3.070000   20.950000   11.360000   \n",
       "75%      5.367500    4.992500    5.407500    4.985000   22.600000   16.955000   \n",
       "max     12.320000   11.930000   12.320000   11.940000   27.400000   37.970000   \n",
       "\n",
       "       n_hos_beds  n_hot_rooms    rainfall       parks    avg_dist  \n",
       "count  506.000000   506.000000  506.000000  506.000000  506.000000  \n",
       "mean     7.899767    12.864050   39.187747    0.054454    3.795104  \n",
       "std      1.464939     2.688778   12.497221    0.010632    2.105859  \n",
       "min      5.268000    10.057600    6.000000    0.033292    1.127500  \n",
       "25%      6.659000    11.189800   28.000000    0.046464    2.100625  \n",
       "50%      7.963000    12.720000   39.000000    0.053507    3.207500  \n",
       "75%      9.076000    14.170800   50.000000    0.061397    5.187500  \n",
       "max     10.876000    46.198560   60.000000    0.086711   12.127500  "
      ]
     },
     "execution_count": 31,
     "metadata": {},
     "output_type": "execute_result"
    }
   ],
   "source": [
    "df.describe()"
   ]
  },
  {
   "cell_type": "code",
   "execution_count": 32,
   "id": "f4dacdc9",
   "metadata": {},
   "outputs": [],
   "source": [
    "del df['dist1']"
   ]
  },
  {
   "cell_type": "code",
   "execution_count": 33,
   "id": "c544b794",
   "metadata": {},
   "outputs": [],
   "source": [
    "del df['dist2']"
   ]
  },
  {
   "cell_type": "code",
   "execution_count": 34,
   "id": "1ec360b7",
   "metadata": {},
   "outputs": [],
   "source": [
    "del df['dist3']"
   ]
  },
  {
   "cell_type": "code",
   "execution_count": 35,
   "id": "44d99632",
   "metadata": {},
   "outputs": [],
   "source": [
    "del df['dist4']"
   ]
  },
  {
   "cell_type": "code",
   "execution_count": 36,
   "id": "34309d81",
   "metadata": {},
   "outputs": [
    {
     "data": {
      "text/html": [
       "<div>\n",
       "<style scoped>\n",
       "    .dataframe tbody tr th:only-of-type {\n",
       "        vertical-align: middle;\n",
       "    }\n",
       "\n",
       "    .dataframe tbody tr th {\n",
       "        vertical-align: top;\n",
       "    }\n",
       "\n",
       "    .dataframe thead th {\n",
       "        text-align: right;\n",
       "    }\n",
       "</style>\n",
       "<table border=\"1\" class=\"dataframe\">\n",
       "  <thead>\n",
       "    <tr style=\"text-align: right;\">\n",
       "      <th></th>\n",
       "      <th>price</th>\n",
       "      <th>crime_rate</th>\n",
       "      <th>resid_area</th>\n",
       "      <th>air_qual</th>\n",
       "      <th>room_num</th>\n",
       "      <th>age</th>\n",
       "      <th>teachers</th>\n",
       "      <th>poor_prop</th>\n",
       "      <th>n_hos_beds</th>\n",
       "      <th>n_hot_rooms</th>\n",
       "      <th>rainfall</th>\n",
       "      <th>parks</th>\n",
       "      <th>avg_dist</th>\n",
       "    </tr>\n",
       "  </thead>\n",
       "  <tbody>\n",
       "    <tr>\n",
       "      <th>count</th>\n",
       "      <td>506.000000</td>\n",
       "      <td>506.000000</td>\n",
       "      <td>506.000000</td>\n",
       "      <td>506.000000</td>\n",
       "      <td>506.000000</td>\n",
       "      <td>506.000000</td>\n",
       "      <td>506.000000</td>\n",
       "      <td>506.000000</td>\n",
       "      <td>506.000000</td>\n",
       "      <td>506.000000</td>\n",
       "      <td>506.000000</td>\n",
       "      <td>506.000000</td>\n",
       "      <td>506.000000</td>\n",
       "    </tr>\n",
       "    <tr>\n",
       "      <th>mean</th>\n",
       "      <td>22.528854</td>\n",
       "      <td>0.813418</td>\n",
       "      <td>41.136779</td>\n",
       "      <td>0.554695</td>\n",
       "      <td>6.284634</td>\n",
       "      <td>68.574901</td>\n",
       "      <td>21.544466</td>\n",
       "      <td>12.653063</td>\n",
       "      <td>7.899767</td>\n",
       "      <td>12.864050</td>\n",
       "      <td>39.187747</td>\n",
       "      <td>0.054454</td>\n",
       "      <td>3.795104</td>\n",
       "    </tr>\n",
       "    <tr>\n",
       "      <th>std</th>\n",
       "      <td>9.182176</td>\n",
       "      <td>1.022731</td>\n",
       "      <td>6.860353</td>\n",
       "      <td>0.115878</td>\n",
       "      <td>0.702617</td>\n",
       "      <td>28.148861</td>\n",
       "      <td>2.164946</td>\n",
       "      <td>7.141062</td>\n",
       "      <td>1.464939</td>\n",
       "      <td>2.688778</td>\n",
       "      <td>12.497221</td>\n",
       "      <td>0.010632</td>\n",
       "      <td>2.105859</td>\n",
       "    </tr>\n",
       "    <tr>\n",
       "      <th>min</th>\n",
       "      <td>5.000000</td>\n",
       "      <td>0.006300</td>\n",
       "      <td>30.460000</td>\n",
       "      <td>0.385000</td>\n",
       "      <td>3.561000</td>\n",
       "      <td>2.900000</td>\n",
       "      <td>18.000000</td>\n",
       "      <td>1.730000</td>\n",
       "      <td>5.268000</td>\n",
       "      <td>10.057600</td>\n",
       "      <td>6.000000</td>\n",
       "      <td>0.033292</td>\n",
       "      <td>1.127500</td>\n",
       "    </tr>\n",
       "    <tr>\n",
       "      <th>25%</th>\n",
       "      <td>17.025000</td>\n",
       "      <td>0.078853</td>\n",
       "      <td>35.190000</td>\n",
       "      <td>0.449000</td>\n",
       "      <td>5.885500</td>\n",
       "      <td>45.025000</td>\n",
       "      <td>19.800000</td>\n",
       "      <td>6.950000</td>\n",
       "      <td>6.659000</td>\n",
       "      <td>11.189800</td>\n",
       "      <td>28.000000</td>\n",
       "      <td>0.046464</td>\n",
       "      <td>2.100625</td>\n",
       "    </tr>\n",
       "    <tr>\n",
       "      <th>50%</th>\n",
       "      <td>21.200000</td>\n",
       "      <td>0.228336</td>\n",
       "      <td>39.690000</td>\n",
       "      <td>0.538000</td>\n",
       "      <td>6.208500</td>\n",
       "      <td>77.500000</td>\n",
       "      <td>20.950000</td>\n",
       "      <td>11.360000</td>\n",
       "      <td>7.963000</td>\n",
       "      <td>12.720000</td>\n",
       "      <td>39.000000</td>\n",
       "      <td>0.053507</td>\n",
       "      <td>3.207500</td>\n",
       "    </tr>\n",
       "    <tr>\n",
       "      <th>75%</th>\n",
       "      <td>25.000000</td>\n",
       "      <td>1.542674</td>\n",
       "      <td>48.100000</td>\n",
       "      <td>0.624000</td>\n",
       "      <td>6.623500</td>\n",
       "      <td>94.075000</td>\n",
       "      <td>22.600000</td>\n",
       "      <td>16.955000</td>\n",
       "      <td>9.076000</td>\n",
       "      <td>14.170800</td>\n",
       "      <td>50.000000</td>\n",
       "      <td>0.061397</td>\n",
       "      <td>5.187500</td>\n",
       "    </tr>\n",
       "    <tr>\n",
       "      <th>max</th>\n",
       "      <td>50.000000</td>\n",
       "      <td>4.499545</td>\n",
       "      <td>57.740000</td>\n",
       "      <td>0.871000</td>\n",
       "      <td>8.780000</td>\n",
       "      <td>100.000000</td>\n",
       "      <td>27.400000</td>\n",
       "      <td>37.970000</td>\n",
       "      <td>10.876000</td>\n",
       "      <td>46.198560</td>\n",
       "      <td>60.000000</td>\n",
       "      <td>0.086711</td>\n",
       "      <td>12.127500</td>\n",
       "    </tr>\n",
       "  </tbody>\n",
       "</table>\n",
       "</div>"
      ],
      "text/plain": [
       "            price  crime_rate  resid_area    air_qual    room_num         age  \\\n",
       "count  506.000000  506.000000  506.000000  506.000000  506.000000  506.000000   \n",
       "mean    22.528854    0.813418   41.136779    0.554695    6.284634   68.574901   \n",
       "std      9.182176    1.022731    6.860353    0.115878    0.702617   28.148861   \n",
       "min      5.000000    0.006300   30.460000    0.385000    3.561000    2.900000   \n",
       "25%     17.025000    0.078853   35.190000    0.449000    5.885500   45.025000   \n",
       "50%     21.200000    0.228336   39.690000    0.538000    6.208500   77.500000   \n",
       "75%     25.000000    1.542674   48.100000    0.624000    6.623500   94.075000   \n",
       "max     50.000000    4.499545   57.740000    0.871000    8.780000  100.000000   \n",
       "\n",
       "         teachers   poor_prop  n_hos_beds  n_hot_rooms    rainfall  \\\n",
       "count  506.000000  506.000000  506.000000   506.000000  506.000000   \n",
       "mean    21.544466   12.653063    7.899767    12.864050   39.187747   \n",
       "std      2.164946    7.141062    1.464939     2.688778   12.497221   \n",
       "min     18.000000    1.730000    5.268000    10.057600    6.000000   \n",
       "25%     19.800000    6.950000    6.659000    11.189800   28.000000   \n",
       "50%     20.950000   11.360000    7.963000    12.720000   39.000000   \n",
       "75%     22.600000   16.955000    9.076000    14.170800   50.000000   \n",
       "max     27.400000   37.970000   10.876000    46.198560   60.000000   \n",
       "\n",
       "            parks    avg_dist  \n",
       "count  506.000000  506.000000  \n",
       "mean     0.054454    3.795104  \n",
       "std      0.010632    2.105859  \n",
       "min      0.033292    1.127500  \n",
       "25%      0.046464    2.100625  \n",
       "50%      0.053507    3.207500  \n",
       "75%      0.061397    5.187500  \n",
       "max      0.086711   12.127500  "
      ]
     },
     "execution_count": 36,
     "metadata": {},
     "output_type": "execute_result"
    }
   ],
   "source": [
    "df.describe()"
   ]
  },
  {
   "cell_type": "code",
   "execution_count": 37,
   "id": "2bffefb1",
   "metadata": {},
   "outputs": [],
   "source": [
    "del df['bus_ter']"
   ]
  },
  {
   "cell_type": "code",
   "execution_count": 38,
   "id": "33f57709",
   "metadata": {},
   "outputs": [],
   "source": [
    "df = pd.get_dummies(df)"
   ]
  },
  {
   "cell_type": "code",
   "execution_count": 39,
   "id": "2a2c93b6",
   "metadata": {},
   "outputs": [
    {
     "data": {
      "text/html": [
       "<div>\n",
       "<style scoped>\n",
       "    .dataframe tbody tr th:only-of-type {\n",
       "        vertical-align: middle;\n",
       "    }\n",
       "\n",
       "    .dataframe tbody tr th {\n",
       "        vertical-align: top;\n",
       "    }\n",
       "\n",
       "    .dataframe thead th {\n",
       "        text-align: right;\n",
       "    }\n",
       "</style>\n",
       "<table border=\"1\" class=\"dataframe\">\n",
       "  <thead>\n",
       "    <tr style=\"text-align: right;\">\n",
       "      <th></th>\n",
       "      <th>price</th>\n",
       "      <th>crime_rate</th>\n",
       "      <th>resid_area</th>\n",
       "      <th>air_qual</th>\n",
       "      <th>room_num</th>\n",
       "      <th>age</th>\n",
       "      <th>teachers</th>\n",
       "      <th>poor_prop</th>\n",
       "      <th>n_hos_beds</th>\n",
       "      <th>n_hot_rooms</th>\n",
       "      <th>rainfall</th>\n",
       "      <th>parks</th>\n",
       "      <th>avg_dist</th>\n",
       "      <th>airport_NO</th>\n",
       "      <th>airport_YES</th>\n",
       "      <th>waterbody_Lake</th>\n",
       "      <th>waterbody_Lake and River</th>\n",
       "      <th>waterbody_None</th>\n",
       "      <th>waterbody_River</th>\n",
       "    </tr>\n",
       "  </thead>\n",
       "  <tbody>\n",
       "    <tr>\n",
       "      <th>0</th>\n",
       "      <td>24.0</td>\n",
       "      <td>0.006300</td>\n",
       "      <td>32.31</td>\n",
       "      <td>0.538</td>\n",
       "      <td>6.575</td>\n",
       "      <td>65.2</td>\n",
       "      <td>24.7</td>\n",
       "      <td>4.98</td>\n",
       "      <td>5.480</td>\n",
       "      <td>11.19200</td>\n",
       "      <td>23</td>\n",
       "      <td>0.049347</td>\n",
       "      <td>4.0875</td>\n",
       "      <td>0</td>\n",
       "      <td>1</td>\n",
       "      <td>0</td>\n",
       "      <td>0</td>\n",
       "      <td>0</td>\n",
       "      <td>1</td>\n",
       "    </tr>\n",
       "    <tr>\n",
       "      <th>1</th>\n",
       "      <td>21.6</td>\n",
       "      <td>0.026944</td>\n",
       "      <td>37.07</td>\n",
       "      <td>0.469</td>\n",
       "      <td>6.421</td>\n",
       "      <td>78.9</td>\n",
       "      <td>22.2</td>\n",
       "      <td>9.14</td>\n",
       "      <td>7.332</td>\n",
       "      <td>12.17280</td>\n",
       "      <td>42</td>\n",
       "      <td>0.046146</td>\n",
       "      <td>4.9675</td>\n",
       "      <td>1</td>\n",
       "      <td>0</td>\n",
       "      <td>1</td>\n",
       "      <td>0</td>\n",
       "      <td>0</td>\n",
       "      <td>0</td>\n",
       "    </tr>\n",
       "    <tr>\n",
       "      <th>2</th>\n",
       "      <td>34.7</td>\n",
       "      <td>0.026924</td>\n",
       "      <td>37.07</td>\n",
       "      <td>0.469</td>\n",
       "      <td>7.185</td>\n",
       "      <td>61.1</td>\n",
       "      <td>22.2</td>\n",
       "      <td>4.03</td>\n",
       "      <td>7.394</td>\n",
       "      <td>46.19856</td>\n",
       "      <td>38</td>\n",
       "      <td>0.045764</td>\n",
       "      <td>4.9675</td>\n",
       "      <td>1</td>\n",
       "      <td>0</td>\n",
       "      <td>0</td>\n",
       "      <td>0</td>\n",
       "      <td>1</td>\n",
       "      <td>0</td>\n",
       "    </tr>\n",
       "    <tr>\n",
       "      <th>3</th>\n",
       "      <td>33.4</td>\n",
       "      <td>0.031857</td>\n",
       "      <td>32.18</td>\n",
       "      <td>0.458</td>\n",
       "      <td>6.998</td>\n",
       "      <td>45.8</td>\n",
       "      <td>21.3</td>\n",
       "      <td>2.94</td>\n",
       "      <td>9.268</td>\n",
       "      <td>11.26720</td>\n",
       "      <td>45</td>\n",
       "      <td>0.047151</td>\n",
       "      <td>6.0650</td>\n",
       "      <td>0</td>\n",
       "      <td>1</td>\n",
       "      <td>1</td>\n",
       "      <td>0</td>\n",
       "      <td>0</td>\n",
       "      <td>0</td>\n",
       "    </tr>\n",
       "    <tr>\n",
       "      <th>4</th>\n",
       "      <td>36.2</td>\n",
       "      <td>0.066770</td>\n",
       "      <td>32.18</td>\n",
       "      <td>0.458</td>\n",
       "      <td>7.147</td>\n",
       "      <td>54.2</td>\n",
       "      <td>21.3</td>\n",
       "      <td>5.33</td>\n",
       "      <td>8.824</td>\n",
       "      <td>11.28960</td>\n",
       "      <td>55</td>\n",
       "      <td>0.039474</td>\n",
       "      <td>6.0625</td>\n",
       "      <td>1</td>\n",
       "      <td>0</td>\n",
       "      <td>1</td>\n",
       "      <td>0</td>\n",
       "      <td>0</td>\n",
       "      <td>0</td>\n",
       "    </tr>\n",
       "  </tbody>\n",
       "</table>\n",
       "</div>"
      ],
      "text/plain": [
       "   price  crime_rate  resid_area  air_qual  room_num   age  teachers  \\\n",
       "0   24.0    0.006300       32.31     0.538     6.575  65.2      24.7   \n",
       "1   21.6    0.026944       37.07     0.469     6.421  78.9      22.2   \n",
       "2   34.7    0.026924       37.07     0.469     7.185  61.1      22.2   \n",
       "3   33.4    0.031857       32.18     0.458     6.998  45.8      21.3   \n",
       "4   36.2    0.066770       32.18     0.458     7.147  54.2      21.3   \n",
       "\n",
       "   poor_prop  n_hos_beds  n_hot_rooms  rainfall     parks  avg_dist  \\\n",
       "0       4.98       5.480     11.19200        23  0.049347    4.0875   \n",
       "1       9.14       7.332     12.17280        42  0.046146    4.9675   \n",
       "2       4.03       7.394     46.19856        38  0.045764    4.9675   \n",
       "3       2.94       9.268     11.26720        45  0.047151    6.0650   \n",
       "4       5.33       8.824     11.28960        55  0.039474    6.0625   \n",
       "\n",
       "   airport_NO  airport_YES  waterbody_Lake  waterbody_Lake and River  \\\n",
       "0           0            1               0                         0   \n",
       "1           1            0               1                         0   \n",
       "2           1            0               0                         0   \n",
       "3           0            1               1                         0   \n",
       "4           1            0               1                         0   \n",
       "\n",
       "   waterbody_None  waterbody_River  \n",
       "0               0                1  \n",
       "1               0                0  \n",
       "2               1                0  \n",
       "3               0                0  \n",
       "4               0                0  "
      ]
     },
     "execution_count": 39,
     "metadata": {},
     "output_type": "execute_result"
    }
   ],
   "source": [
    "df.head()"
   ]
  },
  {
   "cell_type": "code",
   "execution_count": 40,
   "id": "d46ca4b8",
   "metadata": {},
   "outputs": [],
   "source": [
    "del df['airport_NO']"
   ]
  },
  {
   "cell_type": "code",
   "execution_count": 41,
   "id": "ab92a1a7",
   "metadata": {},
   "outputs": [],
   "source": [
    "del df['waterbody_None']"
   ]
  },
  {
   "cell_type": "code",
   "execution_count": 42,
   "id": "73f068b7",
   "metadata": {},
   "outputs": [
    {
     "data": {
      "text/html": [
       "<div>\n",
       "<style scoped>\n",
       "    .dataframe tbody tr th:only-of-type {\n",
       "        vertical-align: middle;\n",
       "    }\n",
       "\n",
       "    .dataframe tbody tr th {\n",
       "        vertical-align: top;\n",
       "    }\n",
       "\n",
       "    .dataframe thead th {\n",
       "        text-align: right;\n",
       "    }\n",
       "</style>\n",
       "<table border=\"1\" class=\"dataframe\">\n",
       "  <thead>\n",
       "    <tr style=\"text-align: right;\">\n",
       "      <th></th>\n",
       "      <th>price</th>\n",
       "      <th>crime_rate</th>\n",
       "      <th>resid_area</th>\n",
       "      <th>air_qual</th>\n",
       "      <th>room_num</th>\n",
       "      <th>age</th>\n",
       "      <th>teachers</th>\n",
       "      <th>poor_prop</th>\n",
       "      <th>n_hos_beds</th>\n",
       "      <th>n_hot_rooms</th>\n",
       "      <th>rainfall</th>\n",
       "      <th>parks</th>\n",
       "      <th>avg_dist</th>\n",
       "      <th>airport_YES</th>\n",
       "      <th>waterbody_Lake</th>\n",
       "      <th>waterbody_Lake and River</th>\n",
       "      <th>waterbody_River</th>\n",
       "    </tr>\n",
       "  </thead>\n",
       "  <tbody>\n",
       "    <tr>\n",
       "      <th>0</th>\n",
       "      <td>24.0</td>\n",
       "      <td>0.006300</td>\n",
       "      <td>32.31</td>\n",
       "      <td>0.538</td>\n",
       "      <td>6.575</td>\n",
       "      <td>65.2</td>\n",
       "      <td>24.7</td>\n",
       "      <td>4.98</td>\n",
       "      <td>5.480</td>\n",
       "      <td>11.19200</td>\n",
       "      <td>23</td>\n",
       "      <td>0.049347</td>\n",
       "      <td>4.0875</td>\n",
       "      <td>1</td>\n",
       "      <td>0</td>\n",
       "      <td>0</td>\n",
       "      <td>1</td>\n",
       "    </tr>\n",
       "    <tr>\n",
       "      <th>1</th>\n",
       "      <td>21.6</td>\n",
       "      <td>0.026944</td>\n",
       "      <td>37.07</td>\n",
       "      <td>0.469</td>\n",
       "      <td>6.421</td>\n",
       "      <td>78.9</td>\n",
       "      <td>22.2</td>\n",
       "      <td>9.14</td>\n",
       "      <td>7.332</td>\n",
       "      <td>12.17280</td>\n",
       "      <td>42</td>\n",
       "      <td>0.046146</td>\n",
       "      <td>4.9675</td>\n",
       "      <td>0</td>\n",
       "      <td>1</td>\n",
       "      <td>0</td>\n",
       "      <td>0</td>\n",
       "    </tr>\n",
       "    <tr>\n",
       "      <th>2</th>\n",
       "      <td>34.7</td>\n",
       "      <td>0.026924</td>\n",
       "      <td>37.07</td>\n",
       "      <td>0.469</td>\n",
       "      <td>7.185</td>\n",
       "      <td>61.1</td>\n",
       "      <td>22.2</td>\n",
       "      <td>4.03</td>\n",
       "      <td>7.394</td>\n",
       "      <td>46.19856</td>\n",
       "      <td>38</td>\n",
       "      <td>0.045764</td>\n",
       "      <td>4.9675</td>\n",
       "      <td>0</td>\n",
       "      <td>0</td>\n",
       "      <td>0</td>\n",
       "      <td>0</td>\n",
       "    </tr>\n",
       "    <tr>\n",
       "      <th>3</th>\n",
       "      <td>33.4</td>\n",
       "      <td>0.031857</td>\n",
       "      <td>32.18</td>\n",
       "      <td>0.458</td>\n",
       "      <td>6.998</td>\n",
       "      <td>45.8</td>\n",
       "      <td>21.3</td>\n",
       "      <td>2.94</td>\n",
       "      <td>9.268</td>\n",
       "      <td>11.26720</td>\n",
       "      <td>45</td>\n",
       "      <td>0.047151</td>\n",
       "      <td>6.0650</td>\n",
       "      <td>1</td>\n",
       "      <td>1</td>\n",
       "      <td>0</td>\n",
       "      <td>0</td>\n",
       "    </tr>\n",
       "    <tr>\n",
       "      <th>4</th>\n",
       "      <td>36.2</td>\n",
       "      <td>0.066770</td>\n",
       "      <td>32.18</td>\n",
       "      <td>0.458</td>\n",
       "      <td>7.147</td>\n",
       "      <td>54.2</td>\n",
       "      <td>21.3</td>\n",
       "      <td>5.33</td>\n",
       "      <td>8.824</td>\n",
       "      <td>11.28960</td>\n",
       "      <td>55</td>\n",
       "      <td>0.039474</td>\n",
       "      <td>6.0625</td>\n",
       "      <td>0</td>\n",
       "      <td>1</td>\n",
       "      <td>0</td>\n",
       "      <td>0</td>\n",
       "    </tr>\n",
       "  </tbody>\n",
       "</table>\n",
       "</div>"
      ],
      "text/plain": [
       "   price  crime_rate  resid_area  air_qual  room_num   age  teachers  \\\n",
       "0   24.0    0.006300       32.31     0.538     6.575  65.2      24.7   \n",
       "1   21.6    0.026944       37.07     0.469     6.421  78.9      22.2   \n",
       "2   34.7    0.026924       37.07     0.469     7.185  61.1      22.2   \n",
       "3   33.4    0.031857       32.18     0.458     6.998  45.8      21.3   \n",
       "4   36.2    0.066770       32.18     0.458     7.147  54.2      21.3   \n",
       "\n",
       "   poor_prop  n_hos_beds  n_hot_rooms  rainfall     parks  avg_dist  \\\n",
       "0       4.98       5.480     11.19200        23  0.049347    4.0875   \n",
       "1       9.14       7.332     12.17280        42  0.046146    4.9675   \n",
       "2       4.03       7.394     46.19856        38  0.045764    4.9675   \n",
       "3       2.94       9.268     11.26720        45  0.047151    6.0650   \n",
       "4       5.33       8.824     11.28960        55  0.039474    6.0625   \n",
       "\n",
       "   airport_YES  waterbody_Lake  waterbody_Lake and River  waterbody_River  \n",
       "0            1               0                         0                1  \n",
       "1            0               1                         0                0  \n",
       "2            0               0                         0                0  \n",
       "3            1               1                         0                0  \n",
       "4            0               1                         0                0  "
      ]
     },
     "execution_count": 42,
     "metadata": {},
     "output_type": "execute_result"
    }
   ],
   "source": [
    "df.head()"
   ]
  },
  {
   "cell_type": "code",
   "execution_count": 43,
   "id": "2eb116db",
   "metadata": {},
   "outputs": [
    {
     "data": {
      "text/html": [
       "<div>\n",
       "<style scoped>\n",
       "    .dataframe tbody tr th:only-of-type {\n",
       "        vertical-align: middle;\n",
       "    }\n",
       "\n",
       "    .dataframe tbody tr th {\n",
       "        vertical-align: top;\n",
       "    }\n",
       "\n",
       "    .dataframe thead th {\n",
       "        text-align: right;\n",
       "    }\n",
       "</style>\n",
       "<table border=\"1\" class=\"dataframe\">\n",
       "  <thead>\n",
       "    <tr style=\"text-align: right;\">\n",
       "      <th></th>\n",
       "      <th>price</th>\n",
       "      <th>crime_rate</th>\n",
       "      <th>resid_area</th>\n",
       "      <th>air_qual</th>\n",
       "      <th>room_num</th>\n",
       "      <th>age</th>\n",
       "      <th>teachers</th>\n",
       "      <th>poor_prop</th>\n",
       "      <th>n_hos_beds</th>\n",
       "      <th>n_hot_rooms</th>\n",
       "      <th>rainfall</th>\n",
       "      <th>parks</th>\n",
       "      <th>avg_dist</th>\n",
       "      <th>airport_YES</th>\n",
       "      <th>waterbody_Lake</th>\n",
       "      <th>waterbody_Lake and River</th>\n",
       "      <th>waterbody_River</th>\n",
       "    </tr>\n",
       "  </thead>\n",
       "  <tbody>\n",
       "    <tr>\n",
       "      <th>price</th>\n",
       "      <td>1.000000</td>\n",
       "      <td>-0.466527</td>\n",
       "      <td>-0.484754</td>\n",
       "      <td>-0.429300</td>\n",
       "      <td>0.696304</td>\n",
       "      <td>-0.377999</td>\n",
       "      <td>0.505655</td>\n",
       "      <td>-0.740836</td>\n",
       "      <td>0.108880</td>\n",
       "      <td>0.017007</td>\n",
       "      <td>-0.047200</td>\n",
       "      <td>-0.391574</td>\n",
       "      <td>0.249289</td>\n",
       "      <td>0.182867</td>\n",
       "      <td>0.036233</td>\n",
       "      <td>-0.037497</td>\n",
       "      <td>0.071751</td>\n",
       "    </tr>\n",
       "    <tr>\n",
       "      <th>crime_rate</th>\n",
       "      <td>-0.466527</td>\n",
       "      <td>1.000000</td>\n",
       "      <td>0.660283</td>\n",
       "      <td>0.707587</td>\n",
       "      <td>-0.288784</td>\n",
       "      <td>0.559591</td>\n",
       "      <td>-0.390052</td>\n",
       "      <td>0.608970</td>\n",
       "      <td>-0.004089</td>\n",
       "      <td>0.056570</td>\n",
       "      <td>0.082151</td>\n",
       "      <td>0.638951</td>\n",
       "      <td>-0.586371</td>\n",
       "      <td>-0.134486</td>\n",
       "      <td>-0.025390</td>\n",
       "      <td>0.009076</td>\n",
       "      <td>-0.060099</td>\n",
       "    </tr>\n",
       "    <tr>\n",
       "      <th>resid_area</th>\n",
       "      <td>-0.484754</td>\n",
       "      <td>0.660283</td>\n",
       "      <td>1.000000</td>\n",
       "      <td>0.763651</td>\n",
       "      <td>-0.391676</td>\n",
       "      <td>0.644779</td>\n",
       "      <td>-0.383248</td>\n",
       "      <td>0.603800</td>\n",
       "      <td>0.005799</td>\n",
       "      <td>-0.003761</td>\n",
       "      <td>0.055845</td>\n",
       "      <td>0.707635</td>\n",
       "      <td>-0.708022</td>\n",
       "      <td>-0.115401</td>\n",
       "      <td>-0.026590</td>\n",
       "      <td>0.051649</td>\n",
       "      <td>-0.098976</td>\n",
       "    </tr>\n",
       "    <tr>\n",
       "      <th>air_qual</th>\n",
       "      <td>-0.429300</td>\n",
       "      <td>0.707587</td>\n",
       "      <td>0.763651</td>\n",
       "      <td>1.000000</td>\n",
       "      <td>-0.302188</td>\n",
       "      <td>0.731470</td>\n",
       "      <td>-0.188933</td>\n",
       "      <td>0.590879</td>\n",
       "      <td>-0.049553</td>\n",
       "      <td>0.007238</td>\n",
       "      <td>0.091956</td>\n",
       "      <td>0.915544</td>\n",
       "      <td>-0.769247</td>\n",
       "      <td>-0.073903</td>\n",
       "      <td>-0.046393</td>\n",
       "      <td>0.013849</td>\n",
       "      <td>-0.037772</td>\n",
       "    </tr>\n",
       "    <tr>\n",
       "      <th>room_num</th>\n",
       "      <td>0.696304</td>\n",
       "      <td>-0.288784</td>\n",
       "      <td>-0.391676</td>\n",
       "      <td>-0.302188</td>\n",
       "      <td>1.000000</td>\n",
       "      <td>-0.240265</td>\n",
       "      <td>0.355501</td>\n",
       "      <td>-0.613808</td>\n",
       "      <td>0.032009</td>\n",
       "      <td>0.014583</td>\n",
       "      <td>-0.064718</td>\n",
       "      <td>-0.282817</td>\n",
       "      <td>0.205241</td>\n",
       "      <td>0.163774</td>\n",
       "      <td>-0.004195</td>\n",
       "      <td>0.010554</td>\n",
       "      <td>0.046251</td>\n",
       "    </tr>\n",
       "    <tr>\n",
       "      <th>age</th>\n",
       "      <td>-0.377999</td>\n",
       "      <td>0.559591</td>\n",
       "      <td>0.644779</td>\n",
       "      <td>0.731470</td>\n",
       "      <td>-0.240265</td>\n",
       "      <td>1.000000</td>\n",
       "      <td>-0.261515</td>\n",
       "      <td>0.602339</td>\n",
       "      <td>-0.021012</td>\n",
       "      <td>0.013918</td>\n",
       "      <td>0.074684</td>\n",
       "      <td>0.673850</td>\n",
       "      <td>-0.747906</td>\n",
       "      <td>0.005101</td>\n",
       "      <td>0.003452</td>\n",
       "      <td>-0.004354</td>\n",
       "      <td>-0.088609</td>\n",
       "    </tr>\n",
       "    <tr>\n",
       "      <th>teachers</th>\n",
       "      <td>0.505655</td>\n",
       "      <td>-0.390052</td>\n",
       "      <td>-0.383248</td>\n",
       "      <td>-0.188933</td>\n",
       "      <td>0.355501</td>\n",
       "      <td>-0.261515</td>\n",
       "      <td>1.000000</td>\n",
       "      <td>-0.374044</td>\n",
       "      <td>-0.008056</td>\n",
       "      <td>-0.037007</td>\n",
       "      <td>-0.045928</td>\n",
       "      <td>-0.187004</td>\n",
       "      <td>0.232452</td>\n",
       "      <td>0.069437</td>\n",
       "      <td>0.048717</td>\n",
       "      <td>-0.046981</td>\n",
       "      <td>0.094256</td>\n",
       "    </tr>\n",
       "    <tr>\n",
       "      <th>poor_prop</th>\n",
       "      <td>-0.740836</td>\n",
       "      <td>0.608970</td>\n",
       "      <td>0.603800</td>\n",
       "      <td>0.590879</td>\n",
       "      <td>-0.613808</td>\n",
       "      <td>0.602339</td>\n",
       "      <td>-0.374044</td>\n",
       "      <td>1.000000</td>\n",
       "      <td>-0.066008</td>\n",
       "      <td>0.017036</td>\n",
       "      <td>0.061444</td>\n",
       "      <td>0.552310</td>\n",
       "      <td>-0.496967</td>\n",
       "      <td>-0.095054</td>\n",
       "      <td>0.003197</td>\n",
       "      <td>0.020620</td>\n",
       "      <td>-0.109004</td>\n",
       "    </tr>\n",
       "    <tr>\n",
       "      <th>n_hos_beds</th>\n",
       "      <td>0.108880</td>\n",
       "      <td>-0.004089</td>\n",
       "      <td>0.005799</td>\n",
       "      <td>-0.049553</td>\n",
       "      <td>0.032009</td>\n",
       "      <td>-0.021012</td>\n",
       "      <td>-0.008056</td>\n",
       "      <td>-0.066008</td>\n",
       "      <td>1.000000</td>\n",
       "      <td>-0.003130</td>\n",
       "      <td>0.058596</td>\n",
       "      <td>-0.071272</td>\n",
       "      <td>-0.027871</td>\n",
       "      <td>-0.006365</td>\n",
       "      <td>0.042278</td>\n",
       "      <td>0.059482</td>\n",
       "      <td>-0.074148</td>\n",
       "    </tr>\n",
       "    <tr>\n",
       "      <th>n_hot_rooms</th>\n",
       "      <td>0.017007</td>\n",
       "      <td>0.056570</td>\n",
       "      <td>-0.003761</td>\n",
       "      <td>0.007238</td>\n",
       "      <td>0.014583</td>\n",
       "      <td>0.013918</td>\n",
       "      <td>-0.037007</td>\n",
       "      <td>0.017036</td>\n",
       "      <td>-0.003130</td>\n",
       "      <td>1.000000</td>\n",
       "      <td>0.014869</td>\n",
       "      <td>0.023757</td>\n",
       "      <td>-0.020700</td>\n",
       "      <td>-0.055338</td>\n",
       "      <td>0.037925</td>\n",
       "      <td>0.014755</td>\n",
       "      <td>-0.064096</td>\n",
       "    </tr>\n",
       "    <tr>\n",
       "      <th>rainfall</th>\n",
       "      <td>-0.047200</td>\n",
       "      <td>0.082151</td>\n",
       "      <td>0.055845</td>\n",
       "      <td>0.091956</td>\n",
       "      <td>-0.064718</td>\n",
       "      <td>0.074684</td>\n",
       "      <td>-0.045928</td>\n",
       "      <td>0.061444</td>\n",
       "      <td>0.058596</td>\n",
       "      <td>0.014869</td>\n",
       "      <td>1.000000</td>\n",
       "      <td>0.078278</td>\n",
       "      <td>-0.037285</td>\n",
       "      <td>-0.013171</td>\n",
       "      <td>-0.016170</td>\n",
       "      <td>0.109234</td>\n",
       "      <td>-0.037016</td>\n",
       "    </tr>\n",
       "    <tr>\n",
       "      <th>parks</th>\n",
       "      <td>-0.391574</td>\n",
       "      <td>0.638951</td>\n",
       "      <td>0.707635</td>\n",
       "      <td>0.915544</td>\n",
       "      <td>-0.282817</td>\n",
       "      <td>0.673850</td>\n",
       "      <td>-0.187004</td>\n",
       "      <td>0.552310</td>\n",
       "      <td>-0.071272</td>\n",
       "      <td>0.023757</td>\n",
       "      <td>0.078278</td>\n",
       "      <td>1.000000</td>\n",
       "      <td>-0.707924</td>\n",
       "      <td>-0.052503</td>\n",
       "      <td>-0.034991</td>\n",
       "      <td>0.013265</td>\n",
       "      <td>-0.048862</td>\n",
       "    </tr>\n",
       "    <tr>\n",
       "      <th>avg_dist</th>\n",
       "      <td>0.249289</td>\n",
       "      <td>-0.586371</td>\n",
       "      <td>-0.708022</td>\n",
       "      <td>-0.769247</td>\n",
       "      <td>0.205241</td>\n",
       "      <td>-0.747906</td>\n",
       "      <td>0.232452</td>\n",
       "      <td>-0.496967</td>\n",
       "      <td>-0.027871</td>\n",
       "      <td>-0.020700</td>\n",
       "      <td>-0.037285</td>\n",
       "      <td>-0.707924</td>\n",
       "      <td>1.000000</td>\n",
       "      <td>0.021402</td>\n",
       "      <td>0.034890</td>\n",
       "      <td>-0.021320</td>\n",
       "      <td>0.032247</td>\n",
       "    </tr>\n",
       "    <tr>\n",
       "      <th>airport_YES</th>\n",
       "      <td>0.182867</td>\n",
       "      <td>-0.134486</td>\n",
       "      <td>-0.115401</td>\n",
       "      <td>-0.073903</td>\n",
       "      <td>0.163774</td>\n",
       "      <td>0.005101</td>\n",
       "      <td>0.069437</td>\n",
       "      <td>-0.095054</td>\n",
       "      <td>-0.006365</td>\n",
       "      <td>-0.055338</td>\n",
       "      <td>-0.013171</td>\n",
       "      <td>-0.052503</td>\n",
       "      <td>0.021402</td>\n",
       "      <td>1.000000</td>\n",
       "      <td>0.035491</td>\n",
       "      <td>-0.070341</td>\n",
       "      <td>0.017341</td>\n",
       "    </tr>\n",
       "    <tr>\n",
       "      <th>waterbody_Lake</th>\n",
       "      <td>0.036233</td>\n",
       "      <td>-0.025390</td>\n",
       "      <td>-0.026590</td>\n",
       "      <td>-0.046393</td>\n",
       "      <td>-0.004195</td>\n",
       "      <td>0.003452</td>\n",
       "      <td>0.048717</td>\n",
       "      <td>0.003197</td>\n",
       "      <td>0.042278</td>\n",
       "      <td>0.037925</td>\n",
       "      <td>-0.016170</td>\n",
       "      <td>-0.034991</td>\n",
       "      <td>0.034890</td>\n",
       "      <td>0.035491</td>\n",
       "      <td>1.000000</td>\n",
       "      <td>-0.196747</td>\n",
       "      <td>-0.366563</td>\n",
       "    </tr>\n",
       "    <tr>\n",
       "      <th>waterbody_Lake and River</th>\n",
       "      <td>-0.037497</td>\n",
       "      <td>0.009076</td>\n",
       "      <td>0.051649</td>\n",
       "      <td>0.013849</td>\n",
       "      <td>0.010554</td>\n",
       "      <td>-0.004354</td>\n",
       "      <td>-0.046981</td>\n",
       "      <td>0.020620</td>\n",
       "      <td>0.059482</td>\n",
       "      <td>0.014755</td>\n",
       "      <td>0.109234</td>\n",
       "      <td>0.013265</td>\n",
       "      <td>-0.021320</td>\n",
       "      <td>-0.070341</td>\n",
       "      <td>-0.196747</td>\n",
       "      <td>1.000000</td>\n",
       "      <td>-0.304095</td>\n",
       "    </tr>\n",
       "    <tr>\n",
       "      <th>waterbody_River</th>\n",
       "      <td>0.071751</td>\n",
       "      <td>-0.060099</td>\n",
       "      <td>-0.098976</td>\n",
       "      <td>-0.037772</td>\n",
       "      <td>0.046251</td>\n",
       "      <td>-0.088609</td>\n",
       "      <td>0.094256</td>\n",
       "      <td>-0.109004</td>\n",
       "      <td>-0.074148</td>\n",
       "      <td>-0.064096</td>\n",
       "      <td>-0.037016</td>\n",
       "      <td>-0.048862</td>\n",
       "      <td>0.032247</td>\n",
       "      <td>0.017341</td>\n",
       "      <td>-0.366563</td>\n",
       "      <td>-0.304095</td>\n",
       "      <td>1.000000</td>\n",
       "    </tr>\n",
       "  </tbody>\n",
       "</table>\n",
       "</div>"
      ],
      "text/plain": [
       "                             price  crime_rate  resid_area  air_qual  \\\n",
       "price                     1.000000   -0.466527   -0.484754 -0.429300   \n",
       "crime_rate               -0.466527    1.000000    0.660283  0.707587   \n",
       "resid_area               -0.484754    0.660283    1.000000  0.763651   \n",
       "air_qual                 -0.429300    0.707587    0.763651  1.000000   \n",
       "room_num                  0.696304   -0.288784   -0.391676 -0.302188   \n",
       "age                      -0.377999    0.559591    0.644779  0.731470   \n",
       "teachers                  0.505655   -0.390052   -0.383248 -0.188933   \n",
       "poor_prop                -0.740836    0.608970    0.603800  0.590879   \n",
       "n_hos_beds                0.108880   -0.004089    0.005799 -0.049553   \n",
       "n_hot_rooms               0.017007    0.056570   -0.003761  0.007238   \n",
       "rainfall                 -0.047200    0.082151    0.055845  0.091956   \n",
       "parks                    -0.391574    0.638951    0.707635  0.915544   \n",
       "avg_dist                  0.249289   -0.586371   -0.708022 -0.769247   \n",
       "airport_YES               0.182867   -0.134486   -0.115401 -0.073903   \n",
       "waterbody_Lake            0.036233   -0.025390   -0.026590 -0.046393   \n",
       "waterbody_Lake and River -0.037497    0.009076    0.051649  0.013849   \n",
       "waterbody_River           0.071751   -0.060099   -0.098976 -0.037772   \n",
       "\n",
       "                          room_num       age  teachers  poor_prop  n_hos_beds  \\\n",
       "price                     0.696304 -0.377999  0.505655  -0.740836    0.108880   \n",
       "crime_rate               -0.288784  0.559591 -0.390052   0.608970   -0.004089   \n",
       "resid_area               -0.391676  0.644779 -0.383248   0.603800    0.005799   \n",
       "air_qual                 -0.302188  0.731470 -0.188933   0.590879   -0.049553   \n",
       "room_num                  1.000000 -0.240265  0.355501  -0.613808    0.032009   \n",
       "age                      -0.240265  1.000000 -0.261515   0.602339   -0.021012   \n",
       "teachers                  0.355501 -0.261515  1.000000  -0.374044   -0.008056   \n",
       "poor_prop                -0.613808  0.602339 -0.374044   1.000000   -0.066008   \n",
       "n_hos_beds                0.032009 -0.021012 -0.008056  -0.066008    1.000000   \n",
       "n_hot_rooms               0.014583  0.013918 -0.037007   0.017036   -0.003130   \n",
       "rainfall                 -0.064718  0.074684 -0.045928   0.061444    0.058596   \n",
       "parks                    -0.282817  0.673850 -0.187004   0.552310   -0.071272   \n",
       "avg_dist                  0.205241 -0.747906  0.232452  -0.496967   -0.027871   \n",
       "airport_YES               0.163774  0.005101  0.069437  -0.095054   -0.006365   \n",
       "waterbody_Lake           -0.004195  0.003452  0.048717   0.003197    0.042278   \n",
       "waterbody_Lake and River  0.010554 -0.004354 -0.046981   0.020620    0.059482   \n",
       "waterbody_River           0.046251 -0.088609  0.094256  -0.109004   -0.074148   \n",
       "\n",
       "                          n_hot_rooms  rainfall     parks  avg_dist  \\\n",
       "price                        0.017007 -0.047200 -0.391574  0.249289   \n",
       "crime_rate                   0.056570  0.082151  0.638951 -0.586371   \n",
       "resid_area                  -0.003761  0.055845  0.707635 -0.708022   \n",
       "air_qual                     0.007238  0.091956  0.915544 -0.769247   \n",
       "room_num                     0.014583 -0.064718 -0.282817  0.205241   \n",
       "age                          0.013918  0.074684  0.673850 -0.747906   \n",
       "teachers                    -0.037007 -0.045928 -0.187004  0.232452   \n",
       "poor_prop                    0.017036  0.061444  0.552310 -0.496967   \n",
       "n_hos_beds                  -0.003130  0.058596 -0.071272 -0.027871   \n",
       "n_hot_rooms                  1.000000  0.014869  0.023757 -0.020700   \n",
       "rainfall                     0.014869  1.000000  0.078278 -0.037285   \n",
       "parks                        0.023757  0.078278  1.000000 -0.707924   \n",
       "avg_dist                    -0.020700 -0.037285 -0.707924  1.000000   \n",
       "airport_YES                 -0.055338 -0.013171 -0.052503  0.021402   \n",
       "waterbody_Lake               0.037925 -0.016170 -0.034991  0.034890   \n",
       "waterbody_Lake and River     0.014755  0.109234  0.013265 -0.021320   \n",
       "waterbody_River             -0.064096 -0.037016 -0.048862  0.032247   \n",
       "\n",
       "                          airport_YES  waterbody_Lake  \\\n",
       "price                        0.182867        0.036233   \n",
       "crime_rate                  -0.134486       -0.025390   \n",
       "resid_area                  -0.115401       -0.026590   \n",
       "air_qual                    -0.073903       -0.046393   \n",
       "room_num                     0.163774       -0.004195   \n",
       "age                          0.005101        0.003452   \n",
       "teachers                     0.069437        0.048717   \n",
       "poor_prop                   -0.095054        0.003197   \n",
       "n_hos_beds                  -0.006365        0.042278   \n",
       "n_hot_rooms                 -0.055338        0.037925   \n",
       "rainfall                    -0.013171       -0.016170   \n",
       "parks                       -0.052503       -0.034991   \n",
       "avg_dist                     0.021402        0.034890   \n",
       "airport_YES                  1.000000        0.035491   \n",
       "waterbody_Lake               0.035491        1.000000   \n",
       "waterbody_Lake and River    -0.070341       -0.196747   \n",
       "waterbody_River              0.017341       -0.366563   \n",
       "\n",
       "                          waterbody_Lake and River  waterbody_River  \n",
       "price                                    -0.037497         0.071751  \n",
       "crime_rate                                0.009076        -0.060099  \n",
       "resid_area                                0.051649        -0.098976  \n",
       "air_qual                                  0.013849        -0.037772  \n",
       "room_num                                  0.010554         0.046251  \n",
       "age                                      -0.004354        -0.088609  \n",
       "teachers                                 -0.046981         0.094256  \n",
       "poor_prop                                 0.020620        -0.109004  \n",
       "n_hos_beds                                0.059482        -0.074148  \n",
       "n_hot_rooms                               0.014755        -0.064096  \n",
       "rainfall                                  0.109234        -0.037016  \n",
       "parks                                     0.013265        -0.048862  \n",
       "avg_dist                                 -0.021320         0.032247  \n",
       "airport_YES                              -0.070341         0.017341  \n",
       "waterbody_Lake                           -0.196747        -0.366563  \n",
       "waterbody_Lake and River                  1.000000        -0.304095  \n",
       "waterbody_River                          -0.304095         1.000000  "
      ]
     },
     "execution_count": 43,
     "metadata": {},
     "output_type": "execute_result"
    }
   ],
   "source": [
    "df.corr()"
   ]
  },
  {
   "cell_type": "code",
   "execution_count": 44,
   "id": "412b3449",
   "metadata": {},
   "outputs": [],
   "source": [
    "del df['parks']"
   ]
  },
  {
   "cell_type": "code",
   "execution_count": 45,
   "id": "78e2fc29",
   "metadata": {},
   "outputs": [
    {
     "data": {
      "text/html": [
       "<div>\n",
       "<style scoped>\n",
       "    .dataframe tbody tr th:only-of-type {\n",
       "        vertical-align: middle;\n",
       "    }\n",
       "\n",
       "    .dataframe tbody tr th {\n",
       "        vertical-align: top;\n",
       "    }\n",
       "\n",
       "    .dataframe thead th {\n",
       "        text-align: right;\n",
       "    }\n",
       "</style>\n",
       "<table border=\"1\" class=\"dataframe\">\n",
       "  <thead>\n",
       "    <tr style=\"text-align: right;\">\n",
       "      <th></th>\n",
       "      <th>price</th>\n",
       "      <th>crime_rate</th>\n",
       "      <th>resid_area</th>\n",
       "      <th>air_qual</th>\n",
       "      <th>room_num</th>\n",
       "      <th>age</th>\n",
       "      <th>teachers</th>\n",
       "      <th>poor_prop</th>\n",
       "      <th>n_hos_beds</th>\n",
       "      <th>n_hot_rooms</th>\n",
       "      <th>rainfall</th>\n",
       "      <th>avg_dist</th>\n",
       "      <th>airport_YES</th>\n",
       "      <th>waterbody_Lake</th>\n",
       "      <th>waterbody_Lake and River</th>\n",
       "      <th>waterbody_River</th>\n",
       "    </tr>\n",
       "  </thead>\n",
       "  <tbody>\n",
       "    <tr>\n",
       "      <th>0</th>\n",
       "      <td>24.0</td>\n",
       "      <td>0.006300</td>\n",
       "      <td>32.31</td>\n",
       "      <td>0.538</td>\n",
       "      <td>6.575</td>\n",
       "      <td>65.2</td>\n",
       "      <td>24.7</td>\n",
       "      <td>4.98</td>\n",
       "      <td>5.480</td>\n",
       "      <td>11.19200</td>\n",
       "      <td>23</td>\n",
       "      <td>4.0875</td>\n",
       "      <td>1</td>\n",
       "      <td>0</td>\n",
       "      <td>0</td>\n",
       "      <td>1</td>\n",
       "    </tr>\n",
       "    <tr>\n",
       "      <th>1</th>\n",
       "      <td>21.6</td>\n",
       "      <td>0.026944</td>\n",
       "      <td>37.07</td>\n",
       "      <td>0.469</td>\n",
       "      <td>6.421</td>\n",
       "      <td>78.9</td>\n",
       "      <td>22.2</td>\n",
       "      <td>9.14</td>\n",
       "      <td>7.332</td>\n",
       "      <td>12.17280</td>\n",
       "      <td>42</td>\n",
       "      <td>4.9675</td>\n",
       "      <td>0</td>\n",
       "      <td>1</td>\n",
       "      <td>0</td>\n",
       "      <td>0</td>\n",
       "    </tr>\n",
       "    <tr>\n",
       "      <th>2</th>\n",
       "      <td>34.7</td>\n",
       "      <td>0.026924</td>\n",
       "      <td>37.07</td>\n",
       "      <td>0.469</td>\n",
       "      <td>7.185</td>\n",
       "      <td>61.1</td>\n",
       "      <td>22.2</td>\n",
       "      <td>4.03</td>\n",
       "      <td>7.394</td>\n",
       "      <td>46.19856</td>\n",
       "      <td>38</td>\n",
       "      <td>4.9675</td>\n",
       "      <td>0</td>\n",
       "      <td>0</td>\n",
       "      <td>0</td>\n",
       "      <td>0</td>\n",
       "    </tr>\n",
       "    <tr>\n",
       "      <th>3</th>\n",
       "      <td>33.4</td>\n",
       "      <td>0.031857</td>\n",
       "      <td>32.18</td>\n",
       "      <td>0.458</td>\n",
       "      <td>6.998</td>\n",
       "      <td>45.8</td>\n",
       "      <td>21.3</td>\n",
       "      <td>2.94</td>\n",
       "      <td>9.268</td>\n",
       "      <td>11.26720</td>\n",
       "      <td>45</td>\n",
       "      <td>6.0650</td>\n",
       "      <td>1</td>\n",
       "      <td>1</td>\n",
       "      <td>0</td>\n",
       "      <td>0</td>\n",
       "    </tr>\n",
       "    <tr>\n",
       "      <th>4</th>\n",
       "      <td>36.2</td>\n",
       "      <td>0.066770</td>\n",
       "      <td>32.18</td>\n",
       "      <td>0.458</td>\n",
       "      <td>7.147</td>\n",
       "      <td>54.2</td>\n",
       "      <td>21.3</td>\n",
       "      <td>5.33</td>\n",
       "      <td>8.824</td>\n",
       "      <td>11.28960</td>\n",
       "      <td>55</td>\n",
       "      <td>6.0625</td>\n",
       "      <td>0</td>\n",
       "      <td>1</td>\n",
       "      <td>0</td>\n",
       "      <td>0</td>\n",
       "    </tr>\n",
       "  </tbody>\n",
       "</table>\n",
       "</div>"
      ],
      "text/plain": [
       "   price  crime_rate  resid_area  air_qual  room_num   age  teachers  \\\n",
       "0   24.0    0.006300       32.31     0.538     6.575  65.2      24.7   \n",
       "1   21.6    0.026944       37.07     0.469     6.421  78.9      22.2   \n",
       "2   34.7    0.026924       37.07     0.469     7.185  61.1      22.2   \n",
       "3   33.4    0.031857       32.18     0.458     6.998  45.8      21.3   \n",
       "4   36.2    0.066770       32.18     0.458     7.147  54.2      21.3   \n",
       "\n",
       "   poor_prop  n_hos_beds  n_hot_rooms  rainfall  avg_dist  airport_YES  \\\n",
       "0       4.98       5.480     11.19200        23    4.0875            1   \n",
       "1       9.14       7.332     12.17280        42    4.9675            0   \n",
       "2       4.03       7.394     46.19856        38    4.9675            0   \n",
       "3       2.94       9.268     11.26720        45    6.0650            1   \n",
       "4       5.33       8.824     11.28960        55    6.0625            0   \n",
       "\n",
       "   waterbody_Lake  waterbody_Lake and River  waterbody_River  \n",
       "0               0                         0                1  \n",
       "1               1                         0                0  \n",
       "2               0                         0                0  \n",
       "3               1                         0                0  \n",
       "4               1                         0                0  "
      ]
     },
     "execution_count": 45,
     "metadata": {},
     "output_type": "execute_result"
    }
   ],
   "source": [
    "df.head()"
   ]
  },
  {
   "cell_type": "markdown",
   "id": "b9873e2e",
   "metadata": {},
   "source": [
    "# Problem Statement\n",
    "   1. how accuractely can i predict the price, given the values of all vars.\n",
    "   2. how accurately can we estimate the effect of each vAR on house price."
   ]
  },
  {
   "cell_type": "code",
   "execution_count": 46,
   "id": "f1dbbf99",
   "metadata": {},
   "outputs": [],
   "source": [
    "from sklearn.linear_model import LinearRegression"
   ]
  },
  {
   "cell_type": "code",
   "execution_count": 47,
   "id": "bbe95259",
   "metadata": {},
   "outputs": [],
   "source": [
    "y = df['price']"
   ]
  },
  {
   "cell_type": "code",
   "execution_count": 48,
   "id": "321b7c73",
   "metadata": {},
   "outputs": [],
   "source": [
    "X = df[['room_num']]"
   ]
  },
  {
   "cell_type": "code",
   "execution_count": 49,
   "id": "1baeebe5",
   "metadata": {},
   "outputs": [],
   "source": [
    "lm2 = LinearRegression()"
   ]
  },
  {
   "cell_type": "code",
   "execution_count": 50,
   "id": "797ae84a",
   "metadata": {},
   "outputs": [
    {
     "data": {
      "text/plain": [
       "LinearRegression()"
      ]
     },
     "execution_count": 50,
     "metadata": {},
     "output_type": "execute_result"
    }
   ],
   "source": [
    "lm2.fit(X,y)"
   ]
  },
  {
   "cell_type": "code",
   "execution_count": 51,
   "id": "a81988df",
   "metadata": {},
   "outputs": [
    {
     "name": "stdout",
     "output_type": "stream",
     "text": [
      "-34.65924312309721 [9.09966966]\n"
     ]
    }
   ],
   "source": [
    "print(lm2.intercept_, lm2.coef_)"
   ]
  },
  {
   "cell_type": "code",
   "execution_count": 52,
   "id": "5cafdf37",
   "metadata": {},
   "outputs": [
    {
     "data": {
      "text/plain": [
       "array([25.17108491, 23.76973578, 30.72188341, 29.02024518, 30.37609596,\n",
       "       23.85163281, 20.04797089, 21.50391804, 16.58099675, 19.97517353,\n",
       "       23.36935032, 20.02067188, 18.92871152, 19.4746917 , 20.81234314,\n",
       "       18.42822969, 19.34729633, 19.84777816, 14.98855456, 17.45456504,\n",
       "       16.0259169 , 19.62028642, 21.23092795, 18.23713663, 19.24719996,\n",
       "       16.28980732, 18.23713663, 20.36645933, 24.44311134, 26.07195221,\n",
       "       17.32716966, 20.59395107, 19.48379137, 17.21797363, 20.81234314,\n",
       "       19.32909699, 18.49192738, 18.57382441, 19.62938609, 25.3530783 ,\n",
       "       29.25683659, 26.9455205 , 21.47661903, 21.85880515, 20.56665206,\n",
       "       17.0450799 , 17.99144555, 20.21176495, 14.46987339, 16.31710633,\n",
       "       19.60208708, 20.98523687, 24.58870605, 19.92057552, 18.91961185,\n",
       "       31.30426226, 23.42394834, 27.3641053 , 21.25822696, 19.27449897,\n",
       "       17.58196041, 19.62938609, 24.08822422, 26.87272314, 29.98481016,\n",
       "       22.57767906, 18.00054522, 18.82861516, 16.24430897, 18.89231284,\n",
       "       23.7333371 , 19.58388774, 20.53025338, 22.16819392, 22.42298467,\n",
       "       22.54128038, 22.47758269, 21.21272861, 22.04989822, 18.79221648,\n",
       "       26.5542347 , 25.57147038, 22.68687509, 21.45841969, 23.47854635,\n",
       "       25.67156674, 20.0752699 , 21.03983488, 29.10214221, 29.75731842,\n",
       "       23.7333371 , 23.62414107, 23.96082885, 21.85880515, 22.2045926 ,\n",
       "       25.62606839, 21.42202101, 38.76599139, 36.50017364, 32.8239071 ,\n",
       "       26.5542347 , 27.04561686, 23.62414107, 21.1854296 , 21.45841969,\n",
       "       18.58292408, 18.44642903, 21.0944329 , 24.25201828, 22.02259921,\n",
       "       21.71321044, 26.44503866, 19.14710359, 20.77594446, 22.25009095,\n",
       "       19.28359864, 21.54031672, 20.12986792, 18.77401714, 17.49096372,\n",
       "       18.7558178 , 19.97517353, 19.58388774, 18.62842242, 18.83771483,\n",
       "       19.81137948, 16.4172027 , 17.14517627, 23.86073248, 16.63559477,\n",
       "       24.10642356, 22.90526717, 23.32385197, 18.31903366, 17.72755513,\n",
       "       22.98716419, 19.41099401, 24.07002488, 18.63752209, 21.31282497,\n",
       "       21.52211738, 11.01199892, 14.50627207, 15.09775059,  9.95643723,\n",
       "       21.12173191, 16.55369774, 10.16572964, 12.53164375, 16.27160798,\n",
       "       21.04893455, 14.51537174, 10.94830123, 17.29077098, 21.11263224,\n",
       "       21.32192464, 13.31421534, 28.51976335, 20.53935305, 24.57960638,\n",
       "       22.21369227, 33.48818298, 36.33637959, 41.55049031, 18.61022308,\n",
       "       20.85784149, 37.49203764, 18.81951549, 22.84156948, 23.59684206,\n",
       "       18.80131615, 18.8468145 , 16.04411624, 23.72423744, 18.65572143,\n",
       "       24.90719449, 20.12076825, 22.8051708 , 27.76449077, 28.85645113,\n",
       "       35.99969181, 21.24912729, 30.44889332, 25.06188888, 16.33530567,\n",
       "       21.33102431, 36.60027001, 27.05471653, 24.99819119, 30.72188341,\n",
       "       28.5925607 , 26.66343074, 30.65818572, 27.21851059, 25.43497533,\n",
       "       37.00065547, 31.65004971, 30.01210917, 31.53175401, 28.81095278,\n",
       "       30.26689992, 21.41292134, 34.58924301, 36.80046274, 38.44750295,\n",
       "       18.94691086, 22.90526717, 17.96414654, 20.52115371, 13.96939156,\n",
       "       19.57478807, 14.51537174, 18.18253861, 23.35115098, 14.58816909,\n",
       "       21.59491473, 18.91961185, 25.78076278, 19.49289104, 23.33295164,\n",
       "       28.5925607 , 21.43112068, 27.93738449, 25.56237071, 40.55862631,\n",
       "       44.73537469, 38.50210097, 30.52169067, 35.28081791, 24.96179251,\n",
       "       19.76588113, 32.78750842, 41.20470286, 40.38573259, 26.54513503,\n",
       "       20.72134645, 25.68066641, 32.29612626, 24.31571596, 25.45317467,\n",
       "       28.10117854, 20.80324347, 23.19645659, 23.51494503, 16.2352093 ,\n",
       "       16.34440534, 20.92153918, 21.9953002 , 23.87893182, 26.47233767,\n",
       "       24.37031398, 23.92443017, 28.64715872, 40.49492862, 20.92153918,\n",
       "       18.81041582, 33.16969455, 44.54428162, 32.06863452, 27.60069671,\n",
       "       30.88567746, 33.77027274, 41.75978271, 32.0140365 , 30.91297647,\n",
       "       15.9349202 , 29.16583989, 40.84071607, 33.31528926, 19.21080128,\n",
       "       18.62842242, 22.12269557, 24.83439713, 35.32631626, 26.83632446,\n",
       "       27.70989275, 31.46805632, 27.455102  , 24.32481563, 27.32770662,\n",
       "       36.50017364, 28.74725509, 34.90773145, 37.43743962, 29.83921545,\n",
       "       24.06092521, 22.03169888, 21.84060581, 22.8051708 , 25.08008821,\n",
       "       27.77359044, 30.38519563, 25.67156674, 21.0944329 , 20.02067188,\n",
       "       26.10835089, 24.9344935 , 18.02784423, 23.07816089, 29.41153097,\n",
       "       27.86458713, 25.30757996, 24.44311134, 28.87465046, 31.18596656,\n",
       "       25.54417137, 32.86030578, 27.6643944 , 25.71706509, 19.6839841 ,\n",
       "       10.59341411, 21.04893455, 20.14806726, 22.35928699, 25.09828755,\n",
       "       17.2543723 , 19.15620326, 17.95504687, 23.41484867, 20.96703753,\n",
       "       23.81523413, 23.36025065, 20.31186131, 17.28167131, 23.71513777,\n",
       "       23.86073248, 22.77787179, 20.69404744, 18.73761846, 22.96896485,\n",
       "       21.24912729, 17.26347197, 20.22086461, 22.81427047, 22.75967245,\n",
       "       20.27546263, 18.74671813, 18.98330954, 20.47565537, 19.80227981,\n",
       "       19.64758543, 31.23146491, 24.85259647, 26.27214494, 27.89188614,\n",
       "       20.06617023, 19.01060855, 24.6342044 , 25.71706509, 28.48336467,\n",
       "       24.39761299, 25.20748359, 18.88321317, 26.56333437, 16.87218618,\n",
       "       19.356396  , 21.86790482, 23.53314437, 21.0944329 , 20.95793786,\n",
       "       23.56044338, 22.22279194, 14.13318561, 18.14613993, 45.23585652,\n",
       "       -2.25531945, 10.50241741,  0.49278079, 10.5661151 , 26.15384924,\n",
       "       29.18403923, 21.9043035 , 18.80131615,  9.98373624,  2.99518994,\n",
       "       31.88664112, 25.84446047, 27.16391257, 23.39664933, 21.96800119,\n",
       "       28.74725509, 24.89809482, 15.71652813, 15.57093342,  5.08811397,\n",
       "       13.35971369,  7.67242015, 10.83910519,  9.74714483, 14.38797636,\n",
       "       17.32716966, 20.40285801, 11.1666933 , 21.6950111 , 18.91051218,\n",
       "       24.22471927, 23.62414107, 17.63655843, 14.96125555, 18.59202375,\n",
       "       19.82047915, 23.05996155, 23.6150414 , 14.0148899 , 15.67102978,\n",
       "       17.05417957,  2.99518994, 16.37170435, 16.45360137, 27.69169341,\n",
       "       17.72755513, 25.91725782,  7.45402808, 12.24955399,  6.46216408,\n",
       "       23.88803149, 27.05471653, 13.60540477, 19.54748906, 27.43690266,\n",
       "       23.67873909, 19.99337287, 16.73569113, 20.87604083, 15.98041855,\n",
       "       18.99240921, 18.4555287 , 21.77690813, 21.6950111 , 23.39664933,\n",
       "       23.1054599 , 27.51879968, 23.80613446, 23.90623083, 21.83150615,\n",
       "       25.66246707, 24.13372257, 21.32192464, 19.34729633, 16.54459807,\n",
       "       18.28263498, 23.63324074, 21.93160251, 24.35211464, 18.61022308,\n",
       "       24.11552323, 23.04176221, 22.22279194, 21.62221374, 23.7333371 ,\n",
       "       26.75442743, 25.89905848, 22.64137675, 32.6146147 , 26.56333437,\n",
       "       24.71610143, 19.72038278, 19.356396  , 22.67777542, 20.6758481 ,\n",
       "       26.31764329, 23.36025065, 22.82337014, 24.60690539, 21.84060581,\n",
       "       17.74575447, 19.50199071, 19.96607386, 19.2653993 , 17.32716966,\n",
       "       21.45841969, 22.02259921, 23.9153305 , 28.85645113, 14.72466414,\n",
       "       21.41292134, 24.34301497, 13.60540477, 21.62221374, 22.02259921,\n",
       "       22.14089491, 26.7635271 , 29.59352437, 17.77305348, 18.76491747,\n",
       "       22.77787179, 20.9761372 , 19.07430624, 14.97035522, 14.60636843,\n",
       "       11.68537447, 19.78408047, 19.78408047, 17.27257164, 19.2653993 ,\n",
       "       16.93588387, 14.38797636, 18.0642429 , 20.11166858, 16.01681723,\n",
       "       20.18446594, 25.33487897, 21.03073521, 28.82005245, 27.16391257,\n",
       "       20.21176495])"
      ]
     },
     "execution_count": 52,
     "metadata": {},
     "output_type": "execute_result"
    }
   ],
   "source": [
    "lm2.predict(X)"
   ]
  },
  {
   "cell_type": "code",
   "execution_count": 53,
   "id": "1fe31f24",
   "metadata": {},
   "outputs": [
    {
     "data": {
      "text/plain": [
       "<seaborn.axisgrid.JointGrid at 0x17a42658190>"
      ]
     },
     "execution_count": 53,
     "metadata": {},
     "output_type": "execute_result"
    },
    {
     "data": {
      "image/png": "[encoded data removed]",
      "text/plain": [
       "<Figure size 432x432 with 3 Axes>"
      ]
     },
     "metadata": {
      "needs_background": "light"
     },
     "output_type": "display_data"
    }
   ],
   "source": [
    "sns.jointplot(x = df['room_num'], y = df['price'], data= df , kind = 'reg')"
   ]
  },
  {
   "cell_type": "code",
   "execution_count": 54,
   "id": "0c9005f0",
   "metadata": {},
   "outputs": [],
   "source": [
    "import statsmodels.api as sn"
   ]
  },
  {
   "cell_type": "code",
   "execution_count": 55,
   "id": "dc01fc95",
   "metadata": {},
   "outputs": [],
   "source": [
    "X_multi = df.drop('price', axis = 1)"
   ]
  },
  {
   "cell_type": "code",
   "execution_count": 56,
   "id": "5ce1a495",
   "metadata": {},
   "outputs": [
    {
     "data": {
      "text/html": [
       "<div>\n",
       "<style scoped>\n",
       "    .dataframe tbody tr th:only-of-type {\n",
       "        vertical-align: middle;\n",
       "    }\n",
       "\n",
       "    .dataframe tbody tr th {\n",
       "        vertical-align: top;\n",
       "    }\n",
       "\n",
       "    .dataframe thead th {\n",
       "        text-align: right;\n",
       "    }\n",
       "</style>\n",
       "<table border=\"1\" class=\"dataframe\">\n",
       "  <thead>\n",
       "    <tr style=\"text-align: right;\">\n",
       "      <th></th>\n",
       "      <th>crime_rate</th>\n",
       "      <th>resid_area</th>\n",
       "      <th>air_qual</th>\n",
       "      <th>room_num</th>\n",
       "      <th>age</th>\n",
       "      <th>teachers</th>\n",
       "      <th>poor_prop</th>\n",
       "      <th>n_hos_beds</th>\n",
       "      <th>n_hot_rooms</th>\n",
       "      <th>rainfall</th>\n",
       "      <th>avg_dist</th>\n",
       "      <th>airport_YES</th>\n",
       "      <th>waterbody_Lake</th>\n",
       "      <th>waterbody_Lake and River</th>\n",
       "      <th>waterbody_River</th>\n",
       "    </tr>\n",
       "  </thead>\n",
       "  <tbody>\n",
       "    <tr>\n",
       "      <th>0</th>\n",
       "      <td>0.006300</td>\n",
       "      <td>32.31</td>\n",
       "      <td>0.538</td>\n",
       "      <td>6.575</td>\n",
       "      <td>65.2</td>\n",
       "      <td>24.7</td>\n",
       "      <td>4.98</td>\n",
       "      <td>5.480</td>\n",
       "      <td>11.19200</td>\n",
       "      <td>23</td>\n",
       "      <td>4.0875</td>\n",
       "      <td>1</td>\n",
       "      <td>0</td>\n",
       "      <td>0</td>\n",
       "      <td>1</td>\n",
       "    </tr>\n",
       "    <tr>\n",
       "      <th>1</th>\n",
       "      <td>0.026944</td>\n",
       "      <td>37.07</td>\n",
       "      <td>0.469</td>\n",
       "      <td>6.421</td>\n",
       "      <td>78.9</td>\n",
       "      <td>22.2</td>\n",
       "      <td>9.14</td>\n",
       "      <td>7.332</td>\n",
       "      <td>12.17280</td>\n",
       "      <td>42</td>\n",
       "      <td>4.9675</td>\n",
       "      <td>0</td>\n",
       "      <td>1</td>\n",
       "      <td>0</td>\n",
       "      <td>0</td>\n",
       "    </tr>\n",
       "    <tr>\n",
       "      <th>2</th>\n",
       "      <td>0.026924</td>\n",
       "      <td>37.07</td>\n",
       "      <td>0.469</td>\n",
       "      <td>7.185</td>\n",
       "      <td>61.1</td>\n",
       "      <td>22.2</td>\n",
       "      <td>4.03</td>\n",
       "      <td>7.394</td>\n",
       "      <td>46.19856</td>\n",
       "      <td>38</td>\n",
       "      <td>4.9675</td>\n",
       "      <td>0</td>\n",
       "      <td>0</td>\n",
       "      <td>0</td>\n",
       "      <td>0</td>\n",
       "    </tr>\n",
       "    <tr>\n",
       "      <th>3</th>\n",
       "      <td>0.031857</td>\n",
       "      <td>32.18</td>\n",
       "      <td>0.458</td>\n",
       "      <td>6.998</td>\n",
       "      <td>45.8</td>\n",
       "      <td>21.3</td>\n",
       "      <td>2.94</td>\n",
       "      <td>9.268</td>\n",
       "      <td>11.26720</td>\n",
       "      <td>45</td>\n",
       "      <td>6.0650</td>\n",
       "      <td>1</td>\n",
       "      <td>1</td>\n",
       "      <td>0</td>\n",
       "      <td>0</td>\n",
       "    </tr>\n",
       "    <tr>\n",
       "      <th>4</th>\n",
       "      <td>0.066770</td>\n",
       "      <td>32.18</td>\n",
       "      <td>0.458</td>\n",
       "      <td>7.147</td>\n",
       "      <td>54.2</td>\n",
       "      <td>21.3</td>\n",
       "      <td>5.33</td>\n",
       "      <td>8.824</td>\n",
       "      <td>11.28960</td>\n",
       "      <td>55</td>\n",
       "      <td>6.0625</td>\n",
       "      <td>0</td>\n",
       "      <td>1</td>\n",
       "      <td>0</td>\n",
       "      <td>0</td>\n",
       "    </tr>\n",
       "  </tbody>\n",
       "</table>\n",
       "</div>"
      ],
      "text/plain": [
       "   crime_rate  resid_area  air_qual  room_num   age  teachers  poor_prop  \\\n",
       "0    0.006300       32.31     0.538     6.575  65.2      24.7       4.98   \n",
       "1    0.026944       37.07     0.469     6.421  78.9      22.2       9.14   \n",
       "2    0.026924       37.07     0.469     7.185  61.1      22.2       4.03   \n",
       "3    0.031857       32.18     0.458     6.998  45.8      21.3       2.94   \n",
       "4    0.066770       32.18     0.458     7.147  54.2      21.3       5.33   \n",
       "\n",
       "   n_hos_beds  n_hot_rooms  rainfall  avg_dist  airport_YES  waterbody_Lake  \\\n",
       "0       5.480     11.19200        23    4.0875            1               0   \n",
       "1       7.332     12.17280        42    4.9675            0               1   \n",
       "2       7.394     46.19856        38    4.9675            0               0   \n",
       "3       9.268     11.26720        45    6.0650            1               1   \n",
       "4       8.824     11.28960        55    6.0625            0               1   \n",
       "\n",
       "   waterbody_Lake and River  waterbody_River  \n",
       "0                         0                1  \n",
       "1                         0                0  \n",
       "2                         0                0  \n",
       "3                         0                0  \n",
       "4                         0                0  "
      ]
     },
     "execution_count": 56,
     "metadata": {},
     "output_type": "execute_result"
    }
   ],
   "source": [
    "X_multi.head()"
   ]
  },
  {
   "cell_type": "code",
   "execution_count": 57,
   "id": "a1eca2b6",
   "metadata": {},
   "outputs": [],
   "source": [
    "y_multi = df['price']"
   ]
  },
  {
   "cell_type": "code",
   "execution_count": 58,
   "id": "6ac734f4",
   "metadata": {},
   "outputs": [
    {
     "data": {
      "text/plain": [
       "0    24.0\n",
       "1    21.6\n",
       "2    34.7\n",
       "3    33.4\n",
       "4    36.2\n",
       "Name: price, dtype: float64"
      ]
     },
     "execution_count": 58,
     "metadata": {},
     "output_type": "execute_result"
    }
   ],
   "source": [
    "y_multi.head()"
   ]
  },
  {
   "cell_type": "code",
   "execution_count": 59,
   "id": "7266d62e",
   "metadata": {},
   "outputs": [],
   "source": [
    "X_multi_cons = sn.add_constant(X_multi)"
   ]
  },
  {
   "cell_type": "code",
   "execution_count": 60,
   "id": "fbf8b127",
   "metadata": {},
   "outputs": [
    {
     "data": {
      "text/html": [
       "<div>\n",
       "<style scoped>\n",
       "    .dataframe tbody tr th:only-of-type {\n",
       "        vertical-align: middle;\n",
       "    }\n",
       "\n",
       "    .dataframe tbody tr th {\n",
       "        vertical-align: top;\n",
       "    }\n",
       "\n",
       "    .dataframe thead th {\n",
       "        text-align: right;\n",
       "    }\n",
       "</style>\n",
       "<table border=\"1\" class=\"dataframe\">\n",
       "  <thead>\n",
       "    <tr style=\"text-align: right;\">\n",
       "      <th></th>\n",
       "      <th>const</th>\n",
       "      <th>crime_rate</th>\n",
       "      <th>resid_area</th>\n",
       "      <th>air_qual</th>\n",
       "      <th>room_num</th>\n",
       "      <th>age</th>\n",
       "      <th>teachers</th>\n",
       "      <th>poor_prop</th>\n",
       "      <th>n_hos_beds</th>\n",
       "      <th>n_hot_rooms</th>\n",
       "      <th>rainfall</th>\n",
       "      <th>avg_dist</th>\n",
       "      <th>airport_YES</th>\n",
       "      <th>waterbody_Lake</th>\n",
       "      <th>waterbody_Lake and River</th>\n",
       "      <th>waterbody_River</th>\n",
       "    </tr>\n",
       "  </thead>\n",
       "  <tbody>\n",
       "    <tr>\n",
       "      <th>0</th>\n",
       "      <td>1.0</td>\n",
       "      <td>0.006300</td>\n",
       "      <td>32.31</td>\n",
       "      <td>0.538</td>\n",
       "      <td>6.575</td>\n",
       "      <td>65.2</td>\n",
       "      <td>24.7</td>\n",
       "      <td>4.98</td>\n",
       "      <td>5.480</td>\n",
       "      <td>11.19200</td>\n",
       "      <td>23</td>\n",
       "      <td>4.0875</td>\n",
       "      <td>1</td>\n",
       "      <td>0</td>\n",
       "      <td>0</td>\n",
       "      <td>1</td>\n",
       "    </tr>\n",
       "    <tr>\n",
       "      <th>1</th>\n",
       "      <td>1.0</td>\n",
       "      <td>0.026944</td>\n",
       "      <td>37.07</td>\n",
       "      <td>0.469</td>\n",
       "      <td>6.421</td>\n",
       "      <td>78.9</td>\n",
       "      <td>22.2</td>\n",
       "      <td>9.14</td>\n",
       "      <td>7.332</td>\n",
       "      <td>12.17280</td>\n",
       "      <td>42</td>\n",
       "      <td>4.9675</td>\n",
       "      <td>0</td>\n",
       "      <td>1</td>\n",
       "      <td>0</td>\n",
       "      <td>0</td>\n",
       "    </tr>\n",
       "    <tr>\n",
       "      <th>2</th>\n",
       "      <td>1.0</td>\n",
       "      <td>0.026924</td>\n",
       "      <td>37.07</td>\n",
       "      <td>0.469</td>\n",
       "      <td>7.185</td>\n",
       "      <td>61.1</td>\n",
       "      <td>22.2</td>\n",
       "      <td>4.03</td>\n",
       "      <td>7.394</td>\n",
       "      <td>46.19856</td>\n",
       "      <td>38</td>\n",
       "      <td>4.9675</td>\n",
       "      <td>0</td>\n",
       "      <td>0</td>\n",
       "      <td>0</td>\n",
       "      <td>0</td>\n",
       "    </tr>\n",
       "    <tr>\n",
       "      <th>3</th>\n",
       "      <td>1.0</td>\n",
       "      <td>0.031857</td>\n",
       "      <td>32.18</td>\n",
       "      <td>0.458</td>\n",
       "      <td>6.998</td>\n",
       "      <td>45.8</td>\n",
       "      <td>21.3</td>\n",
       "      <td>2.94</td>\n",
       "      <td>9.268</td>\n",
       "      <td>11.26720</td>\n",
       "      <td>45</td>\n",
       "      <td>6.0650</td>\n",
       "      <td>1</td>\n",
       "      <td>1</td>\n",
       "      <td>0</td>\n",
       "      <td>0</td>\n",
       "    </tr>\n",
       "    <tr>\n",
       "      <th>4</th>\n",
       "      <td>1.0</td>\n",
       "      <td>0.066770</td>\n",
       "      <td>32.18</td>\n",
       "      <td>0.458</td>\n",
       "      <td>7.147</td>\n",
       "      <td>54.2</td>\n",
       "      <td>21.3</td>\n",
       "      <td>5.33</td>\n",
       "      <td>8.824</td>\n",
       "      <td>11.28960</td>\n",
       "      <td>55</td>\n",
       "      <td>6.0625</td>\n",
       "      <td>0</td>\n",
       "      <td>1</td>\n",
       "      <td>0</td>\n",
       "      <td>0</td>\n",
       "    </tr>\n",
       "  </tbody>\n",
       "</table>\n",
       "</div>"
      ],
      "text/plain": [
       "   const  crime_rate  resid_area  air_qual  room_num   age  teachers  \\\n",
       "0    1.0    0.006300       32.31     0.538     6.575  65.2      24.7   \n",
       "1    1.0    0.026944       37.07     0.469     6.421  78.9      22.2   \n",
       "2    1.0    0.026924       37.07     0.469     7.185  61.1      22.2   \n",
       "3    1.0    0.031857       32.18     0.458     6.998  45.8      21.3   \n",
       "4    1.0    0.066770       32.18     0.458     7.147  54.2      21.3   \n",
       "\n",
       "   poor_prop  n_hos_beds  n_hot_rooms  rainfall  avg_dist  airport_YES  \\\n",
       "0       4.98       5.480     11.19200        23    4.0875            1   \n",
       "1       9.14       7.332     12.17280        42    4.9675            0   \n",
       "2       4.03       7.394     46.19856        38    4.9675            0   \n",
       "3       2.94       9.268     11.26720        45    6.0650            1   \n",
       "4       5.33       8.824     11.28960        55    6.0625            0   \n",
       "\n",
       "   waterbody_Lake  waterbody_Lake and River  waterbody_River  \n",
       "0               0                         0                1  \n",
       "1               1                         0                0  \n",
       "2               0                         0                0  \n",
       "3               1                         0                0  \n",
       "4               1                         0                0  "
      ]
     },
     "execution_count": 60,
     "metadata": {},
     "output_type": "execute_result"
    }
   ],
   "source": [
    "X_multi_cons.head()"
   ]
  },
  {
   "cell_type": "code",
   "execution_count": 61,
   "id": "4c8d5f89",
   "metadata": {},
   "outputs": [],
   "source": [
    "lm_multi = sn.OLS(y_multi , X_multi_cons).fit()"
   ]
  },
  {
   "cell_type": "code",
   "execution_count": 62,
   "id": "518f9cc8",
   "metadata": {},
   "outputs": [
    {
     "data": {
      "text/html": [
       "<table class=\"simpletable\">\n",
       "<caption>OLS Regression Results</caption>\n",
       "<tr>\n",
       "  <th>Dep. Variable:</th>          <td>price</td>      <th>  R-squared:         </th> <td>   0.721</td> \n",
       "</tr>\n",
       "<tr>\n",
       "  <th>Model:</th>                   <td>OLS</td>       <th>  Adj. R-squared:    </th> <td>   0.712</td> \n",
       "</tr>\n",
       "<tr>\n",
       "  <th>Method:</th>             <td>Least Squares</td>  <th>  F-statistic:       </th> <td>   84.34</td> \n",
       "</tr>\n",
       "<tr>\n",
       "  <th>Date:</th>             <td>Fri, 19 Aug 2022</td> <th>  Prob (F-statistic):</th> <td>4.19e-125</td>\n",
       "</tr>\n",
       "<tr>\n",
       "  <th>Time:</th>                 <td>21:10:07</td>     <th>  Log-Likelihood:    </th> <td> -1516.6</td> \n",
       "</tr>\n",
       "<tr>\n",
       "  <th>No. Observations:</th>      <td>   506</td>      <th>  AIC:               </th> <td>   3065.</td> \n",
       "</tr>\n",
       "<tr>\n",
       "  <th>Df Residuals:</th>          <td>   490</td>      <th>  BIC:               </th> <td>   3133.</td> \n",
       "</tr>\n",
       "<tr>\n",
       "  <th>Df Model:</th>              <td>    15</td>      <th>                     </th>     <td> </td>    \n",
       "</tr>\n",
       "<tr>\n",
       "  <th>Covariance Type:</th>      <td>nonrobust</td>    <th>                     </th>     <td> </td>    \n",
       "</tr>\n",
       "</table>\n",
       "<table class=\"simpletable\">\n",
       "<tr>\n",
       "              <td></td>                <th>coef</th>     <th>std err</th>      <th>t</th>      <th>P>|t|</th>  <th>[0.025</th>    <th>0.975]</th>  \n",
       "</tr>\n",
       "<tr>\n",
       "  <th>const</th>                    <td>   -6.4986</td> <td>    5.264</td> <td>   -1.235</td> <td> 0.218</td> <td>  -16.842</td> <td>    3.844</td>\n",
       "</tr>\n",
       "<tr>\n",
       "  <th>crime_rate</th>               <td>    0.0097</td> <td>    0.348</td> <td>    0.028</td> <td> 0.978</td> <td>   -0.674</td> <td>    0.694</td>\n",
       "</tr>\n",
       "<tr>\n",
       "  <th>resid_area</th>               <td>   -0.0409</td> <td>    0.058</td> <td>   -0.710</td> <td> 0.478</td> <td>   -0.154</td> <td>    0.072</td>\n",
       "</tr>\n",
       "<tr>\n",
       "  <th>air_qual</th>                 <td>  -15.8974</td> <td>    4.004</td> <td>   -3.971</td> <td> 0.000</td> <td>  -23.764</td> <td>   -8.031</td>\n",
       "</tr>\n",
       "<tr>\n",
       "  <th>room_num</th>                 <td>    4.0190</td> <td>    0.427</td> <td>    9.421</td> <td> 0.000</td> <td>    3.181</td> <td>    4.857</td>\n",
       "</tr>\n",
       "<tr>\n",
       "  <th>age</th>                      <td>   -0.0057</td> <td>    0.014</td> <td>   -0.420</td> <td> 0.675</td> <td>   -0.032</td> <td>    0.021</td>\n",
       "</tr>\n",
       "<tr>\n",
       "  <th>teachers</th>                 <td>    1.0070</td> <td>    0.122</td> <td>    8.247</td> <td> 0.000</td> <td>    0.767</td> <td>    1.247</td>\n",
       "</tr>\n",
       "<tr>\n",
       "  <th>poor_prop</th>                <td>   -0.5773</td> <td>    0.053</td> <td>  -10.955</td> <td> 0.000</td> <td>   -0.681</td> <td>   -0.474</td>\n",
       "</tr>\n",
       "<tr>\n",
       "  <th>n_hos_beds</th>               <td>    0.3292</td> <td>    0.152</td> <td>    2.163</td> <td> 0.031</td> <td>    0.030</td> <td>    0.628</td>\n",
       "</tr>\n",
       "<tr>\n",
       "  <th>n_hot_rooms</th>              <td>    0.0919</td> <td>    0.082</td> <td>    1.118</td> <td> 0.264</td> <td>   -0.070</td> <td>    0.253</td>\n",
       "</tr>\n",
       "<tr>\n",
       "  <th>rainfall</th>                 <td>    0.0161</td> <td>    0.018</td> <td>    0.904</td> <td> 0.367</td> <td>   -0.019</td> <td>    0.051</td>\n",
       "</tr>\n",
       "<tr>\n",
       "  <th>avg_dist</th>                 <td>   -1.2186</td> <td>    0.189</td> <td>   -6.450</td> <td> 0.000</td> <td>   -1.590</td> <td>   -0.847</td>\n",
       "</tr>\n",
       "<tr>\n",
       "  <th>airport_YES</th>              <td>    1.1315</td> <td>    0.454</td> <td>    2.491</td> <td> 0.013</td> <td>    0.239</td> <td>    2.024</td>\n",
       "</tr>\n",
       "<tr>\n",
       "  <th>waterbody_Lake</th>           <td>    0.2641</td> <td>    0.642</td> <td>    0.411</td> <td> 0.681</td> <td>   -0.997</td> <td>    1.525</td>\n",
       "</tr>\n",
       "<tr>\n",
       "  <th>waterbody_Lake and River</th> <td>   -0.6876</td> <td>    0.714</td> <td>   -0.963</td> <td> 0.336</td> <td>   -2.090</td> <td>    0.715</td>\n",
       "</tr>\n",
       "<tr>\n",
       "  <th>waterbody_River</th>          <td>   -0.2913</td> <td>    0.547</td> <td>   -0.533</td> <td> 0.594</td> <td>   -1.365</td> <td>    0.783</td>\n",
       "</tr>\n",
       "</table>\n",
       "<table class=\"simpletable\">\n",
       "<tr>\n",
       "  <th>Omnibus:</th>       <td>182.596</td> <th>  Durbin-Watson:     </th> <td>   0.990</td> \n",
       "</tr>\n",
       "<tr>\n",
       "  <th>Prob(Omnibus):</th> <td> 0.000</td>  <th>  Jarque-Bera (JB):  </th> <td> 826.137</td> \n",
       "</tr>\n",
       "<tr>\n",
       "  <th>Skew:</th>          <td> 1.554</td>  <th>  Prob(JB):          </th> <td>4.04e-180</td>\n",
       "</tr>\n",
       "<tr>\n",
       "  <th>Kurtosis:</th>      <td> 8.434</td>  <th>  Cond. No.          </th> <td>2.37e+03</td> \n",
       "</tr>\n",
       "</table><br/><br/>Notes:<br/>[1] Standard Errors assume that the covariance matrix of the errors is correctly specified.<br/>[2] The condition number is large, 2.37e+03. This might indicate that there are<br/>strong multicollinearity or other numerical problems."
      ],
      "text/plain": [
       "<class 'statsmodels.iolib.summary.Summary'>\n",
       "\"\"\"\n",
       "                            OLS Regression Results                            \n",
       "==============================================================================\n",
       "Dep. Variable:                  price   R-squared:                       0.721\n",
       "Model:                            OLS   Adj. R-squared:                  0.712\n",
       "Method:                 Least Squares   F-statistic:                     84.34\n",
       "Date:                Fri, 19 Aug 2022   Prob (F-statistic):          4.19e-125\n",
       "Time:                        21:10:07   Log-Likelihood:                -1516.6\n",
       "No. Observations:                 506   AIC:                             3065.\n",
       "Df Residuals:                     490   BIC:                             3133.\n",
       "Df Model:                          15                                         \n",
       "Covariance Type:            nonrobust                                         \n",
       "============================================================================================\n",
       "                               coef    std err          t      P>|t|      [0.025      0.975]\n",
       "--------------------------------------------------------------------------------------------\n",
       "const                       -6.4986      5.264     -1.235      0.218     -16.842       3.844\n",
       "crime_rate                   0.0097      0.348      0.028      0.978      -0.674       0.694\n",
       "resid_area                  -0.0409      0.058     -0.710      0.478      -0.154       0.072\n",
       "air_qual                   -15.8974      4.004     -3.971      0.000     -23.764      -8.031\n",
       "room_num                     4.0190      0.427      9.421      0.000       3.181       4.857\n",
       "age                         -0.0057      0.014     -0.420      0.675      -0.032       0.021\n",
       "teachers                     1.0070      0.122      8.247      0.000       0.767       1.247\n",
       "poor_prop                   -0.5773      0.053    -10.955      0.000      -0.681      -0.474\n",
       "n_hos_beds                   0.3292      0.152      2.163      0.031       0.030       0.628\n",
       "n_hot_rooms                  0.0919      0.082      1.118      0.264      -0.070       0.253\n",
       "rainfall                     0.0161      0.018      0.904      0.367      -0.019       0.051\n",
       "avg_dist                    -1.2186      0.189     -6.450      0.000      -1.590      -0.847\n",
       "airport_YES                  1.1315      0.454      2.491      0.013       0.239       2.024\n",
       "waterbody_Lake               0.2641      0.642      0.411      0.681      -0.997       1.525\n",
       "waterbody_Lake and River    -0.6876      0.714     -0.963      0.336      -2.090       0.715\n",
       "waterbody_River             -0.2913      0.547     -0.533      0.594      -1.365       0.783\n",
       "==============================================================================\n",
       "Omnibus:                      182.596   Durbin-Watson:                   0.990\n",
       "Prob(Omnibus):                  0.000   Jarque-Bera (JB):              826.137\n",
       "Skew:                           1.554   Prob(JB):                    4.04e-180\n",
       "Kurtosis:                       8.434   Cond. No.                     2.37e+03\n",
       "==============================================================================\n",
       "\n",
       "Notes:\n",
       "[1] Standard Errors assume that the covariance matrix of the errors is correctly specified.\n",
       "[2] The condition number is large, 2.37e+03. This might indicate that there are\n",
       "strong multicollinearity or other numerical problems.\n",
       "\"\"\""
      ]
     },
     "execution_count": 62,
     "metadata": {},
     "output_type": "execute_result"
    }
   ],
   "source": [
    "lm_multi.summary()"
   ]
  },
  {
   "cell_type": "markdown",
   "id": "48887d33",
   "metadata": {},
   "source": [
    "# Test-Train split"
   ]
  },
  {
   "cell_type": "code",
   "execution_count": 63,
   "id": "5e6bd4cc",
   "metadata": {},
   "outputs": [],
   "source": [
    "from sklearn.model_selection import train_test_split"
   ]
  },
  {
   "cell_type": "code",
   "execution_count": 64,
   "id": "f9c25936",
   "metadata": {},
   "outputs": [],
   "source": [
    "X_train, X_test, y_train, y_test = train_test_split(X_multi, y_multi, test_size = 0.2, random_state = 0)"
   ]
  },
  {
   "cell_type": "code",
   "execution_count": 65,
   "id": "5a6cb65e",
   "metadata": {},
   "outputs": [
    {
     "name": "stdout",
     "output_type": "stream",
     "text": [
      "(404, 15) (102, 15) (404,) (102,)\n"
     ]
    }
   ],
   "source": [
    "print(X_train.shape, X_test.shape, y_train.shape, y_test.shape)"
   ]
  },
  {
   "cell_type": "code",
   "execution_count": 66,
   "id": "e9bd85ae",
   "metadata": {},
   "outputs": [],
   "source": [
    "lm_a = LinearRegression()"
   ]
  },
  {
   "cell_type": "code",
   "execution_count": 67,
   "id": "ff294bb3",
   "metadata": {},
   "outputs": [
    {
     "data": {
      "text/plain": [
       "LinearRegression()"
      ]
     },
     "execution_count": 67,
     "metadata": {},
     "output_type": "execute_result"
    }
   ],
   "source": [
    "lm_a.fit(X_train, y_train)"
   ]
  },
  {
   "cell_type": "code",
   "execution_count": 68,
   "id": "3231afc0",
   "metadata": {},
   "outputs": [],
   "source": [
    "y_train_a = lm_a.predict(X_train)"
   ]
  },
  {
   "cell_type": "code",
   "execution_count": 69,
   "id": "c556ded9",
   "metadata": {},
   "outputs": [],
   "source": [
    "y_test_a = lm_a.predict(X_test)"
   ]
  },
  {
   "cell_type": "code",
   "execution_count": 70,
   "id": "bec01977",
   "metadata": {},
   "outputs": [],
   "source": [
    "from sklearn.metrics import r2_score"
   ]
  },
  {
   "cell_type": "code",
   "execution_count": 71,
   "id": "15071c72",
   "metadata": {},
   "outputs": [],
   "source": [
    "r2_score?"
   ]
  },
  {
   "cell_type": "code",
   "execution_count": 72,
   "id": "06f1f7e7",
   "metadata": {},
   "outputs": [
    {
     "data": {
      "text/plain": [
       "0.5496468288205671"
      ]
     },
     "execution_count": 72,
     "metadata": {},
     "output_type": "execute_result"
    }
   ],
   "source": [
    "r2_score(y_test, y_test_a)"
   ]
  },
  {
   "cell_type": "code",
   "execution_count": 73,
   "id": "aa167ce9",
   "metadata": {},
   "outputs": [
    {
     "data": {
      "text/plain": [
       "0.7564635405911231"
      ]
     },
     "execution_count": 73,
     "metadata": {},
     "output_type": "execute_result"
    }
   ],
   "source": [
    "r2_score(y_train, y_train_a)"
   ]
  },
  {
   "cell_type": "markdown",
   "id": "da6474cd",
   "metadata": {},
   "source": [
    "# Ridge"
   ]
  },
  {
   "cell_type": "code",
   "execution_count": 74,
   "id": "afbb084b",
   "metadata": {},
   "outputs": [],
   "source": [
    "from sklearn import preprocessing"
   ]
  },
  {
   "cell_type": "code",
   "execution_count": 75,
   "id": "e8623a35",
   "metadata": {},
   "outputs": [],
   "source": [
    "scaler = preprocessing.StandardScaler().fit(X_train)"
   ]
  },
  {
   "cell_type": "code",
   "execution_count": 76,
   "id": "8671159f",
   "metadata": {},
   "outputs": [],
   "source": [
    "X_train_s = scaler.transform(X_train)"
   ]
  },
  {
   "cell_type": "code",
   "execution_count": 77,
   "id": "338ee94d",
   "metadata": {},
   "outputs": [],
   "source": [
    "X_test_s = scaler.transform(X_test)"
   ]
  },
  {
   "cell_type": "code",
   "execution_count": 78,
   "id": "4eea68be",
   "metadata": {},
   "outputs": [],
   "source": [
    "from sklearn.linear_model import Ridge"
   ]
  },
  {
   "cell_type": "code",
   "execution_count": 79,
   "id": "7f8db259",
   "metadata": {},
   "outputs": [
    {
     "data": {
      "text/plain": [
       "Ridge(alpha=0.5)"
      ]
     },
     "execution_count": 79,
     "metadata": {},
     "output_type": "execute_result"
    }
   ],
   "source": [
    "lm_r = Ridge(alpha = 0.5)\n",
    "lm_r.fit(X_train_s, y_train)"
   ]
  },
  {
   "cell_type": "code",
   "execution_count": 80,
   "id": "2212bca7",
   "metadata": {},
   "outputs": [
    {
     "data": {
      "text/plain": [
       "0.5494318046087934"
      ]
     },
     "execution_count": 80,
     "metadata": {},
     "output_type": "execute_result"
    }
   ],
   "source": [
    "r2_score(y_test, lm_r.predict(X_test_s))"
   ]
  },
  {
   "cell_type": "code",
   "execution_count": 81,
   "id": "90deb098",
   "metadata": {},
   "outputs": [],
   "source": [
    "from sklearn.model_selection import validation_curve"
   ]
  },
  {
   "cell_type": "code",
   "execution_count": 82,
   "id": "47be9e8d",
   "metadata": {},
   "outputs": [],
   "source": [
    "param_range = np.logspace(-2,8,100)"
   ]
  },
  {
   "cell_type": "code",
   "execution_count": 83,
   "id": "82723eff",
   "metadata": {},
   "outputs": [
    {
     "data": {
      "text/plain": [
       "array([1.00000000e-02, 1.26185688e-02, 1.59228279e-02, 2.00923300e-02,\n",
       "       2.53536449e-02, 3.19926714e-02, 4.03701726e-02, 5.09413801e-02,\n",
       "       6.42807312e-02, 8.11130831e-02, 1.02353102e-01, 1.29154967e-01,\n",
       "       1.62975083e-01, 2.05651231e-01, 2.59502421e-01, 3.27454916e-01,\n",
       "       4.13201240e-01, 5.21400829e-01, 6.57933225e-01, 8.30217568e-01,\n",
       "       1.04761575e+00, 1.32194115e+00, 1.66810054e+00, 2.10490414e+00,\n",
       "       2.65608778e+00, 3.35160265e+00, 4.22924287e+00, 5.33669923e+00,\n",
       "       6.73415066e+00, 8.49753436e+00, 1.07226722e+01, 1.35304777e+01,\n",
       "       1.70735265e+01, 2.15443469e+01, 2.71858824e+01, 3.43046929e+01,\n",
       "       4.32876128e+01, 5.46227722e+01, 6.89261210e+01, 8.69749003e+01,\n",
       "       1.09749877e+02, 1.38488637e+02, 1.74752840e+02, 2.20513074e+02,\n",
       "       2.78255940e+02, 3.51119173e+02, 4.43062146e+02, 5.59081018e+02,\n",
       "       7.05480231e+02, 8.90215085e+02, 1.12332403e+03, 1.41747416e+03,\n",
       "       1.78864953e+03, 2.25701972e+03, 2.84803587e+03, 3.59381366e+03,\n",
       "       4.53487851e+03, 5.72236766e+03, 7.22080902e+03, 9.11162756e+03,\n",
       "       1.14975700e+04, 1.45082878e+04, 1.83073828e+04, 2.31012970e+04,\n",
       "       2.91505306e+04, 3.67837977e+04, 4.64158883e+04, 5.85702082e+04,\n",
       "       7.39072203e+04, 9.32603347e+04, 1.17681195e+05, 1.48496826e+05,\n",
       "       1.87381742e+05, 2.36448941e+05, 2.98364724e+05, 3.76493581e+05,\n",
       "       4.75081016e+05, 5.99484250e+05, 7.56463328e+05, 9.54548457e+05,\n",
       "       1.20450354e+06, 1.51991108e+06, 1.91791026e+06, 2.42012826e+06,\n",
       "       3.05385551e+06, 3.85352859e+06, 4.86260158e+06, 6.13590727e+06,\n",
       "       7.74263683e+06, 9.77009957e+06, 1.23284674e+07, 1.55567614e+07,\n",
       "       1.96304065e+07, 2.47707636e+07, 3.12571585e+07, 3.94420606e+07,\n",
       "       4.97702356e+07, 6.28029144e+07, 7.92482898e+07, 1.00000000e+08])"
      ]
     },
     "execution_count": 83,
     "metadata": {},
     "output_type": "execute_result"
    }
   ],
   "source": [
    "param_range"
   ]
  },
  {
   "cell_type": "code",
   "execution_count": 84,
   "id": "0a678973",
   "metadata": {},
   "outputs": [],
   "source": [
    "validation_curve?"
   ]
  },
  {
   "cell_type": "code",
   "execution_count": 85,
   "id": "fca571de",
   "metadata": {},
   "outputs": [],
   "source": [
    "train_scores, test_scores = validation_curve( Ridge(), X_train_s, y_train, param_name=\"alpha\", param_range=param_range,scoring='r2')"
   ]
  },
  {
   "cell_type": "code",
   "execution_count": 86,
   "id": "6b7929aa",
   "metadata": {},
   "outputs": [
    {
     "name": "stdout",
     "output_type": "stream",
     "text": [
      "[[7.49308183e-01 7.62593562e-01 7.52614692e-01 7.82225880e-01\n",
      "  7.45875174e-01]\n",
      " [7.49308182e-01 7.62593561e-01 7.52614692e-01 7.82225879e-01\n",
      "  7.45875174e-01]\n",
      " [7.49308181e-01 7.62593560e-01 7.52614691e-01 7.82225879e-01\n",
      "  7.45875173e-01]\n",
      " [7.49308179e-01 7.62593559e-01 7.52614690e-01 7.82225878e-01\n",
      "  7.45875172e-01]\n",
      " [7.49308177e-01 7.62593557e-01 7.52614688e-01 7.82225876e-01\n",
      "  7.45875169e-01]\n",
      " [7.49308173e-01 7.62593554e-01 7.52614685e-01 7.82225873e-01\n",
      "  7.45875166e-01]\n",
      " [7.49308167e-01 7.62593549e-01 7.52614680e-01 7.82225869e-01\n",
      "  7.45875161e-01]\n",
      " [7.49308157e-01 7.62593541e-01 7.52614673e-01 7.82225863e-01\n",
      "  7.45875153e-01]\n",
      " [7.49308142e-01 7.62593528e-01 7.52614661e-01 7.82225852e-01\n",
      "  7.45875140e-01]\n",
      " [7.49308117e-01 7.62593507e-01 7.52614642e-01 7.82225836e-01\n",
      "  7.45875120e-01]\n",
      " [7.49308077e-01 7.62593474e-01 7.52614611e-01 7.82225810e-01\n",
      "  7.45875087e-01]\n",
      " [7.49308015e-01 7.62593422e-01 7.52614563e-01 7.82225768e-01\n",
      "  7.45875035e-01]\n",
      " [7.49307915e-01 7.62593340e-01 7.52614487e-01 7.82225701e-01\n",
      "  7.45874953e-01]\n",
      " [7.49307756e-01 7.62593209e-01 7.52614365e-01 7.82225596e-01\n",
      "  7.45874821e-01]\n",
      " [7.49307504e-01 7.62593000e-01 7.52614171e-01 7.82225428e-01\n",
      "  7.45874613e-01]\n",
      " [7.49307104e-01 7.62592669e-01 7.52613864e-01 7.82225161e-01\n",
      "  7.45874281e-01]\n",
      " [7.49306468e-01 7.62592143e-01 7.52613376e-01 7.82224738e-01\n",
      "  7.45873755e-01]\n",
      " [7.49305461e-01 7.62591310e-01 7.52612603e-01 7.82224067e-01\n",
      "  7.45872922e-01]\n",
      " [7.49303866e-01 7.62589991e-01 7.52611377e-01 7.82223002e-01\n",
      "  7.45871601e-01]\n",
      " [7.49301342e-01 7.62587905e-01 7.52609438e-01 7.82221318e-01\n",
      "  7.45869511e-01]\n",
      " [7.49297358e-01 7.62584614e-01 7.52606375e-01 7.82218655e-01\n",
      "  7.45866209e-01]\n",
      " [7.49291080e-01 7.62579431e-01 7.52601547e-01 7.82214454e-01\n",
      "  7.45861006e-01]\n",
      " [7.49281214e-01 7.62571294e-01 7.52593954e-01 7.82207841e-01\n",
      "  7.45852825e-01]\n",
      " [7.49265762e-01 7.62558559e-01 7.52582052e-01 7.82197461e-01\n",
      "  7.45840003e-01]\n",
      " [7.49241657e-01 7.62538713e-01 7.52563464e-01 7.82181226e-01\n",
      "  7.45819983e-01]\n",
      " [7.49204240e-01 7.62507943e-01 7.52534567e-01 7.82155938e-01\n",
      "  7.45788876e-01]\n",
      " [7.49146509e-01 7.62460525e-01 7.52489895e-01 7.82116753e-01\n",
      "  7.45740817e-01]\n",
      " [7.49058083e-01 7.62387981e-01 7.52421291e-01 7.82056400e-01\n",
      "  7.45667081e-01]\n",
      " [7.48923812e-01 7.62277938e-01 7.52316756e-01 7.81964112e-01\n",
      "  7.45554877e-01]\n",
      " [7.48722001e-01 7.62112635e-01 7.52158906e-01 7.81824162e-01\n",
      "  7.45385780e-01]\n",
      " [7.48422236e-01 7.61867037e-01 7.51922989e-01 7.81613931e-01\n",
      "  7.45133758e-01]\n",
      " [7.47982890e-01 7.61506503e-01 7.51574393e-01 7.81301420e-01\n",
      "  7.44762813e-01]\n",
      " [7.47348402e-01 7.60983952e-01 7.51065592e-01 7.80842085e-01\n",
      "  7.44224266e-01]\n",
      " [7.46446454e-01 7.60236381e-01 7.50332437e-01 7.80174865e-01\n",
      "  7.43453697e-01]\n",
      " [7.45185030e-01 7.59180501e-01 7.49289620e-01 7.79217167e-01\n",
      "  7.42367460e-01]\n",
      " [7.43449052e-01 7.57707112e-01 7.47825081e-01 7.77858496e-01\n",
      "  7.40858507e-01]\n",
      " [7.41095993e-01 7.55673908e-01 7.45793147e-01 7.75952482e-01\n",
      "  7.38791047e-01]\n",
      " [7.37949677e-01 7.52896765e-01 7.43006564e-01 7.73307342e-01\n",
      "  7.35993627e-01]\n",
      " [7.33791889e-01 7.49140401e-01 7.39228354e-01 7.69675655e-01\n",
      "  7.32250702e-01]\n",
      " [7.28352628e-01 7.44110603e-01 7.34165666e-01 7.64745694e-01\n",
      "  7.27293966e-01]\n",
      " [7.21301768e-01 7.37451496e-01 7.27469045e-01 7.58138110e-01\n",
      "  7.20796309e-01]\n",
      " [7.12246939e-01 7.28752116e-01 7.18741065e-01 7.49412765e-01\n",
      "  7.12372722e-01]\n",
      " [7.00743446e-01 7.17565870e-01 7.07557198e-01 7.38089907e-01\n",
      "  7.01592657e-01]\n",
      " [6.86320783e-01 7.03443745e-01 6.93498574e-01 7.23686768e-01\n",
      "  6.88006488e-01]\n",
      " [6.68526198e-01 6.85977509e-01 6.76191564e-01 7.05765354e-01\n",
      "  6.71184584e-01]\n",
      " [6.46979746e-01 6.64844405e-01 6.55345249e-01 6.83981858e-01\n",
      "  6.50762714e-01]\n",
      " [6.21430253e-01 6.39843112e-01 6.30777967e-01 6.58126261e-01\n",
      "  6.26484846e-01]\n",
      " [5.91800851e-01 6.10914820e-01 6.02430169e-01 6.28145251e-01\n",
      "  5.98236520e-01]\n",
      " [5.58217742e-01 5.78152011e-01 5.70370147e-01 5.94151059e-01\n",
      "  5.66068367e-01]\n",
      " [5.21023106e-01 5.41805183e-01 5.34805073e-01 5.56426960e-01\n",
      "  5.30215244e-01]\n",
      " [4.80776629e-01 5.02296962e-01 4.96105574e-01 5.15439249e-01\n",
      "  4.91115635e-01]\n",
      " [4.38246180e-01 4.60241817e-01 4.54837833e-01 4.71853832e-01\n",
      "  4.49426981e-01]\n",
      " [3.94380411e-01 4.16455059e-01 4.11782013e-01 4.26540794e-01\n",
      "  4.06021633e-01]\n",
      " [3.50253152e-01 3.71928867e-01 3.67911827e-01 3.80544881e-01\n",
      "  3.61945810e-01]\n",
      " [3.06977118e-01 3.27762843e-01 3.24322953e-01 3.35010334e-01\n",
      "  3.18335180e-01]\n",
      " [2.65598993e-01 2.85057278e-01 2.82120979e-01 2.91069742e-01\n",
      "  2.76300193e-01]\n",
      " [2.26999445e-01 2.44795771e-01 2.42298504e-01 2.49724712e-01\n",
      "  2.36809354e-01]\n",
      " [1.91821924e-01 2.07748894e-01 2.05634992e-01 2.11750285e-01\n",
      "  2.00600169e-01]\n",
      " [1.60443739e-01 1.74420836e-01 1.72641753e-01 1.77644345e-01\n",
      "  1.68135834e-01]\n",
      " [1.32988599e-01 1.45044107e-01 1.43556535e-01 1.47625946e-01\n",
      "  1.39609076e-01]\n",
      " [1.09369079e-01 1.19612762e-01 1.18377375e-01 1.21672023e-01\n",
      "  1.14981495e-01]\n",
      " [8.93435543e-02 9.79376509e-02 9.69185333e-02 9.95753621e-02\n",
      "  9.40415006e-02]\n",
      " [7.25739956e-02 7.97075753e-02 7.88721086e-02 8.10075491e-02\n",
      "  7.64654478e-02]\n",
      " [5.86758270e-02 6.45448692e-02 6.38638097e-02 6.55755262e-02\n",
      "  6.18715957e-02]\n",
      " [4.72558944e-02 5.20495080e-02 5.14970548e-02 5.28660752e-02\n",
      "  4.98619782e-02]\n",
      " [3.79382525e-02 4.18302814e-02 4.13840426e-02 4.24769944e-02\n",
      "  4.00513858e-02]\n",
      " [3.03794972e-02 3.35242986e-02 3.31651369e-02 3.40364098e-02\n",
      "  3.20850585e-02]\n",
      " [2.42761375e-02 2.68072865e-02 2.65190661e-02 2.72127994e-02\n",
      "  2.56476517e-02]\n",
      " [1.93664609e-02 2.13973229e-02 2.11665954e-02 2.17184400e-02\n",
      "  2.04660844e-02]\n",
      " [1.54289452e-02 1.70543100e-02 1.68699745e-02 1.73086152e-02\n",
      "  1.63084863e-02]\n",
      " [1.22787468e-02 1.35769640e-02 1.34299306e-02 1.37783763e-02\n",
      "  1.29809203e-02]\n",
      " [9.76332592e-03 1.07985778e-02 1.06814509e-02 1.09581128e-02\n",
      "  1.03230524e-02]\n",
      " [7.75788176e-03 8.58237736e-03 8.48917182e-03 8.70875254e-03\n",
      "  8.20352184e-03]\n",
      " [6.16099479e-03 6.81697027e-03 6.74286291e-03 6.91708543e-03\n",
      "  6.51546234e-03]\n",
      " [4.89068163e-03 5.41215775e-03 5.35327491e-03 5.49147462e-03\n",
      "  5.17241478e-03]\n",
      " [3.88094571e-03 4.29523252e-03 4.24847160e-03 4.35807518e-03\n",
      "  4.10473362e-03]\n",
      " [3.07883394e-03 3.40779556e-03 3.37067697e-03 3.45758796e-03\n",
      "  3.25650907e-03]\n",
      " [2.44196865e-03 2.70307213e-03 2.67361762e-03 2.74252580e-03\n",
      "  2.58297902e-03]\n",
      " [1.93650486e-03 2.14368105e-03 2.12031450e-03 2.17494363e-03\n",
      "  2.04838269e-03]\n",
      " [1.53545586e-03 1.69980059e-03 1.68126767e-03 1.72457324e-03\n",
      "  1.62419860e-03]\n",
      " [1.21733098e-03 1.34767269e-03 1.33297603e-03 1.36730308e-03\n",
      "  1.28770931e-03]\n",
      " [9.65033551e-04 1.06839083e-03 1.05673792e-03 1.08394662e-03\n",
      "  1.02083937e-03]\n",
      " [7.64973400e-04 8.46922318e-04 8.37683768e-04 8.59249411e-04\n",
      "  8.09218797e-04]\n",
      " [6.06354513e-04 6.71322791e-04 6.63999002e-04 6.81091420e-04\n",
      "  6.41430950e-04]\n",
      " [4.80604853e-04 5.32106913e-04 5.26301429e-04 5.39848145e-04\n",
      "  5.08410319e-04]\n",
      " [3.80920925e-04 4.21745361e-04 4.17143668e-04 4.27880004e-04\n",
      "  4.02961302e-04]\n",
      " [3.01904601e-04 3.34263509e-04 3.30616151e-04 3.39125013e-04\n",
      "  3.19374376e-04]\n",
      " [2.39273883e-04 2.64921685e-04 2.62030842e-04 2.68774284e-04\n",
      "  2.53120362e-04]\n",
      " [1.89632803e-04 2.09960709e-04 2.07669532e-04 2.13013791e-04\n",
      "  2.00607145e-04]\n",
      " [1.50288505e-04 1.66399571e-04 1.64583704e-04 1.68819062e-04\n",
      "  1.58986266e-04]\n",
      " [1.19105939e-04 1.31874655e-04 1.30435519e-04 1.33792045e-04\n",
      "  1.25999257e-04]\n",
      " [9.43924783e-05 1.04512077e-04 1.03371528e-04 1.06031567e-04\n",
      "  9.98556225e-05]\n",
      " [7.48063455e-05 8.28263376e-05 8.19224358e-05 8.40305015e-05\n",
      "  7.91359875e-05]\n",
      " [5.92839558e-05 6.56399031e-05 6.49235534e-05 6.65941788e-05\n",
      "  6.27152447e-05]\n",
      " [4.69822788e-05 5.20194095e-05 5.14517002e-05 5.27756543e-05\n",
      "  4.97015929e-05]\n",
      " [3.72331283e-05 4.12250632e-05 4.07751542e-05 4.18243728e-05\n",
      "  3.93881862e-05]\n",
      " [2.95069162e-05 3.26705160e-05 3.23139652e-05 3.31454578e-05\n",
      "  3.12147929e-05]\n",
      " [2.33839142e-05 2.58910504e-05 2.56084864e-05 2.62674330e-05\n",
      "  2.47373962e-05]\n",
      " [1.85314700e-05 2.05183560e-05 2.02944267e-05 2.08166325e-05\n",
      "  1.96040932e-05]\n",
      " [1.46859471e-05 1.62605351e-05 1.60830734e-05 1.64969138e-05\n",
      "  1.55359901e-05]]\n"
     ]
    }
   ],
   "source": [
    "print(train_scores)\n"
   ]
  },
  {
   "cell_type": "code",
   "execution_count": 87,
   "id": "8728db3f",
   "metadata": {},
   "outputs": [
    {
     "name": "stdout",
     "output_type": "stream",
     "text": [
      "[[ 7.71295218e-01  7.09263045e-01  7.65468189e-01  6.59693682e-01\n",
      "   7.82412794e-01]\n",
      " [ 7.71298073e-01  7.09264271e-01  7.65467971e-01  6.59692563e-01\n",
      "   7.82412500e-01]\n",
      " [ 7.71301675e-01  7.09265818e-01  7.65467696e-01  6.59691152e-01\n",
      "   7.82412130e-01]\n",
      " [ 7.71306220e-01  7.09267770e-01  7.65467348e-01  6.59689370e-01\n",
      "   7.82411663e-01]\n",
      " [ 7.71311953e-01  7.09270232e-01  7.65466910e-01  6.59687122e-01\n",
      "   7.82411073e-01]\n",
      " [ 7.71319185e-01  7.09273338e-01  7.65466356e-01  6.59684285e-01\n",
      "   7.82410328e-01]\n",
      " [ 7.71328307e-01  7.09277255e-01  7.65465656e-01  6.59680706e-01\n",
      "   7.82409386e-01]\n",
      " [ 7.71339813e-01  7.09282194e-01  7.65464771e-01  6.59676190e-01\n",
      "   7.82408197e-01]\n",
      " [ 7.71354322e-01  7.09288422e-01  7.65463653e-01  6.59670492e-01\n",
      "   7.82406693e-01]\n",
      " [ 7.71372617e-01  7.09296272e-01  7.65462239e-01  6.59663302e-01\n",
      "   7.82404791e-01]\n",
      " [ 7.71395679e-01  7.09306166e-01  7.65460450e-01  6.59654231e-01\n",
      "   7.82402384e-01]\n",
      " [ 7.71424745e-01  7.09318630e-01  7.65458185e-01  6.59642786e-01\n",
      "   7.82399336e-01]\n",
      " [ 7.71461364e-01  7.09334326e-01  7.65455314e-01  6.59628347e-01\n",
      "   7.82395473e-01]\n",
      " [ 7.71507481e-01  7.09354082e-01  7.65451671e-01  6.59610131e-01\n",
      "   7.82390571e-01]\n",
      " [ 7.71565529e-01  7.09378931e-01  7.65447043e-01  6.59587152e-01\n",
      "   7.82384341e-01]\n",
      " [ 7.71638549e-01  7.09410159e-01  7.65441153e-01  6.59558167e-01\n",
      "   7.82376411e-01]\n",
      " [ 7.71730326e-01  7.09449363e-01  7.65433643e-01  6.59521609e-01\n",
      "   7.82366295e-01]\n",
      " [ 7.71845561e-01  7.09498516e-01  7.65424041e-01  6.59475506e-01\n",
      "   7.82353358e-01]\n",
      " [ 7.71990060e-01  7.09560039e-01  7.65411728e-01  6.59417376e-01\n",
      "   7.82336760e-01]\n",
      " [ 7.72170963e-01  7.09636886e-01  7.65395883e-01  6.59344094e-01\n",
      "   7.82315385e-01]\n",
      " [ 7.72396975e-01  7.09732623e-01  7.65375404e-01  6.59251736e-01\n",
      "   7.82287738e-01]\n",
      " [ 7.72678622e-01  7.09851510e-01  7.65348806e-01  6.59135375e-01\n",
      "   7.82251795e-01]\n",
      " [ 7.73028469e-01  7.09998548e-01  7.65314067e-01  6.58988831e-01\n",
      "   7.82204791e-01]\n",
      " [ 7.73461279e-01  7.10179494e-01  7.65268414e-01  6.58804372e-01\n",
      "   7.82142926e-01]\n",
      " [ 7.73994031e-01  7.10400796e-01  7.65208016e-01  6.58572341e-01\n",
      "   7.82060927e-01]\n",
      " [ 7.74645685e-01  7.10669403e-01  7.65127556e-01  6.58280712e-01\n",
      "   7.81951451e-01]\n",
      " [ 7.75436544e-01  7.10992408e-01  7.65019636e-01  6.57914555e-01\n",
      "   7.81804229e-01]\n",
      " [ 7.76387023e-01  7.11376453e-01  7.64873948e-01  6.57455416e-01\n",
      "   7.81604902e-01]\n",
      " [ 7.77515569e-01  7.11826847e-01  7.64676169e-01  6.56880582e-01\n",
      "   7.81333450e-01]\n",
      " [ 7.78835514e-01  7.12346357e-01  7.64406478e-01  6.56162238e-01\n",
      "   7.80962139e-01]\n",
      " [ 7.80350662e-01  7.12933633e-01  7.64037623e-01  6.55266482e-01\n",
      "   7.80452936e-01]\n",
      " [ 7.82049549e-01  7.13581239e-01  7.63532409e-01  6.54152127e-01\n",
      "   7.79754384e-01]\n",
      " [ 7.83898574e-01  7.14273157e-01  7.62840421e-01  6.52769158e-01\n",
      "   7.78798009e-01]\n",
      " [ 7.85834451e-01  7.14981406e-01  7.61893695e-01  6.51056579e-01\n",
      "   7.77494382e-01]\n",
      " [ 7.87756715e-01  7.15661077e-01  7.60600925e-01  6.48939252e-01\n",
      "   7.75728992e-01]\n",
      " [ 7.89521058e-01  7.16242729e-01  7.58839719e-01  6.46323196e-01\n",
      "   7.73358060e-01]\n",
      " [ 7.90934104e-01  7.16621018e-01  7.56446635e-01  6.43088904e-01\n",
      "   7.70204399e-01]\n",
      " [ 7.91749769e-01  7.16639158e-01  7.53205465e-01  6.39082631e-01\n",
      "   7.66053465e-01]\n",
      " [ 7.91666893e-01  7.16070476e-01  7.48835633e-01  6.34106526e-01\n",
      "   7.60650144e-01]\n",
      " [ 7.90327770e-01  7.14600794e-01  7.42984491e-01  6.27909873e-01\n",
      "   7.53697486e-01]\n",
      " [ 7.87317677e-01  7.11817842e-01  7.35229028e-01  6.20185191e-01\n",
      "   7.44859522e-01]\n",
      " [ 7.82166679e-01  7.07215137e-01  7.25092856e-01  6.10573810e-01\n",
      "   7.33770837e-01]\n",
      " [ 7.74356145e-01  7.00216410e-01  7.12082095e-01  5.98684893e-01\n",
      "   7.20055023e-01]\n",
      " [ 7.63332860e-01  6.90222087e-01  6.95738421e-01  5.84128855e-01\n",
      "   7.03351995e-01]\n",
      " [ 7.48532915e-01  6.76671989e-01  6.75700059e-01  5.66561244e-01\n",
      "   6.83350735e-01]\n",
      " [ 7.29415791e-01  6.59110982e-01  6.51755405e-01  5.45728115e-01\n",
      "   6.59821053e-01]\n",
      " [ 7.05507721e-01  6.37241323e-01  6.23873698e-01  5.21502068e-01\n",
      "   6.32637854e-01]\n",
      " [ 6.76453475e-01  6.10950663e-01  5.92205579e-01  4.93901898e-01\n",
      "   6.01795687e-01]\n",
      " [ 6.42076578e-01  5.80317060e-01  5.57060550e-01  4.63096993e-01\n",
      "   5.67418272e-01]\n",
      " [ 6.02446643e-01  5.45604533e-01  5.18879675e-01  4.29405030e-01\n",
      "   5.29771909e-01]\n",
      " [ 5.57945777e-01  5.07264643e-01  4.78221316e-01  3.93291738e-01\n",
      "   4.89287803e-01]\n",
      " [ 5.09315138e-01  4.65947839e-01  4.35763799e-01  3.55372988e-01\n",
      "   4.46586507e-01]\n",
      " [ 4.57655388e-01  4.22510217e-01  3.92310675e-01  3.16408276e-01\n",
      "   4.02485509e-01]\n",
      " [ 4.04360316e-01  3.77991474e-01  3.48775243e-01  2.77270257e-01\n",
      "   3.57969062e-01]\n",
      " [ 3.50983705e-01  3.33547598e-01  3.06128778e-01  2.38882673e-01\n",
      "   3.14112078e-01]\n",
      " [ 2.99065910e-01  2.90343363e-01  2.65316380e-01  2.02134463e-01\n",
      "   2.71970728e-01]\n",
      " [ 2.49963431e-01  2.49430657e-01  2.27162406e-01  1.67790976e-01\n",
      "   2.32468335e-01]\n",
      " [ 2.04722371e-01  2.11645882e-01  1.92293015e-01  1.36425609e-01\n",
      "   1.96306978e-01]\n",
      " [ 1.64018192e-01  1.77550695e-01  1.61095161e-01  1.08386863e-01\n",
      "   1.63923593e-01]\n",
      " [ 1.28161027e-01  1.47422862e-01  1.33716522e-01  8.38026173e-02\n",
      "   1.35492509e-01]\n",
      " [ 9.71490304e-02  1.21288243e-01  1.10097995e-01  6.26128450e-02\n",
      "   1.10963226e-01]\n",
      " [ 7.07461991e-02  9.89769622e-02  9.00243280e-02  4.46173497e-02\n",
      "   9.01168038e-02]\n",
      " [ 4.85639249e-02  8.01867951e-02  7.31788990e-02  2.95261012e-02\n",
      "   7.26256262e-02]\n",
      " [ 3.01326662e-02  6.45414519e-02  5.91928260e-02  1.70036831e-02\n",
      "   5.81062538e-02]\n",
      " [ 1.49574241e-02  5.16372421e-02  4.76834674e-02  6.70377149e-03\n",
      "   4.61604556e-02]\n",
      " [ 2.55614967e-03  4.10763582e-02  3.82812654e-02 -1.70704691e-03\n",
      "   3.64035903e-02]\n",
      " [-7.51670781e-03  3.24879501e-02  3.06462074e-02 -8.53481490e-03\n",
      "   2.84818935e-02]\n",
      " [-1.56581029e-02  2.55394869e-02  2.44761766e-02 -1.40509906e-02\n",
      "   2.20811831e-02]\n",
      " [-2.22123092e-02  1.99411490e-02  1.95095760e-02 -1.84903108e-02\n",
      "   1.69295505e-02]\n",
      " [-2.74719486e-02  1.54456598e-02  1.55242812e-02 -2.20518884e-02\n",
      "   1.27962211e-02]\n",
      " [-3.16819492e-02  1.18454319e-02  1.23344917e-02 -2.49021426e-02\n",
      "   9.48823575e-03]\n",
      " [-3.50449070e-02  8.96835680e-03  9.78658475e-03 -2.71785858e-02\n",
      "   6.84610645e-03]\n",
      " [-3.77268718e-02  6.67311540e-03  7.75468481e-03 -2.89938381e-02\n",
      "   4.73918863e-03]\n",
      " [-3.98629684e-02  4.84454196e-03  6.13637875e-03 -3.04394927e-02\n",
      "   3.06121328e-03]\n",
      " [-4.15625423e-02  3.38933700e-03  4.84880319e-03 -3.15896365e-02\n",
      "   1.72621329e-03]\n",
      " [-4.29136886e-02  2.23226534e-03  3.82520444e-03 -3.25039385e-02\n",
      "   6.64945080e-04]\n",
      " [-4.39871371e-02  1.31287966e-03  3.01199102e-03 -3.32302936e-02\n",
      "  -1.78175026e-04]\n",
      " [-4.48395203e-02  5.82753304e-04  2.36625484e-03 -3.38070431e-02\n",
      "  -8.47645840e-04]\n",
      " [-4.55160857e-02  3.17784523e-06  1.85371494e-03 -3.42648160e-02\n",
      "  -1.37901645e-03]\n",
      " [-4.60529233e-02 -4.56731765e-04  1.44702921e-03 -3.46280392e-02\n",
      "  -1.80063865e-03]\n",
      " [-4.64787800e-02 -8.21583482e-04  1.12441902e-03 -3.49161679e-02\n",
      "  -2.13509419e-03]\n",
      " [-4.68165295e-02 -1.11096196e-03  8.68555534e-04 -3.51446814e-02\n",
      "  -2.40035021e-03]\n",
      " [-4.70843571e-02 -1.34044019e-03  6.65662101e-04 -3.53258854e-02\n",
      "  -2.61069040e-03]\n",
      " [-4.72967108e-02 -1.52239249e-03  5.04793328e-04 -3.54695561e-02\n",
      "  -2.77746270e-03]\n",
      " [-4.74650634e-02 -1.66664612e-03  3.77257806e-04 -3.55834566e-02\n",
      "  -2.90967797e-03]\n",
      " [-4.75985213e-02 -1.78100207e-03  2.76156813e-04 -3.56737482e-02\n",
      "  -3.01448842e-03]\n",
      " [-4.77043105e-02 -1.87165070e-03  1.96016356e-04 -3.57453201e-02\n",
      "  -3.09756907e-03]\n",
      " [-4.77881629e-02 -1.94350297e-03  1.32494070e-04 -3.58020505e-02\n",
      "  -3.16342174e-03]\n",
      " [-4.78546248e-02 -2.00045393e-03  8.21459908e-05 -3.58470152e-02\n",
      "  -3.21561681e-03]\n",
      " [-4.79073012e-02 -2.04559243e-03  4.22411279e-05 -3.58826532e-02\n",
      "  -3.25698551e-03]\n",
      " [-4.79490504e-02 -2.08136757e-03  1.06141469e-05 -3.59108984e-02\n",
      "  -3.28977263e-03]\n",
      " [-4.79821384e-02 -2.10972106e-03 -1.44516164e-05 -3.59332840e-02\n",
      "  -3.31575784e-03]\n",
      " [-4.80083617e-02 -2.13219216e-03 -3.43170122e-05 -3.59510252e-02\n",
      "  -3.33635192e-03]\n",
      " [-4.80291443e-02 -2.15000103e-03 -5.00607568e-05 -3.59650855e-02\n",
      "  -3.35267315e-03]\n",
      " [-4.80456147e-02 -2.16411482e-03 -6.25378812e-05 -3.59762285e-02\n",
      "  -3.36560793e-03]\n",
      " [-4.80586676e-02 -2.17530012e-03 -7.24260881e-05 -3.59850593e-02\n",
      "  -3.37585883e-03]\n",
      " [-4.80690121e-02 -2.18416450e-03 -8.02625107e-05 -3.59920578e-02\n",
      "  -3.38398269e-03]\n",
      " [-4.80772101e-02 -2.19118951e-03 -8.64728596e-05 -3.59976041e-02\n",
      "  -3.39042083e-03]\n",
      " [-4.80837069e-02 -2.19675680e-03 -9.13945289e-05 -3.60019995e-02\n",
      "  -3.39552302e-03]\n",
      " [-4.80888556e-02 -2.20116884e-03 -9.52949143e-05 -3.60054828e-02\n",
      "  -3.39956647e-03]]\n"
     ]
    }
   ],
   "source": [
    "print(test_scores)"
   ]
  },
  {
   "cell_type": "code",
   "execution_count": 88,
   "id": "e6cf833d",
   "metadata": {},
   "outputs": [],
   "source": [
    "train_mean = np.mean(train_scores, axis = 1)"
   ]
  },
  {
   "cell_type": "code",
   "execution_count": 89,
   "id": "1cfc8101",
   "metadata": {},
   "outputs": [],
   "source": [
    "test_mean = np.mean(test_scores, axis = 1)"
   ]
  },
  {
   "cell_type": "code",
   "execution_count": 90,
   "id": "2f80d091",
   "metadata": {},
   "outputs": [
    {
     "data": {
      "text/plain": [
       "0.7386139417704551"
      ]
     },
     "execution_count": 90,
     "metadata": {},
     "output_type": "execute_result"
    }
   ],
   "source": [
    "max(test_mean)"
   ]
  },
  {
   "cell_type": "code",
   "execution_count": 91,
   "id": "7b1de18d",
   "metadata": {},
   "outputs": [
    {
     "data": {
      "text/plain": [
       "<seaborn.axisgrid.JointGrid at 0x17a4629c250>"
      ]
     },
     "execution_count": 91,
     "metadata": {},
     "output_type": "execute_result"
    },
    {
     "data": {
      "image/png": "[encoded data removed]",
      "text/plain": [
       "<Figure size 432x432 with 3 Axes>"
      ]
     },
     "metadata": {
      "needs_background": "light"
     },
     "output_type": "display_data"
    }
   ],
   "source": [
    "sns.jointplot(x=np.log(param_range),y=test_mean)"
   ]
  },
  {
   "cell_type": "code",
   "execution_count": 92,
   "id": "e7ef4840",
   "metadata": {},
   "outputs": [
    {
     "data": {
      "text/plain": [
       "(array([31], dtype=int64),)"
      ]
     },
     "execution_count": 92,
     "metadata": {},
     "output_type": "execute_result"
    }
   ],
   "source": [
    "np.where(test_mean==max(test_mean))"
   ]
  },
  {
   "cell_type": "code",
   "execution_count": 93,
   "id": "fc42e895",
   "metadata": {},
   "outputs": [
    {
     "data": {
      "text/plain": [
       "21.544346900318846"
      ]
     },
     "execution_count": 93,
     "metadata": {},
     "output_type": "execute_result"
    }
   ],
   "source": [
    "param_range[33]"
   ]
  },
  {
   "cell_type": "code",
   "execution_count": 94,
   "id": "ee233199",
   "metadata": {},
   "outputs": [],
   "source": [
    "lm_r_best = Ridge(alpha = param_range[33])"
   ]
  },
  {
   "cell_type": "code",
   "execution_count": 95,
   "id": "3ccfb56e",
   "metadata": {},
   "outputs": [
    {
     "data": {
      "text/plain": [
       "Ridge(alpha=21.544346900318846)"
      ]
     },
     "execution_count": 95,
     "metadata": {},
     "output_type": "execute_result"
    }
   ],
   "source": [
    "lm_r_best.fit(X_train_s, y_train)"
   ]
  },
  {
   "cell_type": "code",
   "execution_count": 96,
   "id": "55f9a7c1",
   "metadata": {},
   "outputs": [
    {
     "data": {
      "text/plain": [
       "0.5406732551555002"
      ]
     },
     "execution_count": 96,
     "metadata": {},
     "output_type": "execute_result"
    }
   ],
   "source": [
    "r2_score(y_test, lm_r_best.predict(X_test_s))"
   ]
  },
  {
   "cell_type": "code",
   "execution_count": 97,
   "id": "4fac16f6",
   "metadata": {},
   "outputs": [
    {
     "data": {
      "text/plain": [
       "0.7548323614349695"
      ]
     },
     "execution_count": 97,
     "metadata": {},
     "output_type": "execute_result"
    }
   ],
   "source": [
    "r2_score(y_train, lm_r_best.predict(X_train_s))"
   ]
  },
  {
   "cell_type": "markdown",
   "id": "77df82bb",
   "metadata": {},
   "source": [
    "# Lasso"
   ]
  },
  {
   "cell_type": "code",
   "execution_count": 98,
   "id": "5cc21282",
   "metadata": {},
   "outputs": [],
   "source": [
    "from sklearn.linear_model import Lasso"
   ]
  },
  {
   "cell_type": "code",
   "execution_count": 99,
   "id": "d25c8110",
   "metadata": {},
   "outputs": [],
   "source": [
    "scaler = preprocessing.StandardScaler().fit(X_train)"
   ]
  },
  {
   "cell_type": "code",
   "execution_count": 100,
   "id": "140c4542",
   "metadata": {},
   "outputs": [],
   "source": [
    "X_train_s = scaler.transform(X_train)"
   ]
  },
  {
   "cell_type": "code",
   "execution_count": 101,
   "id": "cdc5dcb4",
   "metadata": {},
   "outputs": [],
   "source": [
    "X_test_s = scaler.transform(X_test)"
   ]
  },
  {
   "cell_type": "code",
   "execution_count": 102,
   "id": "701d6856",
   "metadata": {},
   "outputs": [
    {
     "data": {
      "text/plain": [
       "Lasso(alpha=0.5)"
      ]
     },
     "execution_count": 102,
     "metadata": {},
     "output_type": "execute_result"
    }
   ],
   "source": [
    "lm_l = Lasso(alpha = 0.5)\n",
    "lm_l.fit(X_train_s, y_train)"
   ]
  },
  {
   "cell_type": "code",
   "execution_count": 103,
   "id": "93a2f199",
   "metadata": {},
   "outputs": [
    {
     "data": {
      "text/plain": [
       "0.5000236533631626"
      ]
     },
     "execution_count": 103,
     "metadata": {},
     "output_type": "execute_result"
    }
   ],
   "source": [
    "r2_score(y_test, lm_l.predict(X_test_s))"
   ]
  },
  {
   "cell_type": "code",
   "execution_count": 104,
   "id": "39e067f1",
   "metadata": {},
   "outputs": [],
   "source": [
    "train_scores, test_scores = validation_curve( Lasso(), X_train_s, y_train, param_name=\"alpha\", param_range=param_range,scoring='r2')"
   ]
  },
  {
   "cell_type": "code",
   "execution_count": 105,
   "id": "7ac2244b",
   "metadata": {},
   "outputs": [
    {
     "name": "stdout",
     "output_type": "stream",
     "text": [
      "[[0.7492865  0.76257045 0.75258865 0.78219956 0.74584897]\n",
      " [0.74927392 0.76255661 0.75257306 0.78218425 0.74583335]\n",
      " [0.74925381 0.76253453 0.7525482  0.78216158 0.74580846]\n",
      " [0.74922143 0.76249933 0.75250855 0.78212545 0.74576879]\n",
      " [0.74916983 0.76244366 0.75244535 0.78206787 0.74570559]\n",
      " [0.74908762 0.76235493 0.75234463 0.78197614 0.74560991]\n",
      " [0.74895669 0.76221597 0.75218463 0.78183001 0.74546961]\n",
      " [0.74875364 0.76200129 0.75197662 0.78159815 0.74524615]\n",
      " [0.74843621 0.76168643 0.75168855 0.78124561 0.74490537]\n",
      " [0.74793081 0.76124927 0.75125125 0.78068414 0.74443463]\n",
      " [0.74712573 0.76055329 0.75055976 0.77978997 0.74368405]\n",
      " [0.74603945 0.75945179 0.7494577  0.77837118 0.74248889]\n",
      " [0.7444016  0.75786023 0.74770282 0.77653491 0.74058583]\n",
      " [0.74185462 0.75549874 0.74491947 0.77375462 0.73757451]\n",
      " [0.73806725 0.75189216 0.74068246 0.76993089 0.73341555]\n",
      " [0.73319621 0.74620475 0.73415641 0.76429163 0.7275405 ]\n",
      " [0.72604789 0.73827171 0.72484556 0.75546946 0.71831513]\n",
      " [0.71473501 0.73028821 0.71712539 0.74966561 0.70600021]\n",
      " [0.70538368 0.72592792 0.71351679 0.74515579 0.70044742]\n",
      " [0.70079486 0.72091347 0.70780332 0.73933413 0.69452836]\n",
      " [0.69348517 0.71333787 0.69874145 0.7300754  0.68580911]\n",
      " [0.68184581 0.70183749 0.68571611 0.71543298 0.67199071]\n",
      " [0.66331505 0.68352945 0.66603111 0.69502562 0.65145311]\n",
      " [0.63380522 0.65437346 0.63468248 0.66252929 0.62005297]\n",
      " [0.58681752 0.6079496  0.5847669  0.61078763 0.57005658]\n",
      " [0.51200349 0.53403385 0.50529209 0.52840319 0.49045224]\n",
      " [0.39843807 0.43656347 0.39376405 0.41161842 0.37647243]\n",
      " [0.2479788  0.29430088 0.24784834 0.24560366 0.21956785]\n",
      " [0.01305206 0.09869872 0.05259496 0.02860222 0.00977983]\n",
      " [0.         0.         0.         0.         0.        ]\n",
      " [0.         0.         0.         0.         0.        ]\n",
      " [0.         0.         0.         0.         0.        ]\n",
      " [0.         0.         0.         0.         0.        ]\n",
      " [0.         0.         0.         0.         0.        ]\n",
      " [0.         0.         0.         0.         0.        ]\n",
      " [0.         0.         0.         0.         0.        ]\n",
      " [0.         0.         0.         0.         0.        ]\n",
      " [0.         0.         0.         0.         0.        ]\n",
      " [0.         0.         0.         0.         0.        ]\n",
      " [0.         0.         0.         0.         0.        ]\n",
      " [0.         0.         0.         0.         0.        ]\n",
      " [0.         0.         0.         0.         0.        ]\n",
      " [0.         0.         0.         0.         0.        ]\n",
      " [0.         0.         0.         0.         0.        ]\n",
      " [0.         0.         0.         0.         0.        ]\n",
      " [0.         0.         0.         0.         0.        ]\n",
      " [0.         0.         0.         0.         0.        ]\n",
      " [0.         0.         0.         0.         0.        ]\n",
      " [0.         0.         0.         0.         0.        ]\n",
      " [0.         0.         0.         0.         0.        ]\n",
      " [0.         0.         0.         0.         0.        ]\n",
      " [0.         0.         0.         0.         0.        ]\n",
      " [0.         0.         0.         0.         0.        ]\n",
      " [0.         0.         0.         0.         0.        ]\n",
      " [0.         0.         0.         0.         0.        ]\n",
      " [0.         0.         0.         0.         0.        ]\n",
      " [0.         0.         0.         0.         0.        ]\n",
      " [0.         0.         0.         0.         0.        ]\n",
      " [0.         0.         0.         0.         0.        ]\n",
      " [0.         0.         0.         0.         0.        ]\n",
      " [0.         0.         0.         0.         0.        ]\n",
      " [0.         0.         0.         0.         0.        ]\n",
      " [0.         0.         0.         0.         0.        ]\n",
      " [0.         0.         0.         0.         0.        ]\n",
      " [0.         0.         0.         0.         0.        ]\n",
      " [0.         0.         0.         0.         0.        ]\n",
      " [0.         0.         0.         0.         0.        ]\n",
      " [0.         0.         0.         0.         0.        ]\n",
      " [0.         0.         0.         0.         0.        ]\n",
      " [0.         0.         0.         0.         0.        ]\n",
      " [0.         0.         0.         0.         0.        ]\n",
      " [0.         0.         0.         0.         0.        ]\n",
      " [0.         0.         0.         0.         0.        ]\n",
      " [0.         0.         0.         0.         0.        ]\n",
      " [0.         0.         0.         0.         0.        ]\n",
      " [0.         0.         0.         0.         0.        ]\n",
      " [0.         0.         0.         0.         0.        ]\n",
      " [0.         0.         0.         0.         0.        ]\n",
      " [0.         0.         0.         0.         0.        ]\n",
      " [0.         0.         0.         0.         0.        ]\n",
      " [0.         0.         0.         0.         0.        ]\n",
      " [0.         0.         0.         0.         0.        ]\n",
      " [0.         0.         0.         0.         0.        ]\n",
      " [0.         0.         0.         0.         0.        ]\n",
      " [0.         0.         0.         0.         0.        ]\n",
      " [0.         0.         0.         0.         0.        ]\n",
      " [0.         0.         0.         0.         0.        ]\n",
      " [0.         0.         0.         0.         0.        ]\n",
      " [0.         0.         0.         0.         0.        ]\n",
      " [0.         0.         0.         0.         0.        ]\n",
      " [0.         0.         0.         0.         0.        ]\n",
      " [0.         0.         0.         0.         0.        ]\n",
      " [0.         0.         0.         0.         0.        ]\n",
      " [0.         0.         0.         0.         0.        ]\n",
      " [0.         0.         0.         0.         0.        ]\n",
      " [0.         0.         0.         0.         0.        ]\n",
      " [0.         0.         0.         0.         0.        ]\n",
      " [0.         0.         0.         0.         0.        ]\n",
      " [0.         0.         0.         0.         0.        ]\n",
      " [0.         0.         0.         0.         0.        ]]\n"
     ]
    }
   ],
   "source": [
    "print(train_scores)"
   ]
  },
  {
   "cell_type": "code",
   "execution_count": 106,
   "id": "e01daef3",
   "metadata": {},
   "outputs": [
    {
     "name": "stdout",
     "output_type": "stream",
     "text": [
      "[[ 7.71902320e-01  7.09506029e-01  7.65560740e-01  6.59273594e-01\n",
      "   7.83071009e-01]\n",
      " [ 7.72046331e-01  7.09559120e-01  7.65570939e-01  6.59165590e-01\n",
      "   7.83232065e-01]\n",
      " [ 7.72232901e-01  7.09618483e-01  7.65577424e-01  6.59067083e-01\n",
      "   7.83429665e-01]\n",
      " [ 7.72470868e-01  7.09681050e-01  7.65575439e-01  6.58936572e-01\n",
      "   7.83670043e-01]\n",
      " [ 7.72759633e-01  7.09746317e-01  7.65556742e-01  6.58762024e-01\n",
      "   7.83959093e-01]\n",
      " [ 7.73105622e-01  7.09806613e-01  7.65507364e-01  6.58526089e-01\n",
      "   7.84298485e-01]\n",
      " [ 7.73519860e-01  7.09992834e-01  7.65393990e-01  6.58203418e-01\n",
      "   7.84689224e-01]\n",
      " [ 7.74036322e-01  7.10097025e-01  7.65353932e-01  6.57749843e-01\n",
      "   7.85132656e-01]\n",
      " [ 7.74579927e-01  7.09882202e-01  7.65135433e-01  6.57011316e-01\n",
      "   7.85639916e-01]\n",
      " [ 7.75159750e-01  7.09583108e-01  7.64899895e-01  6.55977382e-01\n",
      "   7.86313170e-01]\n",
      " [ 7.75722305e-01  7.08942405e-01  7.64472756e-01  6.54510300e-01\n",
      "   7.86989823e-01]\n",
      " [ 7.75936576e-01  7.07757798e-01  7.63692201e-01  6.52402876e-01\n",
      "   7.87568161e-01]\n",
      " [ 7.75813016e-01  7.06610127e-01  7.62314068e-01  6.49244730e-01\n",
      "   7.87859352e-01]\n",
      " [ 7.75186422e-01  7.04916840e-01  7.59945355e-01  6.45010428e-01\n",
      "   7.87526052e-01]\n",
      " [ 7.73671274e-01  7.01297265e-01  7.55896908e-01  6.40073008e-01\n",
      "   7.86218046e-01]\n",
      " [ 7.72000327e-01  6.94781399e-01  7.49260427e-01  6.32941169e-01\n",
      "   7.84508293e-01]\n",
      " [ 7.70416368e-01  6.87147665e-01  7.39383854e-01  6.22178268e-01\n",
      "   7.80550765e-01]\n",
      " [ 7.66448171e-01  6.82119956e-01  7.31901736e-01  6.16914693e-01\n",
      "   7.72175731e-01]\n",
      " [ 7.62063625e-01  6.80515152e-01  7.28769872e-01  6.13323000e-01\n",
      "   7.67642131e-01]\n",
      " [ 7.59093724e-01  6.78207716e-01  7.23449396e-01  6.07998508e-01\n",
      "   7.61354595e-01]\n",
      " [ 7.53458481e-01  6.74303561e-01  7.14231790e-01  5.99647881e-01\n",
      "   7.51180330e-01]\n",
      " [ 7.43341835e-01  6.67403599e-01  6.99830569e-01  5.86522472e-01\n",
      "   7.35696795e-01]\n",
      " [ 7.25790798e-01  6.53713966e-01  6.77871015e-01  5.66653921e-01\n",
      "   7.11505771e-01]\n",
      " [ 6.96022568e-01  6.28494242e-01  6.43226420e-01  5.36264693e-01\n",
      "   6.74143723e-01]\n",
      " [ 6.46325287e-01  5.84027040e-01  5.88475854e-01  4.89454332e-01\n",
      "   6.16902274e-01]\n",
      " [ 5.64294987e-01  5.07788612e-01  5.01825416e-01  4.16910782e-01\n",
      "   5.28597865e-01]\n",
      " [ 4.35000708e-01  4.12887476e-01  3.80021800e-01  3.15426768e-01\n",
      "   4.02926027e-01]\n",
      " [ 2.51753021e-01  2.76886756e-01  2.27162896e-01  1.71220871e-01\n",
      "   2.30470032e-01]\n",
      " [-3.56580698e-02  9.10530117e-02  4.77914031e-02 -1.22153119e-02\n",
      "   6.91735606e-03]\n",
      " [-4.81085184e-02 -2.21801834e-03 -1.10190396e-04 -3.60187855e-02\n",
      "  -3.41500829e-03]\n",
      " [-4.81085184e-02 -2.21801834e-03 -1.10190396e-04 -3.60187855e-02\n",
      "  -3.41500829e-03]\n",
      " [-4.81085184e-02 -2.21801834e-03 -1.10190396e-04 -3.60187855e-02\n",
      "  -3.41500829e-03]\n",
      " [-4.81085184e-02 -2.21801834e-03 -1.10190396e-04 -3.60187855e-02\n",
      "  -3.41500829e-03]\n",
      " [-4.81085184e-02 -2.21801834e-03 -1.10190396e-04 -3.60187855e-02\n",
      "  -3.41500829e-03]\n",
      " [-4.81085184e-02 -2.21801834e-03 -1.10190396e-04 -3.60187855e-02\n",
      "  -3.41500829e-03]\n",
      " [-4.81085184e-02 -2.21801834e-03 -1.10190396e-04 -3.60187855e-02\n",
      "  -3.41500829e-03]\n",
      " [-4.81085184e-02 -2.21801834e-03 -1.10190396e-04 -3.60187855e-02\n",
      "  -3.41500829e-03]\n",
      " [-4.81085184e-02 -2.21801834e-03 -1.10190396e-04 -3.60187855e-02\n",
      "  -3.41500829e-03]\n",
      " [-4.81085184e-02 -2.21801834e-03 -1.10190396e-04 -3.60187855e-02\n",
      "  -3.41500829e-03]\n",
      " [-4.81085184e-02 -2.21801834e-03 -1.10190396e-04 -3.60187855e-02\n",
      "  -3.41500829e-03]\n",
      " [-4.81085184e-02 -2.21801834e-03 -1.10190396e-04 -3.60187855e-02\n",
      "  -3.41500829e-03]\n",
      " [-4.81085184e-02 -2.21801834e-03 -1.10190396e-04 -3.60187855e-02\n",
      "  -3.41500829e-03]\n",
      " [-4.81085184e-02 -2.21801834e-03 -1.10190396e-04 -3.60187855e-02\n",
      "  -3.41500829e-03]\n",
      " [-4.81085184e-02 -2.21801834e-03 -1.10190396e-04 -3.60187855e-02\n",
      "  -3.41500829e-03]\n",
      " [-4.81085184e-02 -2.21801834e-03 -1.10190396e-04 -3.60187855e-02\n",
      "  -3.41500829e-03]\n",
      " [-4.81085184e-02 -2.21801834e-03 -1.10190396e-04 -3.60187855e-02\n",
      "  -3.41500829e-03]\n",
      " [-4.81085184e-02 -2.21801834e-03 -1.10190396e-04 -3.60187855e-02\n",
      "  -3.41500829e-03]\n",
      " [-4.81085184e-02 -2.21801834e-03 -1.10190396e-04 -3.60187855e-02\n",
      "  -3.41500829e-03]\n",
      " [-4.81085184e-02 -2.21801834e-03 -1.10190396e-04 -3.60187855e-02\n",
      "  -3.41500829e-03]\n",
      " [-4.81085184e-02 -2.21801834e-03 -1.10190396e-04 -3.60187855e-02\n",
      "  -3.41500829e-03]\n",
      " [-4.81085184e-02 -2.21801834e-03 -1.10190396e-04 -3.60187855e-02\n",
      "  -3.41500829e-03]\n",
      " [-4.81085184e-02 -2.21801834e-03 -1.10190396e-04 -3.60187855e-02\n",
      "  -3.41500829e-03]\n",
      " [-4.81085184e-02 -2.21801834e-03 -1.10190396e-04 -3.60187855e-02\n",
      "  -3.41500829e-03]\n",
      " [-4.81085184e-02 -2.21801834e-03 -1.10190396e-04 -3.60187855e-02\n",
      "  -3.41500829e-03]\n",
      " [-4.81085184e-02 -2.21801834e-03 -1.10190396e-04 -3.60187855e-02\n",
      "  -3.41500829e-03]\n",
      " [-4.81085184e-02 -2.21801834e-03 -1.10190396e-04 -3.60187855e-02\n",
      "  -3.41500829e-03]\n",
      " [-4.81085184e-02 -2.21801834e-03 -1.10190396e-04 -3.60187855e-02\n",
      "  -3.41500829e-03]\n",
      " [-4.81085184e-02 -2.21801834e-03 -1.10190396e-04 -3.60187855e-02\n",
      "  -3.41500829e-03]\n",
      " [-4.81085184e-02 -2.21801834e-03 -1.10190396e-04 -3.60187855e-02\n",
      "  -3.41500829e-03]\n",
      " [-4.81085184e-02 -2.21801834e-03 -1.10190396e-04 -3.60187855e-02\n",
      "  -3.41500829e-03]\n",
      " [-4.81085184e-02 -2.21801834e-03 -1.10190396e-04 -3.60187855e-02\n",
      "  -3.41500829e-03]\n",
      " [-4.81085184e-02 -2.21801834e-03 -1.10190396e-04 -3.60187855e-02\n",
      "  -3.41500829e-03]\n",
      " [-4.81085184e-02 -2.21801834e-03 -1.10190396e-04 -3.60187855e-02\n",
      "  -3.41500829e-03]\n",
      " [-4.81085184e-02 -2.21801834e-03 -1.10190396e-04 -3.60187855e-02\n",
      "  -3.41500829e-03]\n",
      " [-4.81085184e-02 -2.21801834e-03 -1.10190396e-04 -3.60187855e-02\n",
      "  -3.41500829e-03]\n",
      " [-4.81085184e-02 -2.21801834e-03 -1.10190396e-04 -3.60187855e-02\n",
      "  -3.41500829e-03]\n",
      " [-4.81085184e-02 -2.21801834e-03 -1.10190396e-04 -3.60187855e-02\n",
      "  -3.41500829e-03]\n",
      " [-4.81085184e-02 -2.21801834e-03 -1.10190396e-04 -3.60187855e-02\n",
      "  -3.41500829e-03]\n",
      " [-4.81085184e-02 -2.21801834e-03 -1.10190396e-04 -3.60187855e-02\n",
      "  -3.41500829e-03]\n",
      " [-4.81085184e-02 -2.21801834e-03 -1.10190396e-04 -3.60187855e-02\n",
      "  -3.41500829e-03]\n",
      " [-4.81085184e-02 -2.21801834e-03 -1.10190396e-04 -3.60187855e-02\n",
      "  -3.41500829e-03]\n",
      " [-4.81085184e-02 -2.21801834e-03 -1.10190396e-04 -3.60187855e-02\n",
      "  -3.41500829e-03]\n",
      " [-4.81085184e-02 -2.21801834e-03 -1.10190396e-04 -3.60187855e-02\n",
      "  -3.41500829e-03]\n",
      " [-4.81085184e-02 -2.21801834e-03 -1.10190396e-04 -3.60187855e-02\n",
      "  -3.41500829e-03]\n",
      " [-4.81085184e-02 -2.21801834e-03 -1.10190396e-04 -3.60187855e-02\n",
      "  -3.41500829e-03]\n",
      " [-4.81085184e-02 -2.21801834e-03 -1.10190396e-04 -3.60187855e-02\n",
      "  -3.41500829e-03]\n",
      " [-4.81085184e-02 -2.21801834e-03 -1.10190396e-04 -3.60187855e-02\n",
      "  -3.41500829e-03]\n",
      " [-4.81085184e-02 -2.21801834e-03 -1.10190396e-04 -3.60187855e-02\n",
      "  -3.41500829e-03]\n",
      " [-4.81085184e-02 -2.21801834e-03 -1.10190396e-04 -3.60187855e-02\n",
      "  -3.41500829e-03]\n",
      " [-4.81085184e-02 -2.21801834e-03 -1.10190396e-04 -3.60187855e-02\n",
      "  -3.41500829e-03]\n",
      " [-4.81085184e-02 -2.21801834e-03 -1.10190396e-04 -3.60187855e-02\n",
      "  -3.41500829e-03]\n",
      " [-4.81085184e-02 -2.21801834e-03 -1.10190396e-04 -3.60187855e-02\n",
      "  -3.41500829e-03]\n",
      " [-4.81085184e-02 -2.21801834e-03 -1.10190396e-04 -3.60187855e-02\n",
      "  -3.41500829e-03]\n",
      " [-4.81085184e-02 -2.21801834e-03 -1.10190396e-04 -3.60187855e-02\n",
      "  -3.41500829e-03]\n",
      " [-4.81085184e-02 -2.21801834e-03 -1.10190396e-04 -3.60187855e-02\n",
      "  -3.41500829e-03]\n",
      " [-4.81085184e-02 -2.21801834e-03 -1.10190396e-04 -3.60187855e-02\n",
      "  -3.41500829e-03]\n",
      " [-4.81085184e-02 -2.21801834e-03 -1.10190396e-04 -3.60187855e-02\n",
      "  -3.41500829e-03]\n",
      " [-4.81085184e-02 -2.21801834e-03 -1.10190396e-04 -3.60187855e-02\n",
      "  -3.41500829e-03]\n",
      " [-4.81085184e-02 -2.21801834e-03 -1.10190396e-04 -3.60187855e-02\n",
      "  -3.41500829e-03]\n",
      " [-4.81085184e-02 -2.21801834e-03 -1.10190396e-04 -3.60187855e-02\n",
      "  -3.41500829e-03]\n",
      " [-4.81085184e-02 -2.21801834e-03 -1.10190396e-04 -3.60187855e-02\n",
      "  -3.41500829e-03]\n",
      " [-4.81085184e-02 -2.21801834e-03 -1.10190396e-04 -3.60187855e-02\n",
      "  -3.41500829e-03]\n",
      " [-4.81085184e-02 -2.21801834e-03 -1.10190396e-04 -3.60187855e-02\n",
      "  -3.41500829e-03]\n",
      " [-4.81085184e-02 -2.21801834e-03 -1.10190396e-04 -3.60187855e-02\n",
      "  -3.41500829e-03]\n",
      " [-4.81085184e-02 -2.21801834e-03 -1.10190396e-04 -3.60187855e-02\n",
      "  -3.41500829e-03]\n",
      " [-4.81085184e-02 -2.21801834e-03 -1.10190396e-04 -3.60187855e-02\n",
      "  -3.41500829e-03]\n",
      " [-4.81085184e-02 -2.21801834e-03 -1.10190396e-04 -3.60187855e-02\n",
      "  -3.41500829e-03]\n",
      " [-4.81085184e-02 -2.21801834e-03 -1.10190396e-04 -3.60187855e-02\n",
      "  -3.41500829e-03]\n",
      " [-4.81085184e-02 -2.21801834e-03 -1.10190396e-04 -3.60187855e-02\n",
      "  -3.41500829e-03]\n",
      " [-4.81085184e-02 -2.21801834e-03 -1.10190396e-04 -3.60187855e-02\n",
      "  -3.41500829e-03]]\n"
     ]
    }
   ],
   "source": [
    "print(test_scores)"
   ]
  },
  {
   "cell_type": "code",
   "execution_count": 107,
   "id": "482ec0c9",
   "metadata": {},
   "outputs": [],
   "source": [
    "train_mean = np.mean(train_scores, axis = 1)"
   ]
  },
  {
   "cell_type": "code",
   "execution_count": 108,
   "id": "63fed8d4",
   "metadata": {},
   "outputs": [],
   "source": [
    "test_mean = np.mean(test_scores, axis = 1)"
   ]
  },
  {
   "cell_type": "code",
   "execution_count": 109,
   "id": "dc85c239",
   "metadata": {},
   "outputs": [
    {
     "data": {
      "text/plain": [
       "0.7384739556073388"
      ]
     },
     "execution_count": 109,
     "metadata": {},
     "output_type": "execute_result"
    }
   ],
   "source": [
    "max(test_mean)"
   ]
  },
  {
   "cell_type": "code",
   "execution_count": 110,
   "id": "0f0f1b77",
   "metadata": {},
   "outputs": [
    {
     "data": {
      "text/plain": [
       "<seaborn.axisgrid.JointGrid at 0x17a4629c910>"
      ]
     },
     "execution_count": 110,
     "metadata": {},
     "output_type": "execute_result"
    },
    {
     "data": {
      "image/png": "[encoded data removed]",
      "text/plain": [
       "<Figure size 432x432 with 3 Axes>"
      ]
     },
     "metadata": {
      "needs_background": "light"
     },
     "output_type": "display_data"
    }
   ],
   "source": [
    "sns.jointplot(x=np.log(param_range),y=test_mean)"
   ]
  },
  {
   "cell_type": "code",
   "execution_count": 111,
   "id": "33f378f4",
   "metadata": {},
   "outputs": [
    {
     "data": {
      "text/plain": [
       "(array([7], dtype=int64),)"
      ]
     },
     "execution_count": 111,
     "metadata": {},
     "output_type": "execute_result"
    }
   ],
   "source": [
    "np.where(test_mean==max(test_mean))"
   ]
  },
  {
   "cell_type": "code",
   "execution_count": 112,
   "id": "b8d2ca16",
   "metadata": {},
   "outputs": [
    {
     "data": {
      "text/plain": [
       "21.544346900318846"
      ]
     },
     "execution_count": 112,
     "metadata": {},
     "output_type": "execute_result"
    }
   ],
   "source": [
    "param_range[33]"
   ]
  },
  {
   "cell_type": "code",
   "execution_count": 113,
   "id": "ea92251e",
   "metadata": {},
   "outputs": [],
   "source": [
    "lm_l_best = Lasso(alpha = param_range[33])"
   ]
  },
  {
   "cell_type": "code",
   "execution_count": 114,
   "id": "68784598",
   "metadata": {},
   "outputs": [
    {
     "data": {
      "text/plain": [
       "Lasso(alpha=21.544346900318846)"
      ]
     },
     "execution_count": 114,
     "metadata": {},
     "output_type": "execute_result"
    }
   ],
   "source": [
    "lm_l_best.fit(X_train_s, y_train)"
   ]
  },
  {
   "cell_type": "code",
   "execution_count": 115,
   "id": "af90ec68",
   "metadata": {},
   "outputs": [
    {
     "data": {
      "text/plain": [
       "-0.0011193237204489837"
      ]
     },
     "execution_count": 115,
     "metadata": {},
     "output_type": "execute_result"
    }
   ],
   "source": [
    "r2_score(y_test, lm_l_best.predict(X_test_s))"
   ]
  },
  {
   "cell_type": "code",
   "execution_count": 116,
   "id": "c6a9b245",
   "metadata": {},
   "outputs": [
    {
     "data": {
      "text/plain": [
       "0.0"
      ]
     },
     "execution_count": 116,
     "metadata": {},
     "output_type": "execute_result"
    }
   ],
   "source": [
    "r2_score(y_train, lm_l_best.predict(X_train_s))"
   ]
  },
  {
   "cell_type": "code",
   "execution_count": 117,
   "id": "3ec1cf27",
   "metadata": {},
   "outputs": [],
   "source": [
    "df =  pd.read_csv('Classification+preprocessed+data+Python (2).csv')"
   ]
  },
  {
   "cell_type": "markdown",
   "id": "ef2f9a64",
   "metadata": {},
   "source": [
    "# Problem Statement\n",
    "   1. will the house be sold within three months of getting listed?\n",
    "   2. how accuraately can we predict the effect of each of the predictors variable on the response variable?"
   ]
  },
  {
   "cell_type": "markdown",
   "id": "c39aa3d6",
   "metadata": {},
   "source": [
    "# Logistic Regression"
   ]
  },
  {
   "cell_type": "code",
   "execution_count": 118,
   "id": "f3705d37",
   "metadata": {},
   "outputs": [],
   "source": [
    "X = df[['price']]"
   ]
  },
  {
   "cell_type": "code",
   "execution_count": 119,
   "id": "9da2dffe",
   "metadata": {},
   "outputs": [],
   "source": [
    "y = df['Sold']"
   ]
  },
  {
   "cell_type": "code",
   "execution_count": 120,
   "id": "734d1059",
   "metadata": {},
   "outputs": [
    {
     "data": {
      "text/html": [
       "<div>\n",
       "<style scoped>\n",
       "    .dataframe tbody tr th:only-of-type {\n",
       "        vertical-align: middle;\n",
       "    }\n",
       "\n",
       "    .dataframe tbody tr th {\n",
       "        vertical-align: top;\n",
       "    }\n",
       "\n",
       "    .dataframe thead th {\n",
       "        text-align: right;\n",
       "    }\n",
       "</style>\n",
       "<table border=\"1\" class=\"dataframe\">\n",
       "  <thead>\n",
       "    <tr style=\"text-align: right;\">\n",
       "      <th></th>\n",
       "      <th>price</th>\n",
       "    </tr>\n",
       "  </thead>\n",
       "  <tbody>\n",
       "    <tr>\n",
       "      <th>0</th>\n",
       "      <td>24.0</td>\n",
       "    </tr>\n",
       "    <tr>\n",
       "      <th>1</th>\n",
       "      <td>21.6</td>\n",
       "    </tr>\n",
       "    <tr>\n",
       "      <th>2</th>\n",
       "      <td>34.7</td>\n",
       "    </tr>\n",
       "    <tr>\n",
       "      <th>3</th>\n",
       "      <td>33.4</td>\n",
       "    </tr>\n",
       "    <tr>\n",
       "      <th>4</th>\n",
       "      <td>36.2</td>\n",
       "    </tr>\n",
       "  </tbody>\n",
       "</table>\n",
       "</div>"
      ],
      "text/plain": [
       "   price\n",
       "0   24.0\n",
       "1   21.6\n",
       "2   34.7\n",
       "3   33.4\n",
       "4   36.2"
      ]
     },
     "execution_count": 120,
     "metadata": {},
     "output_type": "execute_result"
    }
   ],
   "source": [
    "X.head()"
   ]
  },
  {
   "cell_type": "code",
   "execution_count": 121,
   "id": "cca79c56",
   "metadata": {},
   "outputs": [
    {
     "data": {
      "text/plain": [
       "0    0\n",
       "1    1\n",
       "2    0\n",
       "3    0\n",
       "4    0\n",
       "Name: Sold, dtype: int64"
      ]
     },
     "execution_count": 121,
     "metadata": {},
     "output_type": "execute_result"
    }
   ],
   "source": [
    "y.head()"
   ]
  },
  {
   "cell_type": "code",
   "execution_count": 122,
   "id": "679b957d",
   "metadata": {},
   "outputs": [],
   "source": [
    "from sklearn.linear_model import LogisticRegression"
   ]
  },
  {
   "cell_type": "code",
   "execution_count": 123,
   "id": "1404ae47",
   "metadata": {},
   "outputs": [],
   "source": [
    "clf_lrs = LogisticRegression()"
   ]
  },
  {
   "cell_type": "code",
   "execution_count": 124,
   "id": "90b1c363",
   "metadata": {},
   "outputs": [
    {
     "data": {
      "text/plain": [
       "LogisticRegression()"
      ]
     },
     "execution_count": 124,
     "metadata": {},
     "output_type": "execute_result"
    }
   ],
   "source": [
    "clf_lrs.fit(X,y)"
   ]
  },
  {
   "cell_type": "code",
   "execution_count": 125,
   "id": "1cfa1f55",
   "metadata": {},
   "outputs": [
    {
     "data": {
      "text/plain": [
       "array([[-0.03571865]])"
      ]
     },
     "execution_count": 125,
     "metadata": {},
     "output_type": "execute_result"
    }
   ],
   "source": [
    "clf_lrs.coef_"
   ]
  },
  {
   "cell_type": "code",
   "execution_count": 126,
   "id": "f2e21075",
   "metadata": {},
   "outputs": [
    {
     "data": {
      "text/plain": [
       "array([0.61477516])"
      ]
     },
     "execution_count": 126,
     "metadata": {},
     "output_type": "execute_result"
    }
   ],
   "source": [
    "clf_lrs.intercept_"
   ]
  },
  {
   "cell_type": "code",
   "execution_count": 127,
   "id": "3fa68f57",
   "metadata": {},
   "outputs": [],
   "source": [
    "import statsmodels.api as sn"
   ]
  },
  {
   "cell_type": "code",
   "execution_count": 128,
   "id": "be27bbc2",
   "metadata": {},
   "outputs": [],
   "source": [
    "X_cons = sn.add_constant(X)"
   ]
  },
  {
   "cell_type": "code",
   "execution_count": 129,
   "id": "b5b5f501",
   "metadata": {},
   "outputs": [
    {
     "data": {
      "text/html": [
       "<div>\n",
       "<style scoped>\n",
       "    .dataframe tbody tr th:only-of-type {\n",
       "        vertical-align: middle;\n",
       "    }\n",
       "\n",
       "    .dataframe tbody tr th {\n",
       "        vertical-align: top;\n",
       "    }\n",
       "\n",
       "    .dataframe thead th {\n",
       "        text-align: right;\n",
       "    }\n",
       "</style>\n",
       "<table border=\"1\" class=\"dataframe\">\n",
       "  <thead>\n",
       "    <tr style=\"text-align: right;\">\n",
       "      <th></th>\n",
       "      <th>const</th>\n",
       "      <th>price</th>\n",
       "    </tr>\n",
       "  </thead>\n",
       "  <tbody>\n",
       "    <tr>\n",
       "      <th>0</th>\n",
       "      <td>1.0</td>\n",
       "      <td>24.0</td>\n",
       "    </tr>\n",
       "    <tr>\n",
       "      <th>1</th>\n",
       "      <td>1.0</td>\n",
       "      <td>21.6</td>\n",
       "    </tr>\n",
       "    <tr>\n",
       "      <th>2</th>\n",
       "      <td>1.0</td>\n",
       "      <td>34.7</td>\n",
       "    </tr>\n",
       "    <tr>\n",
       "      <th>3</th>\n",
       "      <td>1.0</td>\n",
       "      <td>33.4</td>\n",
       "    </tr>\n",
       "    <tr>\n",
       "      <th>4</th>\n",
       "      <td>1.0</td>\n",
       "      <td>36.2</td>\n",
       "    </tr>\n",
       "  </tbody>\n",
       "</table>\n",
       "</div>"
      ],
      "text/plain": [
       "   const  price\n",
       "0    1.0   24.0\n",
       "1    1.0   21.6\n",
       "2    1.0   34.7\n",
       "3    1.0   33.4\n",
       "4    1.0   36.2"
      ]
     },
     "execution_count": 129,
     "metadata": {},
     "output_type": "execute_result"
    }
   ],
   "source": [
    "X_cons.head()"
   ]
  },
  {
   "cell_type": "code",
   "execution_count": 130,
   "id": "c9354d4c",
   "metadata": {},
   "outputs": [],
   "source": [
    "import statsmodels.discrete.discrete_model as sm"
   ]
  },
  {
   "cell_type": "code",
   "execution_count": 131,
   "id": "0b66f0fa",
   "metadata": {},
   "outputs": [
    {
     "name": "stdout",
     "output_type": "stream",
     "text": [
      "Optimization terminated successfully.\n",
      "         Current function value: 0.676690\n",
      "         Iterations 5\n"
     ]
    }
   ],
   "source": [
    "logit = sm.Logit(y,X_cons).fit()"
   ]
  },
  {
   "cell_type": "code",
   "execution_count": 132,
   "id": "4f544e1b",
   "metadata": {},
   "outputs": [
    {
     "data": {
      "text/html": [
       "<table class=\"simpletable\">\n",
       "<caption>Logit Regression Results</caption>\n",
       "<tr>\n",
       "  <th>Dep. Variable:</th>         <td>Sold</td>       <th>  No. Observations:  </th>  <td>   506</td>  \n",
       "</tr>\n",
       "<tr>\n",
       "  <th>Model:</th>                 <td>Logit</td>      <th>  Df Residuals:      </th>  <td>   504</td>  \n",
       "</tr>\n",
       "<tr>\n",
       "  <th>Method:</th>                 <td>MLE</td>       <th>  Df Model:          </th>  <td>     1</td>  \n",
       "</tr>\n",
       "<tr>\n",
       "  <th>Date:</th>            <td>Fri, 19 Aug 2022</td> <th>  Pseudo R-squ.:     </th>  <td>0.01788</td> \n",
       "</tr>\n",
       "<tr>\n",
       "  <th>Time:</th>                <td>21:10:10</td>     <th>  Log-Likelihood:    </th> <td> -342.41</td> \n",
       "</tr>\n",
       "<tr>\n",
       "  <th>converged:</th>             <td>True</td>       <th>  LL-Null:           </th> <td> -348.64</td> \n",
       "</tr>\n",
       "<tr>\n",
       "  <th>Covariance Type:</th>     <td>nonrobust</td>    <th>  LLR p-value:       </th> <td>0.0004142</td>\n",
       "</tr>\n",
       "</table>\n",
       "<table class=\"simpletable\">\n",
       "<tr>\n",
       "    <td></td>       <th>coef</th>     <th>std err</th>      <th>z</th>      <th>P>|z|</th>  <th>[0.025</th>    <th>0.975]</th>  \n",
       "</tr>\n",
       "<tr>\n",
       "  <th>const</th> <td>    0.6149</td> <td>    0.248</td> <td>    2.484</td> <td> 0.013</td> <td>    0.130</td> <td>    1.100</td>\n",
       "</tr>\n",
       "<tr>\n",
       "  <th>price</th> <td>   -0.0357</td> <td>    0.010</td> <td>   -3.417</td> <td> 0.001</td> <td>   -0.056</td> <td>   -0.015</td>\n",
       "</tr>\n",
       "</table>"
      ],
      "text/plain": [
       "<class 'statsmodels.iolib.summary.Summary'>\n",
       "\"\"\"\n",
       "                           Logit Regression Results                           \n",
       "==============================================================================\n",
       "Dep. Variable:                   Sold   No. Observations:                  506\n",
       "Model:                          Logit   Df Residuals:                      504\n",
       "Method:                           MLE   Df Model:                            1\n",
       "Date:                Fri, 19 Aug 2022   Pseudo R-squ.:                 0.01788\n",
       "Time:                        21:10:10   Log-Likelihood:                -342.41\n",
       "converged:                       True   LL-Null:                       -348.64\n",
       "Covariance Type:            nonrobust   LLR p-value:                 0.0004142\n",
       "==============================================================================\n",
       "                 coef    std err          z      P>|z|      [0.025      0.975]\n",
       "------------------------------------------------------------------------------\n",
       "const          0.6149      0.248      2.484      0.013       0.130       1.100\n",
       "price         -0.0357      0.010     -3.417      0.001      -0.056      -0.015\n",
       "==============================================================================\n",
       "\"\"\""
      ]
     },
     "execution_count": 132,
     "metadata": {},
     "output_type": "execute_result"
    }
   ],
   "source": [
    "logit.summary()"
   ]
  },
  {
   "cell_type": "markdown",
   "id": "2c146f99",
   "metadata": {},
   "source": [
    "# Logistic with multiple predictor"
   ]
  },
  {
   "cell_type": "code",
   "execution_count": 133,
   "id": "c35bde00",
   "metadata": {},
   "outputs": [],
   "source": [
    "X = df.loc[:,df.columns !='Sold']"
   ]
  },
  {
   "cell_type": "code",
   "execution_count": 134,
   "id": "3cb943e0",
   "metadata": {},
   "outputs": [],
   "source": [
    "y=df['Sold']"
   ]
  },
  {
   "cell_type": "code",
   "execution_count": 135,
   "id": "46008d7d",
   "metadata": {},
   "outputs": [],
   "source": [
    "clf_lr = LogisticRegression()"
   ]
  },
  {
   "cell_type": "code",
   "execution_count": 136,
   "id": "60aca563",
   "metadata": {},
   "outputs": [
    {
     "name": "stderr",
     "output_type": "stream",
     "text": [
      "C:\\Users\\201b1\\anaconda3\\lib\\site-packages\\sklearn\\linear_model\\_logistic.py:814: ConvergenceWarning: lbfgs failed to converge (status=1):\n",
      "STOP: TOTAL NO. of ITERATIONS REACHED LIMIT.\n",
      "\n",
      "Increase the number of iterations (max_iter) or scale the data as shown in:\n",
      "    https://scikit-learn.org/stable/modules/preprocessing.html\n",
      "Please also refer to the documentation for alternative solver options:\n",
      "    https://scikit-learn.org/stable/modules/linear_model.html#logistic-regression\n",
      "  n_iter_i = _check_optimize_result(\n"
     ]
    },
    {
     "data": {
      "text/plain": [
       "LogisticRegression()"
      ]
     },
     "execution_count": 136,
     "metadata": {},
     "output_type": "execute_result"
    }
   ],
   "source": [
    "clf_lr.fit(X,y)"
   ]
  },
  {
   "cell_type": "code",
   "execution_count": 137,
   "id": "a8043720",
   "metadata": {},
   "outputs": [
    {
     "data": {
      "text/plain": [
       "array([[-0.24635274, -0.01729728, -0.11019194,  0.86257497, -0.00599849,\n",
       "         0.22820419, -0.21021248,  0.18007205, -0.09087449, -0.0070489 ,\n",
       "        -0.00499194, -0.3261136 , -0.10521032, -0.09486936, -0.01512301,\n",
       "         0.20179643]])"
      ]
     },
     "execution_count": 137,
     "metadata": {},
     "output_type": "execute_result"
    }
   ],
   "source": [
    "clf_lr.coef_"
   ]
  },
  {
   "cell_type": "code",
   "execution_count": 138,
   "id": "c560f201",
   "metadata": {},
   "outputs": [
    {
     "data": {
      "text/plain": [
       "array([0.01671181])"
      ]
     },
     "execution_count": 138,
     "metadata": {},
     "output_type": "execute_result"
    }
   ],
   "source": [
    "clf_lr.intercept_"
   ]
  },
  {
   "cell_type": "code",
   "execution_count": 139,
   "id": "53ddb2f5",
   "metadata": {},
   "outputs": [],
   "source": [
    "X_cons = sn.add_constant(X)"
   ]
  },
  {
   "cell_type": "code",
   "execution_count": 140,
   "id": "8df41d97",
   "metadata": {},
   "outputs": [
    {
     "name": "stdout",
     "output_type": "stream",
     "text": [
      "Optimization terminated successfully.\n",
      "         Current function value: 0.556433\n",
      "         Iterations 6\n"
     ]
    }
   ],
   "source": [
    "logit = sm.Logit(y,X_cons).fit()"
   ]
  },
  {
   "cell_type": "code",
   "execution_count": 141,
   "id": "5c068bee",
   "metadata": {},
   "outputs": [
    {
     "data": {
      "text/html": [
       "<table class=\"simpletable\">\n",
       "<caption>Logit Regression Results</caption>\n",
       "<tr>\n",
       "  <th>Dep. Variable:</th>         <td>Sold</td>       <th>  No. Observations:  </th>  <td>   506</td>  \n",
       "</tr>\n",
       "<tr>\n",
       "  <th>Model:</th>                 <td>Logit</td>      <th>  Df Residuals:      </th>  <td>   489</td>  \n",
       "</tr>\n",
       "<tr>\n",
       "  <th>Method:</th>                 <td>MLE</td>       <th>  Df Model:          </th>  <td>    16</td>  \n",
       "</tr>\n",
       "<tr>\n",
       "  <th>Date:</th>            <td>Fri, 19 Aug 2022</td> <th>  Pseudo R-squ.:     </th>  <td>0.1924</td>  \n",
       "</tr>\n",
       "<tr>\n",
       "  <th>Time:</th>                <td>21:10:10</td>     <th>  Log-Likelihood:    </th> <td> -281.56</td> \n",
       "</tr>\n",
       "<tr>\n",
       "  <th>converged:</th>             <td>True</td>       <th>  LL-Null:           </th> <td> -348.64</td> \n",
       "</tr>\n",
       "<tr>\n",
       "  <th>Covariance Type:</th>     <td>nonrobust</td>    <th>  LLR p-value:       </th> <td>9.930e-21</td>\n",
       "</tr>\n",
       "</table>\n",
       "<table class=\"simpletable\">\n",
       "<tr>\n",
       "              <td></td>                <th>coef</th>     <th>std err</th>      <th>z</th>      <th>P>|z|</th>  <th>[0.025</th>    <th>0.975]</th>  \n",
       "</tr>\n",
       "<tr>\n",
       "  <th>const</th>                    <td>   -2.1383</td> <td>    2.649</td> <td>   -0.807</td> <td> 0.420</td> <td>   -7.331</td> <td>    3.054</td>\n",
       "</tr>\n",
       "<tr>\n",
       "  <th>price</th>                    <td>   -0.2741</td> <td>    0.033</td> <td>   -8.313</td> <td> 0.000</td> <td>   -0.339</td> <td>   -0.209</td>\n",
       "</tr>\n",
       "<tr>\n",
       "  <th>resid_area</th>               <td>    0.0192</td> <td>    0.027</td> <td>    0.720</td> <td> 0.471</td> <td>   -0.033</td> <td>    0.071</td>\n",
       "</tr>\n",
       "<tr>\n",
       "  <th>air_qual</th>                 <td>   -7.4183</td> <td>    2.691</td> <td>   -2.757</td> <td> 0.006</td> <td>  -12.693</td> <td>   -2.144</td>\n",
       "</tr>\n",
       "<tr>\n",
       "  <th>room_num</th>                 <td>    1.1067</td> <td>    0.277</td> <td>    4.001</td> <td> 0.000</td> <td>    0.565</td> <td>    1.649</td>\n",
       "</tr>\n",
       "<tr>\n",
       "  <th>age</th>                      <td>   -0.0020</td> <td>    0.007</td> <td>   -0.302</td> <td> 0.762</td> <td>   -0.015</td> <td>    0.011</td>\n",
       "</tr>\n",
       "<tr>\n",
       "  <th>teachers</th>                 <td>    0.3150</td> <td>    0.064</td> <td>    4.937</td> <td> 0.000</td> <td>    0.190</td> <td>    0.440</td>\n",
       "</tr>\n",
       "<tr>\n",
       "  <th>poor_prop</th>                <td>   -0.2077</td> <td>    0.034</td> <td>   -6.149</td> <td> 0.000</td> <td>   -0.274</td> <td>   -0.141</td>\n",
       "</tr>\n",
       "<tr>\n",
       "  <th>n_hos_beds</th>               <td>    0.1760</td> <td>    0.071</td> <td>    2.467</td> <td> 0.014</td> <td>    0.036</td> <td>    0.316</td>\n",
       "</tr>\n",
       "<tr>\n",
       "  <th>n_hot_rooms</th>              <td>   -0.0742</td> <td>    0.052</td> <td>   -1.439</td> <td> 0.150</td> <td>   -0.175</td> <td>    0.027</td>\n",
       "</tr>\n",
       "<tr>\n",
       "  <th>rainfall</th>                 <td>   -0.0033</td> <td>    0.008</td> <td>   -0.394</td> <td> 0.693</td> <td>   -0.020</td> <td>    0.013</td>\n",
       "</tr>\n",
       "<tr>\n",
       "  <th>parks</th>                    <td>   29.1089</td> <td>   24.177</td> <td>    1.204</td> <td> 0.229</td> <td>  -18.277</td> <td>   76.495</td>\n",
       "</tr>\n",
       "<tr>\n",
       "  <th>avg_dist</th>                 <td>   -0.4017</td> <td>    0.098</td> <td>   -4.118</td> <td> 0.000</td> <td>   -0.593</td> <td>   -0.211</td>\n",
       "</tr>\n",
       "<tr>\n",
       "  <th>airport_YES</th>              <td>   -0.1524</td> <td>    0.211</td> <td>   -0.723</td> <td> 0.469</td> <td>   -0.565</td> <td>    0.261</td>\n",
       "</tr>\n",
       "<tr>\n",
       "  <th>waterbody_Lake</th>           <td>   -0.1032</td> <td>    0.304</td> <td>   -0.340</td> <td> 0.734</td> <td>   -0.698</td> <td>    0.492</td>\n",
       "</tr>\n",
       "<tr>\n",
       "  <th>waterbody_Lake and River</th> <td>   -0.0626</td> <td>    0.328</td> <td>   -0.191</td> <td> 0.849</td> <td>   -0.705</td> <td>    0.580</td>\n",
       "</tr>\n",
       "<tr>\n",
       "  <th>waterbody_River</th>          <td>    0.2394</td> <td>    0.256</td> <td>    0.937</td> <td> 0.349</td> <td>   -0.262</td> <td>    0.740</td>\n",
       "</tr>\n",
       "</table>"
      ],
      "text/plain": [
       "<class 'statsmodels.iolib.summary.Summary'>\n",
       "\"\"\"\n",
       "                           Logit Regression Results                           \n",
       "==============================================================================\n",
       "Dep. Variable:                   Sold   No. Observations:                  506\n",
       "Model:                          Logit   Df Residuals:                      489\n",
       "Method:                           MLE   Df Model:                           16\n",
       "Date:                Fri, 19 Aug 2022   Pseudo R-squ.:                  0.1924\n",
       "Time:                        21:10:10   Log-Likelihood:                -281.56\n",
       "converged:                       True   LL-Null:                       -348.64\n",
       "Covariance Type:            nonrobust   LLR p-value:                 9.930e-21\n",
       "============================================================================================\n",
       "                               coef    std err          z      P>|z|      [0.025      0.975]\n",
       "--------------------------------------------------------------------------------------------\n",
       "const                       -2.1383      2.649     -0.807      0.420      -7.331       3.054\n",
       "price                       -0.2741      0.033     -8.313      0.000      -0.339      -0.209\n",
       "resid_area                   0.0192      0.027      0.720      0.471      -0.033       0.071\n",
       "air_qual                    -7.4183      2.691     -2.757      0.006     -12.693      -2.144\n",
       "room_num                     1.1067      0.277      4.001      0.000       0.565       1.649\n",
       "age                         -0.0020      0.007     -0.302      0.762      -0.015       0.011\n",
       "teachers                     0.3150      0.064      4.937      0.000       0.190       0.440\n",
       "poor_prop                   -0.2077      0.034     -6.149      0.000      -0.274      -0.141\n",
       "n_hos_beds                   0.1760      0.071      2.467      0.014       0.036       0.316\n",
       "n_hot_rooms                 -0.0742      0.052     -1.439      0.150      -0.175       0.027\n",
       "rainfall                    -0.0033      0.008     -0.394      0.693      -0.020       0.013\n",
       "parks                       29.1089     24.177      1.204      0.229     -18.277      76.495\n",
       "avg_dist                    -0.4017      0.098     -4.118      0.000      -0.593      -0.211\n",
       "airport_YES                 -0.1524      0.211     -0.723      0.469      -0.565       0.261\n",
       "waterbody_Lake              -0.1032      0.304     -0.340      0.734      -0.698       0.492\n",
       "waterbody_Lake and River    -0.0626      0.328     -0.191      0.849      -0.705       0.580\n",
       "waterbody_River              0.2394      0.256      0.937      0.349      -0.262       0.740\n",
       "============================================================================================\n",
       "\"\"\""
      ]
     },
     "execution_count": 141,
     "metadata": {},
     "output_type": "execute_result"
    }
   ],
   "source": [
    "logit.summary()"
   ]
  },
  {
   "cell_type": "markdown",
   "id": "8cb33f1c",
   "metadata": {},
   "source": [
    "# Confusion Matrix"
   ]
  },
  {
   "cell_type": "code",
   "execution_count": 142,
   "id": "e925bd23",
   "metadata": {},
   "outputs": [
    {
     "data": {
      "text/plain": [
       "array([[0.12706583, 0.87293417],\n",
       "       [0.39755228, 0.60244772],\n",
       "       [0.98072385, 0.01927615],\n",
       "       ...,\n",
       "       [0.28595354, 0.71404646],\n",
       "       [0.28062859, 0.71937141],\n",
       "       [0.16347382, 0.83652618]])"
      ]
     },
     "execution_count": 142,
     "metadata": {},
     "output_type": "execute_result"
    }
   ],
   "source": [
    "clf_lr.predict_proba(X)"
   ]
  },
  {
   "cell_type": "code",
   "execution_count": 143,
   "id": "c29e645b",
   "metadata": {},
   "outputs": [],
   "source": [
    "y_pred = clf_lr.predict(X)"
   ]
  },
  {
   "cell_type": "code",
   "execution_count": 144,
   "id": "b3968814",
   "metadata": {},
   "outputs": [
    {
     "data": {
      "text/plain": [
       "array([1, 1, 0, 0, 0, 0, 0, 0, 0, 0, 0, 1, 0, 0, 1, 1, 0, 0, 0, 1, 0, 0,\n",
       "       0, 0, 0, 0, 0, 0, 0, 1, 0, 1, 0, 0, 0, 1, 1, 1, 1, 0, 0, 1, 1, 0,\n",
       "       1, 1, 0, 0, 0, 0, 0, 1, 1, 1, 0, 0, 0, 0, 0, 0, 0, 0, 0, 0, 0, 1,\n",
       "       1, 0, 0, 0, 1, 1, 1, 0, 1, 1, 1, 1, 0, 1, 0, 0, 1, 1, 0, 1, 0, 1,\n",
       "       1, 1, 1, 1, 1, 1, 1, 1, 1, 0, 0, 0, 0, 1, 1, 0, 1, 0, 0, 0, 1, 0,\n",
       "       0, 1, 0, 1, 1, 1, 1, 1, 0, 1, 0, 1, 0, 0, 0, 0, 0, 0, 0, 0, 1, 1,\n",
       "       0, 0, 0, 0, 1, 1, 0, 0, 0, 0, 0, 0, 0, 0, 1, 0, 0, 1, 1, 1, 1, 1,\n",
       "       1, 1, 1, 0, 1, 1, 1, 0, 0, 0, 1, 1, 0, 1, 1, 1, 1, 1, 0, 1, 1, 1,\n",
       "       1, 1, 1, 0, 0, 0, 0, 0, 0, 0, 0, 1, 1, 1, 0, 1, 0, 1, 1, 0, 0, 0,\n",
       "       0, 0, 0, 1, 0, 0, 0, 0, 0, 0, 0, 0, 0, 0, 0, 0, 0, 0, 0, 0, 0, 1,\n",
       "       1, 0, 1, 1, 0, 0, 0, 1, 0, 0, 0, 1, 0, 0, 1, 0, 1, 1, 1, 1, 0, 0,\n",
       "       0, 1, 0, 0, 0, 0, 0, 0, 0, 1, 0, 0, 0, 0, 0, 0, 0, 1, 1, 0, 0, 1,\n",
       "       0, 1, 0, 0, 0, 1, 0, 1, 1, 0, 1, 1, 0, 0, 0, 1, 0, 0, 0, 0, 0, 1,\n",
       "       0, 1, 1, 0, 1, 0, 1, 1, 1, 1, 1, 0, 1, 1, 1, 1, 1, 0, 0, 0, 1, 1,\n",
       "       1, 1, 1, 1, 1, 1, 1, 1, 0, 0, 0, 1, 1, 1, 1, 0, 1, 1, 1, 0, 1, 1,\n",
       "       1, 1, 1, 1, 0, 0, 1, 1, 1, 1, 1, 0, 1, 1, 1, 0, 0, 0, 0, 0, 0, 0,\n",
       "       0, 0, 0, 0, 0, 0, 0, 0, 1, 0, 0, 1, 1, 0, 0, 0, 0, 0, 0, 0, 0, 0,\n",
       "       0, 1, 1, 1, 0, 1, 1, 1, 0, 0, 0, 0, 0, 0, 0, 0, 1, 0, 0, 1, 1, 1,\n",
       "       1, 1, 0, 0, 1, 1, 1, 1, 0, 1, 0, 0, 0, 0, 1, 0, 0, 0, 0, 1, 1, 0,\n",
       "       1, 1, 1, 1, 0, 0, 1, 0, 1, 1, 1, 1, 1, 1, 1, 1, 1, 1, 1, 1, 0, 0,\n",
       "       1, 0, 1, 1, 0, 0, 1, 1, 1, 1, 1, 1, 0, 1, 1, 1, 1, 1, 1, 0, 1, 1,\n",
       "       0, 1, 0, 0, 0, 0, 0, 0, 0, 0, 0, 0, 1, 0, 0, 0, 0, 0, 0, 1, 1, 0,\n",
       "       0, 1, 0, 1, 0, 1, 0, 0, 0, 0, 0, 0, 0, 0, 0, 1, 1, 1, 1, 1, 1, 1],\n",
       "      dtype=int64)"
      ]
     },
     "execution_count": 144,
     "metadata": {},
     "output_type": "execute_result"
    }
   ],
   "source": [
    "y_pred"
   ]
  },
  {
   "cell_type": "code",
   "execution_count": 145,
   "id": "74f5c7d3",
   "metadata": {},
   "outputs": [],
   "source": [
    "y_pred_03 = (clf_lr.predict_proba(X)[:,1]>=0.3).astype(bool)"
   ]
  },
  {
   "cell_type": "code",
   "execution_count": 146,
   "id": "bfcd1251",
   "metadata": {},
   "outputs": [
    {
     "data": {
      "text/plain": [
       "array([ True,  True, False,  True, False, False,  True, False, False,\n",
       "        True,  True,  True, False,  True,  True,  True,  True, False,\n",
       "        True,  True, False,  True, False, False,  True,  True,  True,\n",
       "        True,  True,  True, False,  True, False,  True,  True,  True,\n",
       "        True,  True,  True,  True,  True,  True,  True,  True,  True,\n",
       "        True,  True, False, False, False,  True,  True,  True,  True,\n",
       "       False, False, False, False,  True,  True,  True, False,  True,\n",
       "       False, False,  True,  True,  True,  True,  True,  True,  True,\n",
       "        True,  True,  True,  True,  True,  True,  True,  True,  True,\n",
       "        True,  True,  True,  True,  True,  True,  True,  True,  True,\n",
       "        True,  True,  True,  True,  True,  True,  True, False, False,\n",
       "        True,  True,  True,  True,  True,  True, False, False, False,\n",
       "        True,  True,  True,  True,  True,  True,  True,  True,  True,\n",
       "        True,  True,  True,  True,  True, False, False, False,  True,\n",
       "       False, False,  True,  True,  True,  True,  True,  True,  True,\n",
       "        True,  True,  True,  True,  True, False, False, False, False,\n",
       "       False,  True,  True, False, False,  True,  True,  True,  True,\n",
       "        True,  True,  True,  True, False,  True,  True,  True, False,\n",
       "       False, False,  True,  True, False,  True,  True,  True,  True,\n",
       "        True,  True,  True,  True,  True,  True,  True,  True,  True,\n",
       "       False, False, False, False, False, False, False,  True,  True,\n",
       "        True,  True,  True,  True,  True,  True, False,  True,  True,\n",
       "        True, False, False,  True, False, False, False,  True,  True,\n",
       "       False, False, False, False, False, False,  True, False,  True,\n",
       "        True,  True, False,  True,  True, False,  True,  True, False,\n",
       "       False,  True,  True, False,  True,  True,  True,  True, False,\n",
       "        True,  True,  True,  True,  True,  True,  True,  True,  True,\n",
       "        True, False, False, False,  True, False,  True,  True,  True,\n",
       "        True, False,  True,  True, False, False,  True,  True,  True,\n",
       "       False, False,  True,  True,  True,  True, False,  True,  True,\n",
       "       False,  True,  True, False,  True,  True,  True,  True,  True,\n",
       "        True, False,  True, False, False, False,  True, False,  True,\n",
       "        True,  True,  True, False,  True,  True,  True,  True,  True,\n",
       "       False,  True,  True,  True,  True,  True,  True, False,  True,\n",
       "        True,  True,  True,  True,  True,  True,  True,  True,  True,\n",
       "        True,  True,  True,  True,  True,  True,  True,  True,  True,\n",
       "        True,  True,  True, False,  True,  True,  True,  True,  True,\n",
       "        True,  True,  True,  True,  True,  True,  True,  True, False,\n",
       "        True,  True,  True,  True,  True,  True,  True, False,  True,\n",
       "       False,  True, False, False, False, False,  True, False,  True,\n",
       "        True,  True,  True,  True,  True, False, False, False, False,\n",
       "       False, False, False, False, False, False,  True,  True,  True,\n",
       "        True,  True,  True,  True,  True, False, False,  True, False,\n",
       "       False, False,  True,  True, False, False,  True,  True,  True,\n",
       "        True,  True,  True,  True,  True,  True,  True,  True,  True,\n",
       "        True, False, False, False, False,  True,  True, False, False,\n",
       "       False,  True,  True, False,  True,  True,  True,  True,  True,\n",
       "       False,  True,  True,  True,  True,  True,  True,  True,  True,\n",
       "        True,  True,  True,  True,  True,  True, False, False,  True,\n",
       "        True,  True,  True,  True,  True,  True,  True,  True,  True,\n",
       "        True,  True,  True,  True,  True,  True,  True,  True,  True,\n",
       "       False,  True,  True,  True,  True,  True,  True,  True, False,\n",
       "       False, False, False,  True, False, False,  True,  True,  True,\n",
       "       False,  True,  True,  True,  True,  True,  True,  True,  True,\n",
       "        True,  True, False,  True, False,  True,  True,  True,  True,\n",
       "       False, False,  True,  True,  True,  True,  True,  True,  True,\n",
       "        True,  True])"
      ]
     },
     "execution_count": 146,
     "metadata": {},
     "output_type": "execute_result"
    }
   ],
   "source": [
    "y_pred_03"
   ]
  },
  {
   "cell_type": "code",
   "execution_count": 147,
   "id": "5aec21a1",
   "metadata": {},
   "outputs": [],
   "source": [
    "from sklearn.metrics import confusion_matrix"
   ]
  },
  {
   "cell_type": "code",
   "execution_count": 148,
   "id": "383556c6",
   "metadata": {},
   "outputs": [
    {
     "data": {
      "text/plain": [
       "array([[196,  80],\n",
       "       [ 81, 149]], dtype=int64)"
      ]
     },
     "execution_count": 148,
     "metadata": {},
     "output_type": "execute_result"
    }
   ],
   "source": [
    "confusion_matrix(y,y_pred)"
   ]
  },
  {
   "cell_type": "code",
   "execution_count": 149,
   "id": "e329859a",
   "metadata": {},
   "outputs": [
    {
     "data": {
      "text/plain": [
       "array([[121, 155],\n",
       "       [ 18, 212]], dtype=int64)"
      ]
     },
     "execution_count": 149,
     "metadata": {},
     "output_type": "execute_result"
    }
   ],
   "source": [
    "confusion_matrix(y,y_pred_03)\n"
   ]
  },
  {
   "cell_type": "markdown",
   "id": "4127c778",
   "metadata": {},
   "source": [
    "# Performance Measures"
   ]
  },
  {
   "cell_type": "code",
   "execution_count": 150,
   "id": "873fad3e",
   "metadata": {},
   "outputs": [],
   "source": [
    "from sklearn.metrics import precision_score, recall_score"
   ]
  },
  {
   "cell_type": "code",
   "execution_count": 151,
   "id": "6395a033",
   "metadata": {},
   "outputs": [
    {
     "data": {
      "text/plain": [
       "0.6506550218340611"
      ]
     },
     "execution_count": 151,
     "metadata": {},
     "output_type": "execute_result"
    }
   ],
   "source": [
    "precision_score(y,y_pred)"
   ]
  },
  {
   "cell_type": "code",
   "execution_count": 152,
   "id": "4264fd9e",
   "metadata": {},
   "outputs": [
    {
     "data": {
      "text/plain": [
       "0.6478260869565218"
      ]
     },
     "execution_count": 152,
     "metadata": {},
     "output_type": "execute_result"
    }
   ],
   "source": [
    "recall_score(y,y_pred)"
   ]
  },
  {
   "cell_type": "code",
   "execution_count": 153,
   "id": "5579be9d",
   "metadata": {},
   "outputs": [],
   "source": [
    "from sklearn.metrics import roc_auc_score"
   ]
  },
  {
   "cell_type": "code",
   "execution_count": 154,
   "id": "38e70540",
   "metadata": {},
   "outputs": [
    {
     "data": {
      "text/plain": [
       "0.6789855072463769"
      ]
     },
     "execution_count": 154,
     "metadata": {},
     "output_type": "execute_result"
    }
   ],
   "source": [
    "roc_auc_score(y,y_pred)"
   ]
  },
  {
   "cell_type": "markdown",
   "id": "834de7d3",
   "metadata": {},
   "source": [
    "# Linear Discriminant Analysis"
   ]
  },
  {
   "cell_type": "code",
   "execution_count": 155,
   "id": "74faab8e",
   "metadata": {},
   "outputs": [],
   "source": [
    "from sklearn.discriminant_analysis import LinearDiscriminantAnalysis"
   ]
  },
  {
   "cell_type": "code",
   "execution_count": 156,
   "id": "24a1c6d0",
   "metadata": {},
   "outputs": [],
   "source": [
    "clf_lda = LinearDiscriminantAnalysis()"
   ]
  },
  {
   "cell_type": "code",
   "execution_count": 157,
   "id": "0b222471",
   "metadata": {},
   "outputs": [
    {
     "data": {
      "text/plain": [
       "LinearDiscriminantAnalysis()"
      ]
     },
     "execution_count": 157,
     "metadata": {},
     "output_type": "execute_result"
    }
   ],
   "source": [
    "clf_lda.fit(X,y)"
   ]
  },
  {
   "cell_type": "code",
   "execution_count": 158,
   "id": "c2a3ef22",
   "metadata": {},
   "outputs": [],
   "source": [
    "y_pred_lda = clf_lda.predict(X)"
   ]
  },
  {
   "cell_type": "code",
   "execution_count": 159,
   "id": "d5904c0d",
   "metadata": {},
   "outputs": [
    {
     "data": {
      "text/plain": [
       "array([1, 1, 0, 0, 0, 0, 0, 0, 0, 0, 0, 1, 0, 0, 1, 1, 0, 0, 0, 1, 0, 0,\n",
       "       0, 0, 0, 0, 0, 0, 0, 0, 0, 1, 0, 0, 0, 1, 1, 1, 0, 0, 0, 1, 1, 0,\n",
       "       1, 1, 0, 0, 0, 0, 0, 1, 1, 1, 0, 0, 0, 0, 0, 0, 0, 0, 0, 0, 0, 1,\n",
       "       1, 0, 1, 0, 1, 1, 1, 0, 1, 1, 1, 1, 0, 1, 0, 0, 1, 0, 0, 1, 0, 1,\n",
       "       1, 1, 1, 1, 1, 1, 1, 1, 1, 0, 0, 1, 0, 0, 1, 0, 1, 0, 0, 0, 1, 1,\n",
       "       0, 1, 1, 1, 1, 1, 1, 1, 1, 1, 1, 1, 1, 0, 1, 1, 0, 0, 1, 0, 1, 1,\n",
       "       0, 0, 1, 1, 1, 1, 1, 0, 0, 0, 0, 0, 0, 0, 1, 0, 0, 0, 1, 1, 1, 0,\n",
       "       1, 1, 1, 0, 1, 1, 1, 0, 0, 0, 1, 1, 0, 1, 1, 1, 1, 1, 1, 1, 1, 1,\n",
       "       1, 1, 1, 0, 0, 0, 0, 0, 0, 0, 0, 1, 1, 1, 0, 1, 0, 1, 1, 0, 0, 0,\n",
       "       0, 0, 0, 1, 0, 0, 0, 1, 0, 0, 0, 0, 0, 0, 0, 0, 0, 0, 0, 1, 0, 1,\n",
       "       1, 0, 1, 1, 0, 0, 0, 1, 0, 0, 0, 1, 0, 0, 1, 1, 1, 1, 1, 1, 0, 1,\n",
       "       0, 1, 0, 0, 0, 1, 0, 0, 0, 1, 0, 0, 0, 0, 0, 0, 0, 1, 1, 0, 0, 0,\n",
       "       0, 1, 0, 0, 0, 1, 0, 1, 1, 0, 1, 1, 0, 0, 1, 1, 0, 0, 0, 0, 0, 1,\n",
       "       0, 1, 1, 0, 1, 0, 1, 1, 1, 1, 1, 0, 1, 1, 1, 1, 0, 1, 0, 0, 1, 1,\n",
       "       1, 1, 1, 1, 1, 1, 1, 1, 0, 0, 0, 1, 1, 0, 1, 0, 1, 0, 1, 0, 1, 1,\n",
       "       1, 1, 1, 1, 0, 0, 0, 1, 1, 0, 0, 0, 1, 1, 1, 0, 0, 0, 0, 0, 0, 0,\n",
       "       0, 0, 0, 0, 0, 0, 0, 0, 0, 0, 0, 0, 1, 0, 0, 0, 0, 0, 0, 0, 0, 0,\n",
       "       0, 1, 1, 1, 0, 1, 1, 1, 0, 0, 0, 0, 0, 0, 0, 0, 1, 0, 0, 1, 1, 1,\n",
       "       1, 1, 0, 0, 1, 1, 1, 1, 0, 1, 0, 0, 0, 0, 1, 1, 0, 0, 0, 1, 1, 0,\n",
       "       1, 1, 0, 1, 0, 0, 1, 0, 1, 1, 1, 1, 1, 1, 1, 1, 1, 1, 1, 1, 0, 0,\n",
       "       1, 0, 1, 0, 0, 0, 1, 1, 1, 1, 1, 1, 0, 1, 0, 1, 0, 1, 0, 0, 1, 1,\n",
       "       0, 1, 0, 0, 0, 0, 0, 0, 0, 1, 0, 0, 1, 1, 0, 0, 0, 1, 1, 1, 1, 0,\n",
       "       0, 0, 0, 1, 0, 1, 0, 1, 1, 0, 0, 0, 0, 0, 0, 1, 0, 1, 1, 1, 1, 1],\n",
       "      dtype=int64)"
      ]
     },
     "execution_count": 159,
     "metadata": {},
     "output_type": "execute_result"
    }
   ],
   "source": [
    "y_pred_lda"
   ]
  },
  {
   "cell_type": "code",
   "execution_count": 160,
   "id": "336b186c",
   "metadata": {},
   "outputs": [
    {
     "data": {
      "text/plain": [
       "array([[192,  84],\n",
       "       [ 79, 151]], dtype=int64)"
      ]
     },
     "execution_count": 160,
     "metadata": {},
     "output_type": "execute_result"
    }
   ],
   "source": [
    "confusion_matrix(y,y_pred_lda)"
   ]
  },
  {
   "cell_type": "markdown",
   "id": "488a9b85",
   "metadata": {},
   "source": [
    "# K-Nearest Neighbors"
   ]
  },
  {
   "cell_type": "code",
   "execution_count": 161,
   "id": "f8bd2dd5",
   "metadata": {},
   "outputs": [],
   "source": [
    "from sklearn.model_selection import train_test_split"
   ]
  },
  {
   "cell_type": "code",
   "execution_count": 162,
   "id": "46e3b609",
   "metadata": {},
   "outputs": [],
   "source": [
    "from sklearn.linear_model import LogisticRegression"
   ]
  },
  {
   "cell_type": "code",
   "execution_count": 163,
   "id": "a6f2b3af",
   "metadata": {},
   "outputs": [],
   "source": [
    "X_train, X_test, y_train, y_test = train_test_split(X, y, test_size = 0.2, random_state = 0)"
   ]
  },
  {
   "cell_type": "code",
   "execution_count": 164,
   "id": "3f7c29ea",
   "metadata": {},
   "outputs": [
    {
     "name": "stdout",
     "output_type": "stream",
     "text": [
      "(404, 16) (102, 16) (404,) (102,)\n"
     ]
    }
   ],
   "source": [
    "print(X_train.shape, X_test.shape, y_train.shape, y_test.shape)"
   ]
  },
  {
   "cell_type": "code",
   "execution_count": 165,
   "id": "e6f13621",
   "metadata": {},
   "outputs": [],
   "source": [
    "clf_LR = LogisticRegression()"
   ]
  },
  {
   "cell_type": "code",
   "execution_count": 166,
   "id": "e8d6c0c6",
   "metadata": {},
   "outputs": [
    {
     "name": "stderr",
     "output_type": "stream",
     "text": [
      "C:\\Users\\201b1\\anaconda3\\lib\\site-packages\\sklearn\\linear_model\\_logistic.py:814: ConvergenceWarning: lbfgs failed to converge (status=1):\n",
      "STOP: TOTAL NO. of ITERATIONS REACHED LIMIT.\n",
      "\n",
      "Increase the number of iterations (max_iter) or scale the data as shown in:\n",
      "    https://scikit-learn.org/stable/modules/preprocessing.html\n",
      "Please also refer to the documentation for alternative solver options:\n",
      "    https://scikit-learn.org/stable/modules/linear_model.html#logistic-regression\n",
      "  n_iter_i = _check_optimize_result(\n"
     ]
    },
    {
     "data": {
      "text/plain": [
       "LogisticRegression()"
      ]
     },
     "execution_count": 166,
     "metadata": {},
     "output_type": "execute_result"
    }
   ],
   "source": [
    "clf_LR.fit(X_train,y_train)"
   ]
  },
  {
   "cell_type": "code",
   "execution_count": 167,
   "id": "8bbef2ac",
   "metadata": {},
   "outputs": [],
   "source": [
    "y_test_pred = clf_LR.predict(X_test)"
   ]
  },
  {
   "cell_type": "code",
   "execution_count": 168,
   "id": "0e367246",
   "metadata": {},
   "outputs": [],
   "source": [
    "from sklearn.metrics import accuracy_score, confusion_matrix"
   ]
  },
  {
   "cell_type": "code",
   "execution_count": 169,
   "id": "c4fb1529",
   "metadata": {},
   "outputs": [
    {
     "data": {
      "text/plain": [
       "array([[37, 21],\n",
       "       [14, 30]], dtype=int64)"
      ]
     },
     "execution_count": 169,
     "metadata": {},
     "output_type": "execute_result"
    }
   ],
   "source": [
    "confusion_matrix(y_test, y_test_pred)"
   ]
  },
  {
   "cell_type": "code",
   "execution_count": 170,
   "id": "9cdc0d34",
   "metadata": {},
   "outputs": [
    {
     "data": {
      "text/plain": [
       "0.6568627450980392"
      ]
     },
     "execution_count": 170,
     "metadata": {},
     "output_type": "execute_result"
    }
   ],
   "source": [
    "accuracy_score(y_test, y_test_pred)"
   ]
  },
  {
   "cell_type": "code",
   "execution_count": 171,
   "id": "0152db60",
   "metadata": {},
   "outputs": [],
   "source": [
    "from sklearn import preprocessing"
   ]
  },
  {
   "cell_type": "code",
   "execution_count": 172,
   "id": "0d330592",
   "metadata": {},
   "outputs": [],
   "source": [
    "scaler = preprocessing.StandardScaler().fit(X_train)"
   ]
  },
  {
   "cell_type": "code",
   "execution_count": 173,
   "id": "d37c66a5",
   "metadata": {},
   "outputs": [],
   "source": [
    "X_train_s = scaler.transform(X_train)"
   ]
  },
  {
   "cell_type": "code",
   "execution_count": 174,
   "id": "413c6c63",
   "metadata": {},
   "outputs": [
    {
     "data": {
      "text/plain": [
       "array([[ 0.44572353, -0.70492455, -0.42487874, ..., -0.48525664,\n",
       "        -0.40529635,  1.3293319 ],\n",
       "       [-0.09643431, -0.04487755, -1.24185891, ..., -0.48525664,\n",
       "         2.4673304 , -0.75225758],\n",
       "       [ 0.478253  , -0.88675963, -1.11148974, ..., -0.48525664,\n",
       "        -0.40529635, -0.75225758],\n",
       "       ...,\n",
       "       [-0.36751323, -0.15941933, -0.0772276 , ..., -0.48525664,\n",
       "         2.4673304 , -0.75225758],\n",
       "       [-0.64943531, -0.60326872, -0.93766417, ..., -0.48525664,\n",
       "        -0.40529635,  1.3293319 ],\n",
       "       [ 0.05536988, -1.01275558, -0.3988049 , ..., -0.48525664,\n",
       "        -0.40529635,  1.3293319 ]])"
      ]
     },
     "execution_count": 174,
     "metadata": {},
     "output_type": "execute_result"
    }
   ],
   "source": [
    "X_train_s"
   ]
  },
  {
   "cell_type": "code",
   "execution_count": 175,
   "id": "b979126e",
   "metadata": {},
   "outputs": [],
   "source": [
    "scaler = preprocessing.StandardScaler().fit(X_test)"
   ]
  },
  {
   "cell_type": "code",
   "execution_count": 176,
   "id": "18ccab0c",
   "metadata": {},
   "outputs": [],
   "source": [
    "X_test_s = scaler.transform(X_test)"
   ]
  },
  {
   "cell_type": "code",
   "execution_count": 177,
   "id": "dc20ed3a",
   "metadata": {},
   "outputs": [
    {
     "data": {
      "text/plain": [
       "array([[ 3.46427198e-02, -1.26009787e+00, -7.59976330e-01, ...,\n",
       "        -4.93864798e-01, -3.98862018e-01, -7.54473836e-01],\n",
       "       [ 3.08888478e+00,  1.09537107e+00,  6.84309089e-01, ...,\n",
       "        -4.93864798e-01, -3.98862018e-01, -7.54473836e-01],\n",
       "       [ 7.92301952e-02,  4.28041039e-01,  1.73890573e-04, ...,\n",
       "        -4.93864798e-01, -3.98862018e-01, -7.54473836e-01],\n",
       "       ...,\n",
       "       [-4.00085165e-01, -9.60512654e-01, -8.19099125e-01, ...,\n",
       "        -4.93864798e-01, -3.98862018e-01,  1.32542701e+00],\n",
       "       [ 6.47720506e-01, -9.50442563e-02, -5.15039037e-01, ...,\n",
       "        -4.93864798e-01, -3.98862018e-01, -7.54473836e-01],\n",
       "       [-2.77469608e-01, -4.16820968e-01, -2.53209516e-01, ...,\n",
       "        -4.93864798e-01,  2.50713268e+00, -7.54473836e-01]])"
      ]
     },
     "execution_count": 177,
     "metadata": {},
     "output_type": "execute_result"
    }
   ],
   "source": [
    "X_test_s"
   ]
  },
  {
   "cell_type": "code",
   "execution_count": 178,
   "id": "d61071ed",
   "metadata": {},
   "outputs": [],
   "source": [
    "from sklearn.neighbors import KNeighborsClassifier"
   ]
  },
  {
   "cell_type": "code",
   "execution_count": 179,
   "id": "7807be5c",
   "metadata": {},
   "outputs": [],
   "source": [
    "clf_knn_1 = KNeighborsClassifier(n_neighbors=1)"
   ]
  },
  {
   "cell_type": "code",
   "execution_count": 180,
   "id": "c943ba51",
   "metadata": {},
   "outputs": [
    {
     "data": {
      "text/plain": [
       "KNeighborsClassifier(n_neighbors=1)"
      ]
     },
     "execution_count": 180,
     "metadata": {},
     "output_type": "execute_result"
    }
   ],
   "source": [
    "clf_knn_1.fit(X_train_s, y_train)"
   ]
  },
  {
   "cell_type": "code",
   "execution_count": 181,
   "id": "5c4f3cd9",
   "metadata": {},
   "outputs": [
    {
     "data": {
      "text/plain": [
       "array([[30, 28],\n",
       "       [19, 25]], dtype=int64)"
      ]
     },
     "execution_count": 181,
     "metadata": {},
     "output_type": "execute_result"
    }
   ],
   "source": [
    "confusion_matrix(y_test, clf_knn_1.predict(X_test_s))"
   ]
  },
  {
   "cell_type": "code",
   "execution_count": 182,
   "id": "9423fc69",
   "metadata": {},
   "outputs": [
    {
     "data": {
      "text/plain": [
       "0.5392156862745098"
      ]
     },
     "execution_count": 182,
     "metadata": {},
     "output_type": "execute_result"
    }
   ],
   "source": [
    "accuracy_score(y_test, clf_knn_1.predict(X_test_s))"
   ]
  },
  {
   "cell_type": "code",
   "execution_count": 183,
   "id": "af4c650a",
   "metadata": {},
   "outputs": [],
   "source": [
    "clf_knn_3 = KNeighborsClassifier(n_neighbors=3)"
   ]
  },
  {
   "cell_type": "code",
   "execution_count": 184,
   "id": "508d749c",
   "metadata": {},
   "outputs": [
    {
     "data": {
      "text/plain": [
       "KNeighborsClassifier(n_neighbors=3)"
      ]
     },
     "execution_count": 184,
     "metadata": {},
     "output_type": "execute_result"
    }
   ],
   "source": [
    "clf_knn_3.fit(X_train_s, y_train)"
   ]
  },
  {
   "cell_type": "code",
   "execution_count": 185,
   "id": "f17ac243",
   "metadata": {},
   "outputs": [
    {
     "data": {
      "text/plain": [
       "0.5392156862745098"
      ]
     },
     "execution_count": 185,
     "metadata": {},
     "output_type": "execute_result"
    }
   ],
   "source": [
    "accuracy_score(y_test, clf_knn_3.predict(X_test_s))"
   ]
  },
  {
   "cell_type": "code",
   "execution_count": 186,
   "id": "c5043140",
   "metadata": {},
   "outputs": [],
   "source": [
    "from sklearn.model_selection import GridSearchCV"
   ]
  },
  {
   "cell_type": "code",
   "execution_count": 187,
   "id": "b31f0b62",
   "metadata": {},
   "outputs": [],
   "source": [
    "params = {'n_neighbors':[1,2,3,4,5,6,7,8,9,10]}"
   ]
  },
  {
   "cell_type": "code",
   "execution_count": 188,
   "id": "08846905",
   "metadata": {},
   "outputs": [],
   "source": [
    "grid_search_cv = GridSearchCV(KNeighborsClassifier(), params)"
   ]
  },
  {
   "cell_type": "code",
   "execution_count": 189,
   "id": "2c711ae1",
   "metadata": {},
   "outputs": [
    {
     "data": {
      "text/plain": [
       "GridSearchCV(estimator=KNeighborsClassifier(),\n",
       "             param_grid={'n_neighbors': [1, 2, 3, 4, 5, 6, 7, 8, 9, 10]})"
      ]
     },
     "execution_count": 189,
     "metadata": {},
     "output_type": "execute_result"
    }
   ],
   "source": [
    "grid_search_cv.fit(X_train_s, y_train)"
   ]
  },
  {
   "cell_type": "code",
   "execution_count": 190,
   "id": "592234c6",
   "metadata": {},
   "outputs": [
    {
     "data": {
      "text/plain": [
       "{'n_neighbors': 9}"
      ]
     },
     "execution_count": 190,
     "metadata": {},
     "output_type": "execute_result"
    }
   ],
   "source": [
    "grid_search_cv.best_params_"
   ]
  },
  {
   "cell_type": "code",
   "execution_count": 191,
   "id": "71a2920f",
   "metadata": {},
   "outputs": [],
   "source": [
    "optimised_KNN = grid_search_cv.best_estimator_"
   ]
  },
  {
   "cell_type": "code",
   "execution_count": 192,
   "id": "b0844de7",
   "metadata": {},
   "outputs": [],
   "source": [
    "y_test_pred = optimised_KNN.predict(X_test_s)"
   ]
  },
  {
   "cell_type": "code",
   "execution_count": 193,
   "id": "743ec92a",
   "metadata": {},
   "outputs": [
    {
     "data": {
      "text/plain": [
       "array([[36, 22],\n",
       "       [18, 26]], dtype=int64)"
      ]
     },
     "execution_count": 193,
     "metadata": {},
     "output_type": "execute_result"
    }
   ],
   "source": [
    "confusion_matrix(y_test,y_test_pred)"
   ]
  },
  {
   "cell_type": "code",
   "execution_count": 194,
   "id": "012ac3d8",
   "metadata": {},
   "outputs": [
    {
     "data": {
      "text/plain": [
       "0.6078431372549019"
      ]
     },
     "execution_count": 194,
     "metadata": {},
     "output_type": "execute_result"
    }
   ],
   "source": [
    "accuracy_score(y_test,y_test_pred)"
   ]
  },
  {
   "cell_type": "code",
   "execution_count": null,
   "id": "d46d07bb",
   "metadata": {},
   "outputs": [],
   "source": []
  },
  {
   "cell_type": "code",
   "execution_count": null,
   "id": "95716603",
   "metadata": {},
   "outputs": [],
   "source": []
  },
  {
   "cell_type": "code",
   "execution_count": null,
   "id": "7ab5648c",
   "metadata": {},
   "outputs": [],
   "source": []
  },
  {
   "cell_type": "code",
   "execution_count": null,
   "id": "90bc45b2",
   "metadata": {},
   "outputs": [],
   "source": []
  }
 ],
 "metadata": {
  "kernelspec": {
   "display_name": "Python 3 (ipykernel)",
   "language": "python",
   "name": "python3"
  },
  "language_info": {
   "codemirror_mode": {
    "name": "ipython",
    "version": 3
   },
   "file_extension": ".py",
   "mimetype": "text/x-python",
   "name": "python",
   "nbconvert_exporter": "python",
   "pygments_lexer": "ipython3",
   "version": "3.9.12"
  }
 },
 "nbformat": 4,
 "nbformat_minor": 5
}
